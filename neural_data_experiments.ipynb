{
 "cells": [
  {
   "cell_type": "code",
   "execution_count": 1,
   "metadata": {},
   "outputs": [],
   "source": [
    "# Import our dependencies\n",
    "from sklearn.model_selection import train_test_split\n",
    "from sklearn.preprocessing import StandardScaler\n",
    "from sklearn.ensemble import RandomForestClassifier\n",
    "from sklearn.metrics import accuracy_score\n",
    "from sklearn.preprocessing import OneHotEncoder\n",
    "import pandas as pd\n",
    "import tensorflow as tf\n",
    "from tensorflow.keras.callbacks import ModelCheckpoint\n",
    "import os"
   ]
  },
  {
   "cell_type": "code",
   "execution_count": 2,
   "metadata": {},
   "outputs": [],
   "source": [
    "file_path = os.path.join('Resources', 'charity_data.csv')"
   ]
  },
  {
   "cell_type": "code",
   "execution_count": 3,
   "metadata": {},
   "outputs": [
    {
     "data": {
      "text/html": [
       "<div>\n",
       "<style scoped>\n",
       "    .dataframe tbody tr th:only-of-type {\n",
       "        vertical-align: middle;\n",
       "    }\n",
       "\n",
       "    .dataframe tbody tr th {\n",
       "        vertical-align: top;\n",
       "    }\n",
       "\n",
       "    .dataframe thead th {\n",
       "        text-align: right;\n",
       "    }\n",
       "</style>\n",
       "<table border=\"1\" class=\"dataframe\">\n",
       "  <thead>\n",
       "    <tr style=\"text-align: right;\">\n",
       "      <th></th>\n",
       "      <th>EIN</th>\n",
       "      <th>NAME</th>\n",
       "      <th>APPLICATION_TYPE</th>\n",
       "      <th>AFFILIATION</th>\n",
       "      <th>CLASSIFICATION</th>\n",
       "      <th>USE_CASE</th>\n",
       "      <th>ORGANIZATION</th>\n",
       "      <th>STATUS</th>\n",
       "      <th>INCOME_AMT</th>\n",
       "      <th>SPECIAL_CONSIDERATIONS</th>\n",
       "      <th>ASK_AMT</th>\n",
       "      <th>IS_SUCCESSFUL</th>\n",
       "    </tr>\n",
       "  </thead>\n",
       "  <tbody>\n",
       "    <tr>\n",
       "      <th>0</th>\n",
       "      <td>10520599</td>\n",
       "      <td>BLUE KNIGHTS MOTORCYCLE CLUB</td>\n",
       "      <td>T10</td>\n",
       "      <td>Independent</td>\n",
       "      <td>C1000</td>\n",
       "      <td>ProductDev</td>\n",
       "      <td>Association</td>\n",
       "      <td>1</td>\n",
       "      <td>0</td>\n",
       "      <td>N</td>\n",
       "      <td>5000</td>\n",
       "      <td>1</td>\n",
       "    </tr>\n",
       "    <tr>\n",
       "      <th>1</th>\n",
       "      <td>10531628</td>\n",
       "      <td>AMERICAN CHESAPEAKE CLUB CHARITABLE TR</td>\n",
       "      <td>T3</td>\n",
       "      <td>Independent</td>\n",
       "      <td>C2000</td>\n",
       "      <td>Preservation</td>\n",
       "      <td>Co-operative</td>\n",
       "      <td>1</td>\n",
       "      <td>1-9999</td>\n",
       "      <td>N</td>\n",
       "      <td>108590</td>\n",
       "      <td>1</td>\n",
       "    </tr>\n",
       "    <tr>\n",
       "      <th>2</th>\n",
       "      <td>10547893</td>\n",
       "      <td>ST CLOUD PROFESSIONAL FIREFIGHTERS</td>\n",
       "      <td>T5</td>\n",
       "      <td>CompanySponsored</td>\n",
       "      <td>C3000</td>\n",
       "      <td>ProductDev</td>\n",
       "      <td>Association</td>\n",
       "      <td>1</td>\n",
       "      <td>0</td>\n",
       "      <td>N</td>\n",
       "      <td>5000</td>\n",
       "      <td>0</td>\n",
       "    </tr>\n",
       "    <tr>\n",
       "      <th>3</th>\n",
       "      <td>10553066</td>\n",
       "      <td>SOUTHSIDE ATHLETIC ASSOCIATION</td>\n",
       "      <td>T3</td>\n",
       "      <td>CompanySponsored</td>\n",
       "      <td>C2000</td>\n",
       "      <td>Preservation</td>\n",
       "      <td>Trust</td>\n",
       "      <td>1</td>\n",
       "      <td>10000-24999</td>\n",
       "      <td>N</td>\n",
       "      <td>6692</td>\n",
       "      <td>1</td>\n",
       "    </tr>\n",
       "    <tr>\n",
       "      <th>4</th>\n",
       "      <td>10556103</td>\n",
       "      <td>GENETIC RESEARCH INSTITUTE OF THE DESERT</td>\n",
       "      <td>T3</td>\n",
       "      <td>Independent</td>\n",
       "      <td>C1000</td>\n",
       "      <td>Heathcare</td>\n",
       "      <td>Trust</td>\n",
       "      <td>1</td>\n",
       "      <td>100000-499999</td>\n",
       "      <td>N</td>\n",
       "      <td>142590</td>\n",
       "      <td>1</td>\n",
       "    </tr>\n",
       "  </tbody>\n",
       "</table>\n",
       "</div>"
      ],
      "text/plain": [
       "        EIN                                      NAME APPLICATION_TYPE  \\\n",
       "0  10520599              BLUE KNIGHTS MOTORCYCLE CLUB              T10   \n",
       "1  10531628    AMERICAN CHESAPEAKE CLUB CHARITABLE TR               T3   \n",
       "2  10547893        ST CLOUD PROFESSIONAL FIREFIGHTERS               T5   \n",
       "3  10553066            SOUTHSIDE ATHLETIC ASSOCIATION               T3   \n",
       "4  10556103  GENETIC RESEARCH INSTITUTE OF THE DESERT               T3   \n",
       "\n",
       "        AFFILIATION CLASSIFICATION      USE_CASE  ORGANIZATION  STATUS  \\\n",
       "0       Independent          C1000    ProductDev   Association       1   \n",
       "1       Independent          C2000  Preservation  Co-operative       1   \n",
       "2  CompanySponsored          C3000    ProductDev   Association       1   \n",
       "3  CompanySponsored          C2000  Preservation         Trust       1   \n",
       "4       Independent          C1000     Heathcare         Trust       1   \n",
       "\n",
       "      INCOME_AMT SPECIAL_CONSIDERATIONS  ASK_AMT  IS_SUCCESSFUL  \n",
       "0              0                      N     5000              1  \n",
       "1         1-9999                      N   108590              1  \n",
       "2              0                      N     5000              0  \n",
       "3    10000-24999                      N     6692              1  \n",
       "4  100000-499999                      N   142590              1  "
      ]
     },
     "execution_count": 3,
     "metadata": {},
     "output_type": "execute_result"
    }
   ],
   "source": [
    "charity_df = pd.read_csv(file_path)\n",
    "charity_df.head()"
   ]
  },
  {
   "cell_type": "markdown",
   "metadata": {},
   "source": [
    "## Exploration and Preprocessing"
   ]
  },
  {
   "cell_type": "code",
   "execution_count": 4,
   "metadata": {},
   "outputs": [
    {
     "data": {
      "text/plain": [
       "EIN                       34299\n",
       "NAME                      19568\n",
       "APPLICATION_TYPE             17\n",
       "AFFILIATION                   6\n",
       "CLASSIFICATION               71\n",
       "USE_CASE                      5\n",
       "ORGANIZATION                  4\n",
       "STATUS                        2\n",
       "INCOME_AMT                    9\n",
       "SPECIAL_CONSIDERATIONS        2\n",
       "ASK_AMT                    8747\n",
       "IS_SUCCESSFUL                 2\n",
       "dtype: int64"
      ]
     },
     "execution_count": 4,
     "metadata": {},
     "output_type": "execute_result"
    }
   ],
   "source": [
    "# Explore objects in data set\n",
    "# First pull objects index for each column and save to list\n",
    "categories = charity_df.dtypes[(charity_df.dtypes == 'object') | (charity_df.dtypes == 'int64')].index.tolist()\n",
    "\n",
    "# Use list of object indexes to indentify unique values in charity_df\n",
    "charity_df[categories].nunique()"
   ]
  },
  {
   "cell_type": "code",
   "execution_count": 5,
   "metadata": {},
   "outputs": [
    {
     "data": {
      "text/plain": [
       "EIN                        int64\n",
       "NAME                      object\n",
       "APPLICATION_TYPE          object\n",
       "AFFILIATION               object\n",
       "CLASSIFICATION            object\n",
       "USE_CASE                  object\n",
       "ORGANIZATION              object\n",
       "STATUS                     int64\n",
       "INCOME_AMT                object\n",
       "SPECIAL_CONSIDERATIONS    object\n",
       "ASK_AMT                    int64\n",
       "IS_SUCCESSFUL              int64\n",
       "dtype: object"
      ]
     },
     "execution_count": 5,
     "metadata": {},
     "output_type": "execute_result"
    }
   ],
   "source": [
    "charity_df.dtypes"
   ]
  },
  {
   "cell_type": "markdown",
   "metadata": {},
   "source": [
    "Exploring the data:\n",
    "- EIN - will be used as index\n",
    "- NAME - copy to new df keeping EIN as index and drop name column in charity_df.\n",
    "- APPLICATION_TYPE - explore to identify whether the data can be combined.\n",
    "- AFFILIATION - check values\n",
    "- CLASSIFICATION - ascertain whether specific classifications can be grouped.\n",
    "- USE_CASE - identify use cases to determin validity of dimension.\n",
    "- ORGANIZATION - Identify organizations and validate whether dimension is required.\n",
    "- STATUS - Drop applications with active status since outcome will no be known and may skew training/testing data.\n",
    "- INCOME_AMT \n",
    "- SPECIAL CONSIDERATIONS -  explore further...could be changed to boolean instead of y/n, however, firther analysis required to ascertain whether it can be dropped all together.\n",
    "- ASK_AMT - check for null values.\n",
    "- IS_SUCCESSFUL - target already boolen - need to identify which boolean represents succssful use of money."
   ]
  },
  {
   "cell_type": "markdown",
   "metadata": {},
   "source": [
    "### EIN"
   ]
  },
  {
   "cell_type": "code",
   "execution_count": 6,
   "metadata": {},
   "outputs": [
    {
     "data": {
      "text/plain": [
       "EIN                       34299\n",
       "NAME                      34299\n",
       "APPLICATION_TYPE          34299\n",
       "AFFILIATION               34299\n",
       "CLASSIFICATION            34299\n",
       "USE_CASE                  34299\n",
       "ORGANIZATION              34299\n",
       "STATUS                    34299\n",
       "INCOME_AMT                34299\n",
       "SPECIAL_CONSIDERATIONS    34299\n",
       "ASK_AMT                   34299\n",
       "IS_SUCCESSFUL             34299\n",
       "dtype: int64"
      ]
     },
     "execution_count": 6,
     "metadata": {},
     "output_type": "execute_result"
    }
   ],
   "source": [
    "# Check counts\n",
    "charity_df.count()"
   ]
  },
  {
   "cell_type": "code",
   "execution_count": 7,
   "metadata": {},
   "outputs": [
    {
     "data": {
      "text/plain": [
       "34299"
      ]
     },
     "execution_count": 7,
     "metadata": {},
     "output_type": "execute_result"
    }
   ],
   "source": [
    "# Check number of unique values\n",
    "charity_df['EIN'].nunique()"
   ]
  },
  {
   "cell_type": "code",
   "execution_count": 8,
   "metadata": {},
   "outputs": [
    {
     "data": {
      "text/plain": [
       "0"
      ]
     },
     "execution_count": 8,
     "metadata": {},
     "output_type": "execute_result"
    }
   ],
   "source": [
    "# Double check for duplicates before making EIN index\n",
    "charity_df['EIN'].duplicated().sum()"
   ]
  },
  {
   "cell_type": "code",
   "execution_count": 9,
   "metadata": {},
   "outputs": [],
   "source": [
    "# Set EIN as index\n",
    "charity_df = charity_df.set_index('EIN')"
   ]
  },
  {
   "cell_type": "code",
   "execution_count": 10,
   "metadata": {},
   "outputs": [
    {
     "data": {
      "text/html": [
       "<div>\n",
       "<style scoped>\n",
       "    .dataframe tbody tr th:only-of-type {\n",
       "        vertical-align: middle;\n",
       "    }\n",
       "\n",
       "    .dataframe tbody tr th {\n",
       "        vertical-align: top;\n",
       "    }\n",
       "\n",
       "    .dataframe thead th {\n",
       "        text-align: right;\n",
       "    }\n",
       "</style>\n",
       "<table border=\"1\" class=\"dataframe\">\n",
       "  <thead>\n",
       "    <tr style=\"text-align: right;\">\n",
       "      <th></th>\n",
       "      <th>NAME</th>\n",
       "      <th>APPLICATION_TYPE</th>\n",
       "      <th>AFFILIATION</th>\n",
       "      <th>CLASSIFICATION</th>\n",
       "      <th>USE_CASE</th>\n",
       "      <th>ORGANIZATION</th>\n",
       "      <th>STATUS</th>\n",
       "      <th>INCOME_AMT</th>\n",
       "      <th>SPECIAL_CONSIDERATIONS</th>\n",
       "      <th>ASK_AMT</th>\n",
       "      <th>IS_SUCCESSFUL</th>\n",
       "    </tr>\n",
       "    <tr>\n",
       "      <th>EIN</th>\n",
       "      <th></th>\n",
       "      <th></th>\n",
       "      <th></th>\n",
       "      <th></th>\n",
       "      <th></th>\n",
       "      <th></th>\n",
       "      <th></th>\n",
       "      <th></th>\n",
       "      <th></th>\n",
       "      <th></th>\n",
       "      <th></th>\n",
       "    </tr>\n",
       "  </thead>\n",
       "  <tbody>\n",
       "    <tr>\n",
       "      <th>10520599</th>\n",
       "      <td>BLUE KNIGHTS MOTORCYCLE CLUB</td>\n",
       "      <td>T10</td>\n",
       "      <td>Independent</td>\n",
       "      <td>C1000</td>\n",
       "      <td>ProductDev</td>\n",
       "      <td>Association</td>\n",
       "      <td>1</td>\n",
       "      <td>0</td>\n",
       "      <td>N</td>\n",
       "      <td>5000</td>\n",
       "      <td>1</td>\n",
       "    </tr>\n",
       "    <tr>\n",
       "      <th>10531628</th>\n",
       "      <td>AMERICAN CHESAPEAKE CLUB CHARITABLE TR</td>\n",
       "      <td>T3</td>\n",
       "      <td>Independent</td>\n",
       "      <td>C2000</td>\n",
       "      <td>Preservation</td>\n",
       "      <td>Co-operative</td>\n",
       "      <td>1</td>\n",
       "      <td>1-9999</td>\n",
       "      <td>N</td>\n",
       "      <td>108590</td>\n",
       "      <td>1</td>\n",
       "    </tr>\n",
       "    <tr>\n",
       "      <th>10547893</th>\n",
       "      <td>ST CLOUD PROFESSIONAL FIREFIGHTERS</td>\n",
       "      <td>T5</td>\n",
       "      <td>CompanySponsored</td>\n",
       "      <td>C3000</td>\n",
       "      <td>ProductDev</td>\n",
       "      <td>Association</td>\n",
       "      <td>1</td>\n",
       "      <td>0</td>\n",
       "      <td>N</td>\n",
       "      <td>5000</td>\n",
       "      <td>0</td>\n",
       "    </tr>\n",
       "    <tr>\n",
       "      <th>10553066</th>\n",
       "      <td>SOUTHSIDE ATHLETIC ASSOCIATION</td>\n",
       "      <td>T3</td>\n",
       "      <td>CompanySponsored</td>\n",
       "      <td>C2000</td>\n",
       "      <td>Preservation</td>\n",
       "      <td>Trust</td>\n",
       "      <td>1</td>\n",
       "      <td>10000-24999</td>\n",
       "      <td>N</td>\n",
       "      <td>6692</td>\n",
       "      <td>1</td>\n",
       "    </tr>\n",
       "    <tr>\n",
       "      <th>10556103</th>\n",
       "      <td>GENETIC RESEARCH INSTITUTE OF THE DESERT</td>\n",
       "      <td>T3</td>\n",
       "      <td>Independent</td>\n",
       "      <td>C1000</td>\n",
       "      <td>Heathcare</td>\n",
       "      <td>Trust</td>\n",
       "      <td>1</td>\n",
       "      <td>100000-499999</td>\n",
       "      <td>N</td>\n",
       "      <td>142590</td>\n",
       "      <td>1</td>\n",
       "    </tr>\n",
       "  </tbody>\n",
       "</table>\n",
       "</div>"
      ],
      "text/plain": [
       "                                              NAME APPLICATION_TYPE  \\\n",
       "EIN                                                                   \n",
       "10520599              BLUE KNIGHTS MOTORCYCLE CLUB              T10   \n",
       "10531628    AMERICAN CHESAPEAKE CLUB CHARITABLE TR               T3   \n",
       "10547893        ST CLOUD PROFESSIONAL FIREFIGHTERS               T5   \n",
       "10553066            SOUTHSIDE ATHLETIC ASSOCIATION               T3   \n",
       "10556103  GENETIC RESEARCH INSTITUTE OF THE DESERT               T3   \n",
       "\n",
       "               AFFILIATION CLASSIFICATION      USE_CASE  ORGANIZATION  STATUS  \\\n",
       "EIN                                                                             \n",
       "10520599       Independent          C1000    ProductDev   Association       1   \n",
       "10531628       Independent          C2000  Preservation  Co-operative       1   \n",
       "10547893  CompanySponsored          C3000    ProductDev   Association       1   \n",
       "10553066  CompanySponsored          C2000  Preservation         Trust       1   \n",
       "10556103       Independent          C1000     Heathcare         Trust       1   \n",
       "\n",
       "             INCOME_AMT SPECIAL_CONSIDERATIONS  ASK_AMT  IS_SUCCESSFUL  \n",
       "EIN                                                                     \n",
       "10520599              0                      N     5000              1  \n",
       "10531628         1-9999                      N   108590              1  \n",
       "10547893              0                      N     5000              0  \n",
       "10553066    10000-24999                      N     6692              1  \n",
       "10556103  100000-499999                      N   142590              1  "
      ]
     },
     "execution_count": 10,
     "metadata": {},
     "output_type": "execute_result"
    }
   ],
   "source": [
    "# Check index\n",
    "charity_df.head()"
   ]
  },
  {
   "cell_type": "markdown",
   "metadata": {},
   "source": [
    "### NAME"
   ]
  },
  {
   "cell_type": "code",
   "execution_count": 11,
   "metadata": {},
   "outputs": [],
   "source": [
    "# Create name_df so it can be added back to dataset later if needed\n",
    "name_df = pd.DataFrame(charity_df['NAME'])"
   ]
  },
  {
   "cell_type": "code",
   "execution_count": 12,
   "metadata": {},
   "outputs": [
    {
     "data": {
      "text/html": [
       "<div>\n",
       "<style scoped>\n",
       "    .dataframe tbody tr th:only-of-type {\n",
       "        vertical-align: middle;\n",
       "    }\n",
       "\n",
       "    .dataframe tbody tr th {\n",
       "        vertical-align: top;\n",
       "    }\n",
       "\n",
       "    .dataframe thead th {\n",
       "        text-align: right;\n",
       "    }\n",
       "</style>\n",
       "<table border=\"1\" class=\"dataframe\">\n",
       "  <thead>\n",
       "    <tr style=\"text-align: right;\">\n",
       "      <th></th>\n",
       "      <th>NAME</th>\n",
       "    </tr>\n",
       "    <tr>\n",
       "      <th>EIN</th>\n",
       "      <th></th>\n",
       "    </tr>\n",
       "  </thead>\n",
       "  <tbody>\n",
       "    <tr>\n",
       "      <th>10520599</th>\n",
       "      <td>BLUE KNIGHTS MOTORCYCLE CLUB</td>\n",
       "    </tr>\n",
       "    <tr>\n",
       "      <th>10531628</th>\n",
       "      <td>AMERICAN CHESAPEAKE CLUB CHARITABLE TR</td>\n",
       "    </tr>\n",
       "    <tr>\n",
       "      <th>10547893</th>\n",
       "      <td>ST CLOUD PROFESSIONAL FIREFIGHTERS</td>\n",
       "    </tr>\n",
       "  </tbody>\n",
       "</table>\n",
       "</div>"
      ],
      "text/plain": [
       "                                            NAME\n",
       "EIN                                             \n",
       "10520599            BLUE KNIGHTS MOTORCYCLE CLUB\n",
       "10531628  AMERICAN CHESAPEAKE CLUB CHARITABLE TR\n",
       "10547893      ST CLOUD PROFESSIONAL FIREFIGHTERS"
      ]
     },
     "execution_count": 12,
     "metadata": {},
     "output_type": "execute_result"
    }
   ],
   "source": [
    "# Verify index was changed\n",
    "name_df.head(3)"
   ]
  },
  {
   "cell_type": "code",
   "execution_count": 13,
   "metadata": {},
   "outputs": [
    {
     "data": {
      "text/html": [
       "<div>\n",
       "<style scoped>\n",
       "    .dataframe tbody tr th:only-of-type {\n",
       "        vertical-align: middle;\n",
       "    }\n",
       "\n",
       "    .dataframe tbody tr th {\n",
       "        vertical-align: top;\n",
       "    }\n",
       "\n",
       "    .dataframe thead th {\n",
       "        text-align: right;\n",
       "    }\n",
       "</style>\n",
       "<table border=\"1\" class=\"dataframe\">\n",
       "  <thead>\n",
       "    <tr style=\"text-align: right;\">\n",
       "      <th></th>\n",
       "      <th>APPLICATION_TYPE</th>\n",
       "      <th>AFFILIATION</th>\n",
       "      <th>CLASSIFICATION</th>\n",
       "      <th>USE_CASE</th>\n",
       "      <th>ORGANIZATION</th>\n",
       "      <th>STATUS</th>\n",
       "      <th>INCOME_AMT</th>\n",
       "      <th>SPECIAL_CONSIDERATIONS</th>\n",
       "      <th>ASK_AMT</th>\n",
       "      <th>IS_SUCCESSFUL</th>\n",
       "    </tr>\n",
       "    <tr>\n",
       "      <th>EIN</th>\n",
       "      <th></th>\n",
       "      <th></th>\n",
       "      <th></th>\n",
       "      <th></th>\n",
       "      <th></th>\n",
       "      <th></th>\n",
       "      <th></th>\n",
       "      <th></th>\n",
       "      <th></th>\n",
       "      <th></th>\n",
       "    </tr>\n",
       "  </thead>\n",
       "  <tbody>\n",
       "    <tr>\n",
       "      <th>10520599</th>\n",
       "      <td>T10</td>\n",
       "      <td>Independent</td>\n",
       "      <td>C1000</td>\n",
       "      <td>ProductDev</td>\n",
       "      <td>Association</td>\n",
       "      <td>1</td>\n",
       "      <td>0</td>\n",
       "      <td>N</td>\n",
       "      <td>5000</td>\n",
       "      <td>1</td>\n",
       "    </tr>\n",
       "  </tbody>\n",
       "</table>\n",
       "</div>"
      ],
      "text/plain": [
       "         APPLICATION_TYPE  AFFILIATION CLASSIFICATION    USE_CASE  \\\n",
       "EIN                                                                 \n",
       "10520599              T10  Independent          C1000  ProductDev   \n",
       "\n",
       "         ORGANIZATION  STATUS INCOME_AMT SPECIAL_CONSIDERATIONS  ASK_AMT  \\\n",
       "EIN                                                                        \n",
       "10520599  Association       1          0                      N     5000   \n",
       "\n",
       "          IS_SUCCESSFUL  \n",
       "EIN                      \n",
       "10520599              1  "
      ]
     },
     "execution_count": 13,
     "metadata": {},
     "output_type": "execute_result"
    }
   ],
   "source": [
    "charity_df = charity_df.drop('NAME', axis=1)\n",
    "charity_df.head(1)"
   ]
  },
  {
   "cell_type": "markdown",
   "metadata": {},
   "source": [
    "### APPLICATION TYPE"
   ]
  },
  {
   "cell_type": "code",
   "execution_count": 14,
   "metadata": {},
   "outputs": [
    {
     "name": "stdout",
     "output_type": "stream",
     "text": [
      "T3     27037\n",
      "T4      1542\n",
      "T6      1216\n",
      "T5      1173\n",
      "T19     1065\n",
      "T8       737\n",
      "T7       725\n",
      "T10      528\n",
      "T9       156\n",
      "T13       66\n",
      "T12       27\n",
      "T2        16\n",
      "T25        3\n",
      "T14        3\n",
      "T29        2\n",
      "T15        2\n",
      "T17        1\n",
      "Name: APPLICATION_TYPE, dtype: int64\n"
     ]
    }
   ],
   "source": [
    "# Check number of times each application type appears\n",
    "application_value_count = charity_df['APPLICATION_TYPE'].value_counts()\n",
    "print(application_value_count)"
   ]
  },
  {
   "cell_type": "code",
   "execution_count": 15,
   "metadata": {},
   "outputs": [
    {
     "name": "stdout",
     "output_type": "stream",
     "text": [
      "{'T3': 27037, 'T4': 1542, 'T6': 1216, 'T5': 1173, 'T19': 1065, 'T8': 737, 'T7': 725, 'T10': 528, 'T9': 156, 'T13': 66, 'T12': 27, 'T2': 16, 'T25': 3, 'T14': 3, 'T29': 2, 'T15': 2, 'T17': 1}\n"
     ]
    }
   ],
   "source": [
    "app_val_dict = dict(application_value_count)\n",
    "print(app_val_dict)"
   ]
  },
  {
   "cell_type": "code",
   "execution_count": 16,
   "metadata": {},
   "outputs": [
    {
     "name": "stdout",
     "output_type": "stream",
     "text": [
      "['T3', 'T4', 'T6', 'T5', 'T19', 'T8', 'T7', 'T10']\n"
     ]
    }
   ],
   "source": [
    "# Create list of application types with over 500 values\n",
    "key_list = []\n",
    "for k, v in app_val_dict.items():\n",
    "    if v > 500:\n",
    "        key_list.append(k)\n",
    "print(key_list)"
   ]
  },
  {
   "cell_type": "code",
   "execution_count": 17,
   "metadata": {},
   "outputs": [],
   "source": [
    "# Drop application types with less than 500 values using key_list\n",
    "charity_df = charity_df.loc[charity_df['APPLICATION_TYPE'].isin(key_list)]"
   ]
  },
  {
   "cell_type": "code",
   "execution_count": 18,
   "metadata": {},
   "outputs": [],
   "source": [
    "# Apply new 'Other' bin to \n",
    "#for application_type in key_list:\n",
    "#   charity_df.APPLICATION_TYPE = charity_df.APPLICATION_TYPE.replace(application_type, 'Other')"
   ]
  },
  {
   "cell_type": "code",
   "execution_count": 19,
   "metadata": {},
   "outputs": [
    {
     "data": {
      "text/plain": [
       "T3     27037\n",
       "T4      1542\n",
       "T6      1216\n",
       "T5      1173\n",
       "T19     1065\n",
       "T8       737\n",
       "T7       725\n",
       "T10      528\n",
       "Name: APPLICATION_TYPE, dtype: int64"
      ]
     },
     "execution_count": 19,
     "metadata": {},
     "output_type": "execute_result"
    }
   ],
   "source": [
    "# Check values\n",
    "charity_df['APPLICATION_TYPE'].value_counts()"
   ]
  },
  {
   "cell_type": "code",
   "execution_count": 20,
   "metadata": {},
   "outputs": [
    {
     "data": {
      "text/html": [
       "<div>\n",
       "<style scoped>\n",
       "    .dataframe tbody tr th:only-of-type {\n",
       "        vertical-align: middle;\n",
       "    }\n",
       "\n",
       "    .dataframe tbody tr th {\n",
       "        vertical-align: top;\n",
       "    }\n",
       "\n",
       "    .dataframe thead th {\n",
       "        text-align: right;\n",
       "    }\n",
       "</style>\n",
       "<table border=\"1\" class=\"dataframe\">\n",
       "  <thead>\n",
       "    <tr style=\"text-align: right;\">\n",
       "      <th></th>\n",
       "      <th>APPLICATION_TYPE</th>\n",
       "      <th>AFFILIATION</th>\n",
       "      <th>CLASSIFICATION</th>\n",
       "      <th>USE_CASE</th>\n",
       "      <th>ORGANIZATION</th>\n",
       "      <th>STATUS</th>\n",
       "      <th>INCOME_AMT</th>\n",
       "      <th>SPECIAL_CONSIDERATIONS</th>\n",
       "      <th>ASK_AMT</th>\n",
       "      <th>IS_SUCCESSFUL</th>\n",
       "    </tr>\n",
       "    <tr>\n",
       "      <th>EIN</th>\n",
       "      <th></th>\n",
       "      <th></th>\n",
       "      <th></th>\n",
       "      <th></th>\n",
       "      <th></th>\n",
       "      <th></th>\n",
       "      <th></th>\n",
       "      <th></th>\n",
       "      <th></th>\n",
       "      <th></th>\n",
       "    </tr>\n",
       "  </thead>\n",
       "  <tbody>\n",
       "    <tr>\n",
       "      <th>10520599</th>\n",
       "      <td>T10</td>\n",
       "      <td>Independent</td>\n",
       "      <td>C1000</td>\n",
       "      <td>ProductDev</td>\n",
       "      <td>Association</td>\n",
       "      <td>1</td>\n",
       "      <td>0</td>\n",
       "      <td>N</td>\n",
       "      <td>5000</td>\n",
       "      <td>1</td>\n",
       "    </tr>\n",
       "    <tr>\n",
       "      <th>10531628</th>\n",
       "      <td>T3</td>\n",
       "      <td>Independent</td>\n",
       "      <td>C2000</td>\n",
       "      <td>Preservation</td>\n",
       "      <td>Co-operative</td>\n",
       "      <td>1</td>\n",
       "      <td>1-9999</td>\n",
       "      <td>N</td>\n",
       "      <td>108590</td>\n",
       "      <td>1</td>\n",
       "    </tr>\n",
       "    <tr>\n",
       "      <th>10547893</th>\n",
       "      <td>T5</td>\n",
       "      <td>CompanySponsored</td>\n",
       "      <td>C3000</td>\n",
       "      <td>ProductDev</td>\n",
       "      <td>Association</td>\n",
       "      <td>1</td>\n",
       "      <td>0</td>\n",
       "      <td>N</td>\n",
       "      <td>5000</td>\n",
       "      <td>0</td>\n",
       "    </tr>\n",
       "    <tr>\n",
       "      <th>10553066</th>\n",
       "      <td>T3</td>\n",
       "      <td>CompanySponsored</td>\n",
       "      <td>C2000</td>\n",
       "      <td>Preservation</td>\n",
       "      <td>Trust</td>\n",
       "      <td>1</td>\n",
       "      <td>10000-24999</td>\n",
       "      <td>N</td>\n",
       "      <td>6692</td>\n",
       "      <td>1</td>\n",
       "    </tr>\n",
       "    <tr>\n",
       "      <th>10556103</th>\n",
       "      <td>T3</td>\n",
       "      <td>Independent</td>\n",
       "      <td>C1000</td>\n",
       "      <td>Heathcare</td>\n",
       "      <td>Trust</td>\n",
       "      <td>1</td>\n",
       "      <td>100000-499999</td>\n",
       "      <td>N</td>\n",
       "      <td>142590</td>\n",
       "      <td>1</td>\n",
       "    </tr>\n",
       "  </tbody>\n",
       "</table>\n",
       "</div>"
      ],
      "text/plain": [
       "         APPLICATION_TYPE       AFFILIATION CLASSIFICATION      USE_CASE  \\\n",
       "EIN                                                                        \n",
       "10520599              T10       Independent          C1000    ProductDev   \n",
       "10531628               T3       Independent          C2000  Preservation   \n",
       "10547893               T5  CompanySponsored          C3000    ProductDev   \n",
       "10553066               T3  CompanySponsored          C2000  Preservation   \n",
       "10556103               T3       Independent          C1000     Heathcare   \n",
       "\n",
       "          ORGANIZATION  STATUS     INCOME_AMT SPECIAL_CONSIDERATIONS  ASK_AMT  \\\n",
       "EIN                                                                             \n",
       "10520599   Association       1              0                      N     5000   \n",
       "10531628  Co-operative       1         1-9999                      N   108590   \n",
       "10547893   Association       1              0                      N     5000   \n",
       "10553066         Trust       1    10000-24999                      N     6692   \n",
       "10556103         Trust       1  100000-499999                      N   142590   \n",
       "\n",
       "          IS_SUCCESSFUL  \n",
       "EIN                      \n",
       "10520599              1  \n",
       "10531628              1  \n",
       "10547893              0  \n",
       "10553066              1  \n",
       "10556103              1  "
      ]
     },
     "execution_count": 20,
     "metadata": {},
     "output_type": "execute_result"
    }
   ],
   "source": [
    "charity_df.head()"
   ]
  },
  {
   "cell_type": "markdown",
   "metadata": {},
   "source": [
    "### AFFILIATION"
   ]
  },
  {
   "cell_type": "code",
   "execution_count": 21,
   "metadata": {},
   "outputs": [
    {
     "name": "stdout",
     "output_type": "stream",
     "text": [
      "{'Independent': 18210, 'CompanySponsored': 15702, 'Family/Parent': 64, 'National': 31, 'Regional': 12, 'Other': 4}\n"
     ]
    }
   ],
   "source": [
    "# Save affiliation value counts to dictionary\n",
    "affiliation_value_dict = dict(charity_df['AFFILIATION'].value_counts())\n",
    "print(affiliation_value_dict)"
   ]
  },
  {
   "cell_type": "code",
   "execution_count": 22,
   "metadata": {},
   "outputs": [
    {
     "name": "stdout",
     "output_type": "stream",
     "text": [
      "['Independent', 'CompanySponsored']\n"
     ]
    }
   ],
   "source": [
    "aff_key_list = []\n",
    "\n",
    "for k,v in affiliation_value_dict.items():\n",
    "    if v > 1000:\n",
    "        aff_key_list.append(k)\n",
    "\n",
    "print(aff_key_list)        "
   ]
  },
  {
   "cell_type": "code",
   "execution_count": 23,
   "metadata": {},
   "outputs": [],
   "source": [
    "# Drop application types with less than 500 values using key_list\n",
    "charity_df = charity_df.loc[charity_df['AFFILIATION'].isin(aff_key_list)]"
   ]
  },
  {
   "cell_type": "code",
   "execution_count": 24,
   "metadata": {},
   "outputs": [
    {
     "data": {
      "text/plain": [
       "Independent         18210\n",
       "CompanySponsored    15702\n",
       "Name: AFFILIATION, dtype: int64"
      ]
     },
     "execution_count": 24,
     "metadata": {},
     "output_type": "execute_result"
    }
   ],
   "source": [
    "# Check values\n",
    "charity_df['AFFILIATION'].value_counts()"
   ]
  },
  {
   "cell_type": "markdown",
   "metadata": {},
   "source": [
    "### CLASSIFICATION"
   ]
  },
  {
   "cell_type": "code",
   "execution_count": 25,
   "metadata": {},
   "outputs": [
    {
     "name": "stdout",
     "output_type": "stream",
     "text": [
      "{'C1000': 17016, 'C2000': 6023, 'C1200': 4824, 'C3000': 1917, 'C2100': 1881, 'C7000': 772, 'C1700': 286, 'C4000': 193, 'C5000': 116, 'C1270': 114, 'C2700': 104, 'C2800': 94, 'C7100': 75, 'C1300': 58, 'C1280': 50, 'C1230': 36, 'C1400': 34, 'C2300': 32, 'C7200': 32, 'C1240': 30, 'C7120': 18, 'C8000': 18, 'C1500': 16, 'C6000': 15, 'C1800': 15, 'C1250': 14, 'C8200': 11, 'C1278': 10, 'C1238': 10, 'C1235': 9, 'C1237': 9, 'C7210': 7, 'C1720': 6, 'C4100': 6, 'C2400': 6, 'C1257': 5, 'C1600': 5, 'C1260': 3, 'C2710': 3, 'C0': 3, 'C3200': 2, 'C1267': 2, 'C1256': 2, 'C1234': 2, 'C1246': 2, 'C1283': 1, 'C1900': 1, 'C2170': 1, 'C5200': 1, 'C1370': 1, 'C1820': 1, 'C4500': 1, 'C1248': 1, 'C4200': 1, 'C4120': 1, 'C1245': 1, 'C1236': 1, 'C2561': 1, 'C3700': 1, 'C2500': 1, 'C2570': 1, 'C2150': 1, 'C1570': 1, 'C2600': 1, 'C2380': 1, 'C1580': 1, 'C1732': 1, 'C2190': 1, 'C8210': 1, 'C1728': 1, 'C6100': 1}\n"
     ]
    }
   ],
   "source": [
    "# Check values of unique classifications\n",
    "class_count = dict(charity_df['CLASSIFICATION'].value_counts())\n",
    "print(class_count)"
   ]
  },
  {
   "cell_type": "code",
   "execution_count": 26,
   "metadata": {},
   "outputs": [],
   "source": [
    "c_count = charity_df['CLASSIFICATION'].value_counts()\n",
    "#charity_df = charity_df.drop('CLASSIFICATION', axis=1)"
   ]
  },
  {
   "cell_type": "code",
   "execution_count": 27,
   "metadata": {},
   "outputs": [
    {
     "data": {
      "text/plain": [
       "<matplotlib.axes._subplots.AxesSubplot at 0x1ecc6a31fc8>"
      ]
     },
     "execution_count": 27,
     "metadata": {},
     "output_type": "execute_result"
    },
    {
     "data": {
      "image/png": "[encoded data removed]",
      "text/plain": [
       "<Figure size 432x288 with 1 Axes>"
      ]
     },
     "metadata": {
      "needs_background": "light"
     },
     "output_type": "display_data"
    }
   ],
   "source": [
    "c_count.plot.density()"
   ]
  },
  {
   "cell_type": "code",
   "execution_count": 28,
   "metadata": {},
   "outputs": [
    {
     "name": "stdout",
     "output_type": "stream",
     "text": [
      "['C7000', 'C1700', 'C4000', 'C5000', 'C1270', 'C2700', 'C2800', 'C7100', 'C1300', 'C1280', 'C1230', 'C1400', 'C2300', 'C7200', 'C1240', 'C7120', 'C8000', 'C1500', 'C6000', 'C1800', 'C1250', 'C8200', 'C1278', 'C1238', 'C1235', 'C1237', 'C7210', 'C1720', 'C4100', 'C2400', 'C1257', 'C1600', 'C1260', 'C2710', 'C0', 'C3200', 'C1267', 'C1256', 'C1234', 'C1246', 'C1283', 'C1900', 'C2170', 'C5200', 'C1370', 'C1820', 'C4500', 'C1248', 'C4200', 'C4120', 'C1245', 'C1236', 'C2561', 'C3700', 'C2500', 'C2570', 'C2150', 'C1570', 'C2600', 'C2380', 'C1580', 'C1732', 'C2190', 'C8210', 'C1728', 'C6100']\n"
     ]
    }
   ],
   "source": [
    "key_list = []\n",
    "\n",
    "for k,v in class_count.items():\n",
    "    if v < 1000:\n",
    "        key_list.append(k)\n",
    "\n",
    "print(key_list)"
   ]
  },
  {
   "cell_type": "code",
   "execution_count": 29,
   "metadata": {},
   "outputs": [],
   "source": [
    "# Apply new 'Other' bin to \n",
    "for classification in key_list:\n",
    "    charity_df.CLASSIFICATION = charity_df.CLASSIFICATION.replace(classification, 'Other')"
   ]
  },
  {
   "cell_type": "code",
   "execution_count": 30,
   "metadata": {},
   "outputs": [
    {
     "data": {
      "text/plain": [
       "C1000    17016\n",
       "C2000     6023\n",
       "C1200     4824\n",
       "Other     2251\n",
       "C3000     1917\n",
       "C2100     1881\n",
       "Name: CLASSIFICATION, dtype: int64"
      ]
     },
     "execution_count": 30,
     "metadata": {},
     "output_type": "execute_result"
    }
   ],
   "source": [
    "charity_df['CLASSIFICATION'].value_counts()"
   ]
  },
  {
   "cell_type": "markdown",
   "metadata": {},
   "source": [
    "### USE_CASE"
   ]
  },
  {
   "cell_type": "code",
   "execution_count": 31,
   "metadata": {},
   "outputs": [
    {
     "name": "stdout",
     "output_type": "stream",
     "text": [
      "['ProductDev' 'Preservation' 'Heathcare' 'CommunityServ' 'Other']\n"
     ]
    }
   ],
   "source": [
    "use_case_list = charity_df['USE_CASE'].unique()\n",
    "print(use_case_list)"
   ]
  },
  {
   "cell_type": "code",
   "execution_count": 32,
   "metadata": {},
   "outputs": [
    {
     "name": "stdout",
     "output_type": "stream",
     "text": [
      "Preservation     27941\n",
      "ProductDev        5443\n",
      "CommunityServ      382\n",
      "Heathcare          143\n",
      "Other                3\n",
      "Name: USE_CASE, dtype: int64\n"
     ]
    }
   ],
   "source": [
    "use_case_count = charity_df['USE_CASE'].value_counts()\n",
    "print(use_case_count)"
   ]
  },
  {
   "cell_type": "markdown",
   "metadata": {},
   "source": [
    "- Bin CommunityServ, Healthcare, other"
   ]
  },
  {
   "cell_type": "code",
   "execution_count": 33,
   "metadata": {},
   "outputs": [],
   "source": [
    "# Group USE_CASES 'Heathcare', 'CommunityServ', 'Other' into bin named 'Other'\n",
    "use_case_bin = list(use_case_count[use_case_count < 6000].index)"
   ]
  },
  {
   "cell_type": "code",
   "execution_count": 34,
   "metadata": {},
   "outputs": [
    {
     "name": "stdout",
     "output_type": "stream",
     "text": [
      "['ProductDev', 'CommunityServ', 'Heathcare', 'Other']\n"
     ]
    }
   ],
   "source": [
    "print(use_case_bin)"
   ]
  },
  {
   "cell_type": "code",
   "execution_count": 35,
   "metadata": {},
   "outputs": [],
   "source": [
    "# Apply new 'Other' bin to \n",
    "for case in use_case_bin:\n",
    "    charity_df.USE_CASE = charity_df.USE_CASE.replace(case, 'Other')    "
   ]
  },
  {
   "cell_type": "code",
   "execution_count": 36,
   "metadata": {},
   "outputs": [],
   "source": [
    "# Drop application types with less than 150 values using key_list\n",
    "#charity_df = charity_df.loc[charity_df['USE_CASE'].isin(use_case_bin)]"
   ]
  },
  {
   "cell_type": "code",
   "execution_count": 37,
   "metadata": {},
   "outputs": [
    {
     "data": {
      "text/plain": [
       "Preservation    27941\n",
       "Other            5971\n",
       "Name: USE_CASE, dtype: int64"
      ]
     },
     "execution_count": 37,
     "metadata": {},
     "output_type": "execute_result"
    }
   ],
   "source": [
    "charity_df.USE_CASE.value_counts()"
   ]
  },
  {
   "cell_type": "code",
   "execution_count": 38,
   "metadata": {},
   "outputs": [
    {
     "name": "stdout",
     "output_type": "stream",
     "text": [
      "Preservation    27941\n",
      "Other            5971\n",
      "Name: USE_CASE, dtype: int64\n"
     ]
    }
   ],
   "source": [
    "# Check bins\n",
    "use_case_count = charity_df['USE_CASE'].value_counts()\n",
    "print(use_case_count)"
   ]
  },
  {
   "cell_type": "markdown",
   "metadata": {},
   "source": [
    "### ORGANIZATION"
   ]
  },
  {
   "cell_type": "code",
   "execution_count": 39,
   "metadata": {},
   "outputs": [
    {
     "name": "stdout",
     "output_type": "stream",
     "text": [
      "['Association' 'Co-operative' 'Trust' 'Corporation']\n"
     ]
    }
   ],
   "source": [
    "organization_list = charity_df['ORGANIZATION'].unique()\n",
    "print(organization_list)"
   ]
  },
  {
   "cell_type": "code",
   "execution_count": 40,
   "metadata": {},
   "outputs": [
    {
     "name": "stdout",
     "output_type": "stream",
     "text": [
      "{'Trust': 23313, 'Association': 10227, 'Co-operative': 332, 'Corporation': 40}\n"
     ]
    }
   ],
   "source": [
    "organization_list = dict(charity_df['ORGANIZATION'].value_counts())\n",
    "print(organization_list)"
   ]
  },
  {
   "cell_type": "code",
   "execution_count": 41,
   "metadata": {},
   "outputs": [
    {
     "name": "stdout",
     "output_type": "stream",
     "text": [
      "{'Trust': 23313, 'Association': 10227, 'Other': 372}\n"
     ]
    }
   ],
   "source": [
    "# Group USE_CASES 'Heathcare', 'CommunityServ', 'Other' into bin named 'Other'\n",
    "\n",
    "charity_df.ORGANIZATION = charity_df.ORGANIZATION.replace(['Co-operative', 'Corporation'], 'Other')\n",
    "#charity_df.ORGANIZATION = charity_df.ORGANIZATION.replace('Corporation', 'Association')\n",
    "\n",
    "organization_list = dict(charity_df['ORGANIZATION'].value_counts())\n",
    "print(organization_list)"
   ]
  },
  {
   "cell_type": "code",
   "execution_count": null,
   "metadata": {},
   "outputs": [],
   "source": []
  },
  {
   "cell_type": "markdown",
   "metadata": {},
   "source": [
    "### STATUS"
   ]
  },
  {
   "cell_type": "code",
   "execution_count": 42,
   "metadata": {},
   "outputs": [
    {
     "data": {
      "text/html": [
       "<div>\n",
       "<style scoped>\n",
       "    .dataframe tbody tr th:only-of-type {\n",
       "        vertical-align: middle;\n",
       "    }\n",
       "\n",
       "    .dataframe tbody tr th {\n",
       "        vertical-align: top;\n",
       "    }\n",
       "\n",
       "    .dataframe thead th {\n",
       "        text-align: right;\n",
       "    }\n",
       "</style>\n",
       "<table border=\"1\" class=\"dataframe\">\n",
       "  <thead>\n",
       "    <tr style=\"text-align: right;\">\n",
       "      <th></th>\n",
       "      <th>APPLICATION_TYPE</th>\n",
       "      <th>AFFILIATION</th>\n",
       "      <th>CLASSIFICATION</th>\n",
       "      <th>USE_CASE</th>\n",
       "      <th>ORGANIZATION</th>\n",
       "      <th>STATUS</th>\n",
       "      <th>INCOME_AMT</th>\n",
       "      <th>SPECIAL_CONSIDERATIONS</th>\n",
       "      <th>ASK_AMT</th>\n",
       "      <th>IS_SUCCESSFUL</th>\n",
       "    </tr>\n",
       "    <tr>\n",
       "      <th>EIN</th>\n",
       "      <th></th>\n",
       "      <th></th>\n",
       "      <th></th>\n",
       "      <th></th>\n",
       "      <th></th>\n",
       "      <th></th>\n",
       "      <th></th>\n",
       "      <th></th>\n",
       "      <th></th>\n",
       "      <th></th>\n",
       "    </tr>\n",
       "  </thead>\n",
       "  <tbody>\n",
       "    <tr>\n",
       "      <th>205559542</th>\n",
       "      <td>T3</td>\n",
       "      <td>CompanySponsored</td>\n",
       "      <td>C2000</td>\n",
       "      <td>Other</td>\n",
       "      <td>Trust</td>\n",
       "      <td>0</td>\n",
       "      <td>0</td>\n",
       "      <td>N</td>\n",
       "      <td>5000</td>\n",
       "      <td>1</td>\n",
       "    </tr>\n",
       "    <tr>\n",
       "      <th>205918776</th>\n",
       "      <td>T3</td>\n",
       "      <td>Independent</td>\n",
       "      <td>C1000</td>\n",
       "      <td>Preservation</td>\n",
       "      <td>Trust</td>\n",
       "      <td>0</td>\n",
       "      <td>25000-99999</td>\n",
       "      <td>Y</td>\n",
       "      <td>7287</td>\n",
       "      <td>1</td>\n",
       "    </tr>\n",
       "    <tr>\n",
       "      <th>330970564</th>\n",
       "      <td>T3</td>\n",
       "      <td>Independent</td>\n",
       "      <td>C1000</td>\n",
       "      <td>Preservation</td>\n",
       "      <td>Trust</td>\n",
       "      <td>0</td>\n",
       "      <td>10000-24999</td>\n",
       "      <td>N</td>\n",
       "      <td>5000</td>\n",
       "      <td>1</td>\n",
       "    </tr>\n",
       "    <tr>\n",
       "      <th>510594485</th>\n",
       "      <td>T3</td>\n",
       "      <td>CompanySponsored</td>\n",
       "      <td>C2100</td>\n",
       "      <td>Other</td>\n",
       "      <td>Association</td>\n",
       "      <td>0</td>\n",
       "      <td>0</td>\n",
       "      <td>N</td>\n",
       "      <td>5000</td>\n",
       "      <td>0</td>\n",
       "    </tr>\n",
       "    <tr>\n",
       "      <th>841164329</th>\n",
       "      <td>T3</td>\n",
       "      <td>Independent</td>\n",
       "      <td>C1000</td>\n",
       "      <td>Preservation</td>\n",
       "      <td>Association</td>\n",
       "      <td>0</td>\n",
       "      <td>0</td>\n",
       "      <td>N</td>\n",
       "      <td>5000</td>\n",
       "      <td>0</td>\n",
       "    </tr>\n",
       "  </tbody>\n",
       "</table>\n",
       "</div>"
      ],
      "text/plain": [
       "          APPLICATION_TYPE       AFFILIATION CLASSIFICATION      USE_CASE  \\\n",
       "EIN                                                                         \n",
       "205559542               T3  CompanySponsored          C2000         Other   \n",
       "205918776               T3       Independent          C1000  Preservation   \n",
       "330970564               T3       Independent          C1000  Preservation   \n",
       "510594485               T3  CompanySponsored          C2100         Other   \n",
       "841164329               T3       Independent          C1000  Preservation   \n",
       "\n",
       "          ORGANIZATION  STATUS   INCOME_AMT SPECIAL_CONSIDERATIONS  ASK_AMT  \\\n",
       "EIN                                                                           \n",
       "205559542        Trust       0            0                      N     5000   \n",
       "205918776        Trust       0  25000-99999                      Y     7287   \n",
       "330970564        Trust       0  10000-24999                      N     5000   \n",
       "510594485  Association       0            0                      N     5000   \n",
       "841164329  Association       0            0                      N     5000   \n",
       "\n",
       "           IS_SUCCESSFUL  \n",
       "EIN                       \n",
       "205559542              1  \n",
       "205918776              1  \n",
       "330970564              1  \n",
       "510594485              0  \n",
       "841164329              0  "
      ]
     },
     "execution_count": 42,
     "metadata": {},
     "output_type": "execute_result"
    }
   ],
   "source": [
    "charity_df.loc[charity_df['STATUS'] == 0]"
   ]
  },
  {
   "cell_type": "code",
   "execution_count": 43,
   "metadata": {},
   "outputs": [
    {
     "data": {
      "text/plain": [
       "1    33907\n",
       "0        5\n",
       "Name: STATUS, dtype: int64"
      ]
     },
     "execution_count": 43,
     "metadata": {},
     "output_type": "execute_result"
    }
   ],
   "source": [
    "charity_df.STATUS.value_counts()"
   ]
  },
  {
   "cell_type": "markdown",
   "metadata": {},
   "source": [
    "- drop status as its difficult to draw any meaning from category"
   ]
  },
  {
   "cell_type": "code",
   "execution_count": 44,
   "metadata": {},
   "outputs": [],
   "source": [
    "charity_df = charity_df.drop('STATUS', axis=1)"
   ]
  },
  {
   "cell_type": "code",
   "execution_count": 45,
   "metadata": {},
   "outputs": [
    {
     "data": {
      "text/html": [
       "<div>\n",
       "<style scoped>\n",
       "    .dataframe tbody tr th:only-of-type {\n",
       "        vertical-align: middle;\n",
       "    }\n",
       "\n",
       "    .dataframe tbody tr th {\n",
       "        vertical-align: top;\n",
       "    }\n",
       "\n",
       "    .dataframe thead th {\n",
       "        text-align: right;\n",
       "    }\n",
       "</style>\n",
       "<table border=\"1\" class=\"dataframe\">\n",
       "  <thead>\n",
       "    <tr style=\"text-align: right;\">\n",
       "      <th></th>\n",
       "      <th>APPLICATION_TYPE</th>\n",
       "      <th>AFFILIATION</th>\n",
       "      <th>CLASSIFICATION</th>\n",
       "      <th>USE_CASE</th>\n",
       "      <th>ORGANIZATION</th>\n",
       "      <th>INCOME_AMT</th>\n",
       "      <th>SPECIAL_CONSIDERATIONS</th>\n",
       "      <th>ASK_AMT</th>\n",
       "      <th>IS_SUCCESSFUL</th>\n",
       "    </tr>\n",
       "    <tr>\n",
       "      <th>EIN</th>\n",
       "      <th></th>\n",
       "      <th></th>\n",
       "      <th></th>\n",
       "      <th></th>\n",
       "      <th></th>\n",
       "      <th></th>\n",
       "      <th></th>\n",
       "      <th></th>\n",
       "      <th></th>\n",
       "    </tr>\n",
       "  </thead>\n",
       "  <tbody>\n",
       "    <tr>\n",
       "      <th>10520599</th>\n",
       "      <td>T10</td>\n",
       "      <td>Independent</td>\n",
       "      <td>C1000</td>\n",
       "      <td>Other</td>\n",
       "      <td>Association</td>\n",
       "      <td>0</td>\n",
       "      <td>N</td>\n",
       "      <td>5000</td>\n",
       "      <td>1</td>\n",
       "    </tr>\n",
       "    <tr>\n",
       "      <th>10531628</th>\n",
       "      <td>T3</td>\n",
       "      <td>Independent</td>\n",
       "      <td>C2000</td>\n",
       "      <td>Preservation</td>\n",
       "      <td>Other</td>\n",
       "      <td>1-9999</td>\n",
       "      <td>N</td>\n",
       "      <td>108590</td>\n",
       "      <td>1</td>\n",
       "    </tr>\n",
       "    <tr>\n",
       "      <th>10547893</th>\n",
       "      <td>T5</td>\n",
       "      <td>CompanySponsored</td>\n",
       "      <td>C3000</td>\n",
       "      <td>Other</td>\n",
       "      <td>Association</td>\n",
       "      <td>0</td>\n",
       "      <td>N</td>\n",
       "      <td>5000</td>\n",
       "      <td>0</td>\n",
       "    </tr>\n",
       "    <tr>\n",
       "      <th>10553066</th>\n",
       "      <td>T3</td>\n",
       "      <td>CompanySponsored</td>\n",
       "      <td>C2000</td>\n",
       "      <td>Preservation</td>\n",
       "      <td>Trust</td>\n",
       "      <td>10000-24999</td>\n",
       "      <td>N</td>\n",
       "      <td>6692</td>\n",
       "      <td>1</td>\n",
       "    </tr>\n",
       "    <tr>\n",
       "      <th>10556103</th>\n",
       "      <td>T3</td>\n",
       "      <td>Independent</td>\n",
       "      <td>C1000</td>\n",
       "      <td>Other</td>\n",
       "      <td>Trust</td>\n",
       "      <td>100000-499999</td>\n",
       "      <td>N</td>\n",
       "      <td>142590</td>\n",
       "      <td>1</td>\n",
       "    </tr>\n",
       "  </tbody>\n",
       "</table>\n",
       "</div>"
      ],
      "text/plain": [
       "         APPLICATION_TYPE       AFFILIATION CLASSIFICATION      USE_CASE  \\\n",
       "EIN                                                                        \n",
       "10520599              T10       Independent          C1000         Other   \n",
       "10531628               T3       Independent          C2000  Preservation   \n",
       "10547893               T5  CompanySponsored          C3000         Other   \n",
       "10553066               T3  CompanySponsored          C2000  Preservation   \n",
       "10556103               T3       Independent          C1000         Other   \n",
       "\n",
       "         ORGANIZATION     INCOME_AMT SPECIAL_CONSIDERATIONS  ASK_AMT  \\\n",
       "EIN                                                                    \n",
       "10520599  Association              0                      N     5000   \n",
       "10531628        Other         1-9999                      N   108590   \n",
       "10547893  Association              0                      N     5000   \n",
       "10553066        Trust    10000-24999                      N     6692   \n",
       "10556103        Trust  100000-499999                      N   142590   \n",
       "\n",
       "          IS_SUCCESSFUL  \n",
       "EIN                      \n",
       "10520599              1  \n",
       "10531628              1  \n",
       "10547893              0  \n",
       "10553066              1  \n",
       "10556103              1  "
      ]
     },
     "execution_count": 45,
     "metadata": {},
     "output_type": "execute_result"
    }
   ],
   "source": [
    "charity_df.head()"
   ]
  },
  {
   "cell_type": "markdown",
   "metadata": {},
   "source": [
    "### SPECIAL CONSIDERATIONS"
   ]
  },
  {
   "cell_type": "code",
   "execution_count": 46,
   "metadata": {},
   "outputs": [
    {
     "data": {
      "text/plain": [
       "N    33885\n",
       "Y       27\n",
       "Name: SPECIAL_CONSIDERATIONS, dtype: int64"
      ]
     },
     "execution_count": 46,
     "metadata": {},
     "output_type": "execute_result"
    }
   ],
   "source": [
    "charity_df['SPECIAL_CONSIDERATIONS'].value_counts()"
   ]
  },
  {
   "cell_type": "markdown",
   "metadata": {},
   "source": [
    "- drop special considerations"
   ]
  },
  {
   "cell_type": "code",
   "execution_count": 47,
   "metadata": {},
   "outputs": [],
   "source": [
    "charity_df = charity_df.drop('SPECIAL_CONSIDERATIONS', axis=1)"
   ]
  },
  {
   "cell_type": "code",
   "execution_count": 48,
   "metadata": {},
   "outputs": [
    {
     "data": {
      "text/html": [
       "<div>\n",
       "<style scoped>\n",
       "    .dataframe tbody tr th:only-of-type {\n",
       "        vertical-align: middle;\n",
       "    }\n",
       "\n",
       "    .dataframe tbody tr th {\n",
       "        vertical-align: top;\n",
       "    }\n",
       "\n",
       "    .dataframe thead th {\n",
       "        text-align: right;\n",
       "    }\n",
       "</style>\n",
       "<table border=\"1\" class=\"dataframe\">\n",
       "  <thead>\n",
       "    <tr style=\"text-align: right;\">\n",
       "      <th></th>\n",
       "      <th>APPLICATION_TYPE</th>\n",
       "      <th>AFFILIATION</th>\n",
       "      <th>CLASSIFICATION</th>\n",
       "      <th>USE_CASE</th>\n",
       "      <th>ORGANIZATION</th>\n",
       "      <th>INCOME_AMT</th>\n",
       "      <th>ASK_AMT</th>\n",
       "      <th>IS_SUCCESSFUL</th>\n",
       "    </tr>\n",
       "    <tr>\n",
       "      <th>EIN</th>\n",
       "      <th></th>\n",
       "      <th></th>\n",
       "      <th></th>\n",
       "      <th></th>\n",
       "      <th></th>\n",
       "      <th></th>\n",
       "      <th></th>\n",
       "      <th></th>\n",
       "    </tr>\n",
       "  </thead>\n",
       "  <tbody>\n",
       "    <tr>\n",
       "      <th>10520599</th>\n",
       "      <td>T10</td>\n",
       "      <td>Independent</td>\n",
       "      <td>C1000</td>\n",
       "      <td>Other</td>\n",
       "      <td>Association</td>\n",
       "      <td>0</td>\n",
       "      <td>5000</td>\n",
       "      <td>1</td>\n",
       "    </tr>\n",
       "    <tr>\n",
       "      <th>10531628</th>\n",
       "      <td>T3</td>\n",
       "      <td>Independent</td>\n",
       "      <td>C2000</td>\n",
       "      <td>Preservation</td>\n",
       "      <td>Other</td>\n",
       "      <td>1-9999</td>\n",
       "      <td>108590</td>\n",
       "      <td>1</td>\n",
       "    </tr>\n",
       "    <tr>\n",
       "      <th>10547893</th>\n",
       "      <td>T5</td>\n",
       "      <td>CompanySponsored</td>\n",
       "      <td>C3000</td>\n",
       "      <td>Other</td>\n",
       "      <td>Association</td>\n",
       "      <td>0</td>\n",
       "      <td>5000</td>\n",
       "      <td>0</td>\n",
       "    </tr>\n",
       "    <tr>\n",
       "      <th>10553066</th>\n",
       "      <td>T3</td>\n",
       "      <td>CompanySponsored</td>\n",
       "      <td>C2000</td>\n",
       "      <td>Preservation</td>\n",
       "      <td>Trust</td>\n",
       "      <td>10000-24999</td>\n",
       "      <td>6692</td>\n",
       "      <td>1</td>\n",
       "    </tr>\n",
       "    <tr>\n",
       "      <th>10556103</th>\n",
       "      <td>T3</td>\n",
       "      <td>Independent</td>\n",
       "      <td>C1000</td>\n",
       "      <td>Other</td>\n",
       "      <td>Trust</td>\n",
       "      <td>100000-499999</td>\n",
       "      <td>142590</td>\n",
       "      <td>1</td>\n",
       "    </tr>\n",
       "  </tbody>\n",
       "</table>\n",
       "</div>"
      ],
      "text/plain": [
       "         APPLICATION_TYPE       AFFILIATION CLASSIFICATION      USE_CASE  \\\n",
       "EIN                                                                        \n",
       "10520599              T10       Independent          C1000         Other   \n",
       "10531628               T3       Independent          C2000  Preservation   \n",
       "10547893               T5  CompanySponsored          C3000         Other   \n",
       "10553066               T3  CompanySponsored          C2000  Preservation   \n",
       "10556103               T3       Independent          C1000         Other   \n",
       "\n",
       "         ORGANIZATION     INCOME_AMT  ASK_AMT  IS_SUCCESSFUL  \n",
       "EIN                                                           \n",
       "10520599  Association              0     5000              1  \n",
       "10531628        Other         1-9999   108590              1  \n",
       "10547893  Association              0     5000              0  \n",
       "10553066        Trust    10000-24999     6692              1  \n",
       "10556103        Trust  100000-499999   142590              1  "
      ]
     },
     "execution_count": 48,
     "metadata": {},
     "output_type": "execute_result"
    }
   ],
   "source": [
    "charity_df.head(5)"
   ]
  },
  {
   "cell_type": "markdown",
   "metadata": {},
   "source": [
    "### ASK_AMT"
   ]
  },
  {
   "cell_type": "code",
   "execution_count": 49,
   "metadata": {},
   "outputs": [],
   "source": [
    "unique_list = charity_df['ASK_AMT'].unique()"
   ]
  },
  {
   "cell_type": "code",
   "execution_count": 50,
   "metadata": {},
   "outputs": [
    {
     "data": {
      "text/plain": [
       "8489"
      ]
     },
     "execution_count": 50,
     "metadata": {},
     "output_type": "execute_result"
    }
   ],
   "source": [
    "len(unique_list)"
   ]
  },
  {
   "cell_type": "code",
   "execution_count": 51,
   "metadata": {},
   "outputs": [
    {
     "data": {
      "text/plain": [
       "5000       25272\n",
       "6725           3\n",
       "63981          3\n",
       "15583          3\n",
       "10478          3\n",
       "           ...  \n",
       "806737         1\n",
       "266679         1\n",
       "59848          1\n",
       "772556         1\n",
       "1138700        1\n",
       "Name: ASK_AMT, Length: 8489, dtype: int64"
      ]
     },
     "execution_count": 51,
     "metadata": {},
     "output_type": "execute_result"
    }
   ],
   "source": [
    "charity_df['ASK_AMT'].value_counts()"
   ]
  },
  {
   "cell_type": "code",
   "execution_count": 52,
   "metadata": {},
   "outputs": [],
   "source": [
    "ask_amounts = dict(charity_df['ASK_AMT'].value_counts())"
   ]
  },
  {
   "cell_type": "code",
   "execution_count": 53,
   "metadata": {},
   "outputs": [],
   "source": [
    "bin_list = []\n",
    "five = []\n",
    "two_fifty = []\n",
    "five_hundred = []\n",
    "seven_fifty = []\n",
    "mill = []\n",
    "mill_two_fifty = []\n",
    "\n",
    "for key in ask_amounts.keys():\n",
    "    if key == 5000:\n",
    "        five.append(k)\n",
    "    elif key in range(5001, 250000):\n",
    "        two_fifty.append(key)\n",
    "    elif key in range(250000, 500000):\n",
    "        five_hundred.append(key)\n",
    "    elif key in range(500000, 1000000):\n",
    "        mill.append(key)\n",
    "    else:\n",
    "        mill_two_fifty.append(key)"
   ]
  },
  {
   "cell_type": "code",
   "execution_count": 54,
   "metadata": {},
   "outputs": [],
   "source": [
    "get_len = [five, two_fifty, five_hundred, seven_fifty, mill, mill_two_fifty]"
   ]
  },
  {
   "cell_type": "code",
   "execution_count": 55,
   "metadata": {},
   "outputs": [
    {
     "name": "stdout",
     "output_type": "stream",
     "text": [
      "1\n",
      "5585\n",
      "838\n",
      "0\n",
      "622\n",
      "1443\n"
     ]
    }
   ],
   "source": [
    "print(len(five))\n",
    "print(len(two_fifty))\n",
    "print(len(five_hundred))\n",
    "print(len(seven_fifty))\n",
    "print(len(mill))\n",
    "print(len(mill_two_fifty))"
   ]
  },
  {
   "cell_type": "code",
   "execution_count": 56,
   "metadata": {},
   "outputs": [],
   "source": [
    "charity_df.ASK_AMT = charity_df['ASK_AMT'].replace(two_fifty, 250000)\n",
    "charity_df.ASK_AMT = charity_df['ASK_AMT'].replace(five_hundred, 500000)\n",
    "charity_df.ASK_AMT = charity_df['ASK_AMT'].replace(mill, 1000000)\n",
    "charity_df.ASK_AMT = charity_df['ASK_AMT'].replace(mill_two_fifty, 1250000)"
   ]
  },
  {
   "cell_type": "code",
   "execution_count": 57,
   "metadata": {},
   "outputs": [
    {
     "data": {
      "text/plain": [
       "5000       25272\n",
       "250000      5735\n",
       "1000000     1461\n",
       "1250000     1444\n",
       "Name: ASK_AMT, dtype: int64"
      ]
     },
     "execution_count": 57,
     "metadata": {},
     "output_type": "execute_result"
    }
   ],
   "source": [
    "charity_df['ASK_AMT'].value_counts()"
   ]
  },
  {
   "cell_type": "code",
   "execution_count": 58,
   "metadata": {},
   "outputs": [
    {
     "data": {
      "text/plain": [
       "EIN\n",
       "10520599      5000\n",
       "10531628    250000\n",
       "10547893      5000\n",
       "10553066    250000\n",
       "10556103    250000\n",
       "Name: ASK_AMT, dtype: int64"
      ]
     },
     "execution_count": 58,
     "metadata": {},
     "output_type": "execute_result"
    }
   ],
   "source": [
    "charity_df['ASK_AMT'].head()"
   ]
  },
  {
   "cell_type": "markdown",
   "metadata": {},
   "source": [
    "### INCOME_AMT"
   ]
  },
  {
   "cell_type": "code",
   "execution_count": 59,
   "metadata": {},
   "outputs": [
    {
     "data": {
      "text/plain": [
       "0                24268\n",
       "25000-99999       3702\n",
       "100000-499999     3317\n",
       "1M-5M              897\n",
       "1-9999             715\n",
       "10000-24999        532\n",
       "10M-50M            205\n",
       "5M-10M             157\n",
       "50M+               119\n",
       "Name: INCOME_AMT, dtype: int64"
      ]
     },
     "execution_count": 59,
     "metadata": {},
     "output_type": "execute_result"
    }
   ],
   "source": [
    "charity_df['INCOME_AMT'].value_counts()"
   ]
  },
  {
   "cell_type": "code",
   "execution_count": 60,
   "metadata": {},
   "outputs": [
    {
     "data": {
      "text/plain": [
       "0                24268\n",
       "25000-99999       3702\n",
       "100000-499999     3317\n",
       "5M-50M+           1378\n",
       "1-24999           1247\n",
       "Name: INCOME_AMT, dtype: int64"
      ]
     },
     "execution_count": 60,
     "metadata": {},
     "output_type": "execute_result"
    }
   ],
   "source": [
    "one_to_twentyfive = ['1-9999', '10000-24999']\n",
    "five_to_fifty = ['1M-5M','5M-10M', '10M-50M', '50M+']\n",
    "charity_df.INCOME_AMT = charity_df['INCOME_AMT'].replace(one_to_twentyfive, '1-24999')\n",
    "charity_df.INCOME_AMT = charity_df['INCOME_AMT'].replace(five_to_fifty, '5M-50M+')\n",
    "charity_df['INCOME_AMT'].value_counts()"
   ]
  },
  {
   "cell_type": "markdown",
   "metadata": {},
   "source": [
    "### Encoding Data"
   ]
  },
  {
   "cell_type": "code",
   "execution_count": 61,
   "metadata": {},
   "outputs": [
    {
     "data": {
      "text/plain": [
       "APPLICATION_TYPE    object\n",
       "AFFILIATION         object\n",
       "CLASSIFICATION      object\n",
       "USE_CASE            object\n",
       "ORGANIZATION        object\n",
       "INCOME_AMT          object\n",
       "ASK_AMT              int64\n",
       "IS_SUCCESSFUL        int64\n",
       "dtype: object"
      ]
     },
     "execution_count": 61,
     "metadata": {},
     "output_type": "execute_result"
    }
   ],
   "source": [
    "charity_df.dtypes"
   ]
  },
  {
   "cell_type": "code",
   "execution_count": 62,
   "metadata": {},
   "outputs": [],
   "source": [
    "cat_charity = charity_df.dtypes[charity_df.dtypes == 'object'].index.tolist()\n",
    "is_successful = 'IS_SUCCESSFUL'\n",
    "ask = 'ASK_AMT'\n",
    "cat_charity.append(is_successful)\n",
    "cat_charity.append(ask)"
   ]
  },
  {
   "cell_type": "code",
   "execution_count": 63,
   "metadata": {},
   "outputs": [
    {
     "data": {
      "text/html": [
       "<div>\n",
       "<style scoped>\n",
       "    .dataframe tbody tr th:only-of-type {\n",
       "        vertical-align: middle;\n",
       "    }\n",
       "\n",
       "    .dataframe tbody tr th {\n",
       "        vertical-align: top;\n",
       "    }\n",
       "\n",
       "    .dataframe thead th {\n",
       "        text-align: right;\n",
       "    }\n",
       "</style>\n",
       "<table border=\"1\" class=\"dataframe\">\n",
       "  <thead>\n",
       "    <tr style=\"text-align: right;\">\n",
       "      <th></th>\n",
       "      <th>APPLICATION_TYPE_T10</th>\n",
       "      <th>APPLICATION_TYPE_T19</th>\n",
       "      <th>APPLICATION_TYPE_T3</th>\n",
       "      <th>APPLICATION_TYPE_T4</th>\n",
       "      <th>APPLICATION_TYPE_T5</th>\n",
       "      <th>APPLICATION_TYPE_T6</th>\n",
       "      <th>APPLICATION_TYPE_T7</th>\n",
       "      <th>APPLICATION_TYPE_T8</th>\n",
       "      <th>AFFILIATION_CompanySponsored</th>\n",
       "      <th>AFFILIATION_Independent</th>\n",
       "      <th>...</th>\n",
       "      <th>INCOME_AMT_1-24999</th>\n",
       "      <th>INCOME_AMT_100000-499999</th>\n",
       "      <th>INCOME_AMT_25000-99999</th>\n",
       "      <th>INCOME_AMT_5M-50M+</th>\n",
       "      <th>IS_SUCCESSFUL_0</th>\n",
       "      <th>IS_SUCCESSFUL_1</th>\n",
       "      <th>ASK_AMT_5000</th>\n",
       "      <th>ASK_AMT_250000</th>\n",
       "      <th>ASK_AMT_1000000</th>\n",
       "      <th>ASK_AMT_1250000</th>\n",
       "    </tr>\n",
       "    <tr>\n",
       "      <th>EIN</th>\n",
       "      <th></th>\n",
       "      <th></th>\n",
       "      <th></th>\n",
       "      <th></th>\n",
       "      <th></th>\n",
       "      <th></th>\n",
       "      <th></th>\n",
       "      <th></th>\n",
       "      <th></th>\n",
       "      <th></th>\n",
       "      <th></th>\n",
       "      <th></th>\n",
       "      <th></th>\n",
       "      <th></th>\n",
       "      <th></th>\n",
       "      <th></th>\n",
       "      <th></th>\n",
       "      <th></th>\n",
       "      <th></th>\n",
       "      <th></th>\n",
       "      <th></th>\n",
       "    </tr>\n",
       "  </thead>\n",
       "  <tbody>\n",
       "    <tr>\n",
       "      <th>10520599</th>\n",
       "      <td>1.0</td>\n",
       "      <td>0.0</td>\n",
       "      <td>0.0</td>\n",
       "      <td>0.0</td>\n",
       "      <td>0.0</td>\n",
       "      <td>0.0</td>\n",
       "      <td>0.0</td>\n",
       "      <td>0.0</td>\n",
       "      <td>0.0</td>\n",
       "      <td>1.0</td>\n",
       "      <td>...</td>\n",
       "      <td>0.0</td>\n",
       "      <td>0.0</td>\n",
       "      <td>0.0</td>\n",
       "      <td>0.0</td>\n",
       "      <td>0.0</td>\n",
       "      <td>1.0</td>\n",
       "      <td>1.0</td>\n",
       "      <td>0.0</td>\n",
       "      <td>0.0</td>\n",
       "      <td>0.0</td>\n",
       "    </tr>\n",
       "    <tr>\n",
       "      <th>10531628</th>\n",
       "      <td>0.0</td>\n",
       "      <td>0.0</td>\n",
       "      <td>1.0</td>\n",
       "      <td>0.0</td>\n",
       "      <td>0.0</td>\n",
       "      <td>0.0</td>\n",
       "      <td>0.0</td>\n",
       "      <td>0.0</td>\n",
       "      <td>0.0</td>\n",
       "      <td>1.0</td>\n",
       "      <td>...</td>\n",
       "      <td>1.0</td>\n",
       "      <td>0.0</td>\n",
       "      <td>0.0</td>\n",
       "      <td>0.0</td>\n",
       "      <td>0.0</td>\n",
       "      <td>1.0</td>\n",
       "      <td>0.0</td>\n",
       "      <td>1.0</td>\n",
       "      <td>0.0</td>\n",
       "      <td>0.0</td>\n",
       "    </tr>\n",
       "    <tr>\n",
       "      <th>10547893</th>\n",
       "      <td>0.0</td>\n",
       "      <td>0.0</td>\n",
       "      <td>0.0</td>\n",
       "      <td>0.0</td>\n",
       "      <td>1.0</td>\n",
       "      <td>0.0</td>\n",
       "      <td>0.0</td>\n",
       "      <td>0.0</td>\n",
       "      <td>1.0</td>\n",
       "      <td>0.0</td>\n",
       "      <td>...</td>\n",
       "      <td>0.0</td>\n",
       "      <td>0.0</td>\n",
       "      <td>0.0</td>\n",
       "      <td>0.0</td>\n",
       "      <td>1.0</td>\n",
       "      <td>0.0</td>\n",
       "      <td>1.0</td>\n",
       "      <td>0.0</td>\n",
       "      <td>0.0</td>\n",
       "      <td>0.0</td>\n",
       "    </tr>\n",
       "    <tr>\n",
       "      <th>10553066</th>\n",
       "      <td>0.0</td>\n",
       "      <td>0.0</td>\n",
       "      <td>1.0</td>\n",
       "      <td>0.0</td>\n",
       "      <td>0.0</td>\n",
       "      <td>0.0</td>\n",
       "      <td>0.0</td>\n",
       "      <td>0.0</td>\n",
       "      <td>1.0</td>\n",
       "      <td>0.0</td>\n",
       "      <td>...</td>\n",
       "      <td>1.0</td>\n",
       "      <td>0.0</td>\n",
       "      <td>0.0</td>\n",
       "      <td>0.0</td>\n",
       "      <td>0.0</td>\n",
       "      <td>1.0</td>\n",
       "      <td>0.0</td>\n",
       "      <td>1.0</td>\n",
       "      <td>0.0</td>\n",
       "      <td>0.0</td>\n",
       "    </tr>\n",
       "    <tr>\n",
       "      <th>10556103</th>\n",
       "      <td>0.0</td>\n",
       "      <td>0.0</td>\n",
       "      <td>1.0</td>\n",
       "      <td>0.0</td>\n",
       "      <td>0.0</td>\n",
       "      <td>0.0</td>\n",
       "      <td>0.0</td>\n",
       "      <td>0.0</td>\n",
       "      <td>0.0</td>\n",
       "      <td>1.0</td>\n",
       "      <td>...</td>\n",
       "      <td>0.0</td>\n",
       "      <td>1.0</td>\n",
       "      <td>0.0</td>\n",
       "      <td>0.0</td>\n",
       "      <td>0.0</td>\n",
       "      <td>1.0</td>\n",
       "      <td>0.0</td>\n",
       "      <td>1.0</td>\n",
       "      <td>0.0</td>\n",
       "      <td>0.0</td>\n",
       "    </tr>\n",
       "  </tbody>\n",
       "</table>\n",
       "<p>5 rows × 32 columns</p>\n",
       "</div>"
      ],
      "text/plain": [
       "          APPLICATION_TYPE_T10  APPLICATION_TYPE_T19  APPLICATION_TYPE_T3  \\\n",
       "EIN                                                                         \n",
       "10520599                   1.0                   0.0                  0.0   \n",
       "10531628                   0.0                   0.0                  1.0   \n",
       "10547893                   0.0                   0.0                  0.0   \n",
       "10553066                   0.0                   0.0                  1.0   \n",
       "10556103                   0.0                   0.0                  1.0   \n",
       "\n",
       "          APPLICATION_TYPE_T4  APPLICATION_TYPE_T5  APPLICATION_TYPE_T6  \\\n",
       "EIN                                                                       \n",
       "10520599                  0.0                  0.0                  0.0   \n",
       "10531628                  0.0                  0.0                  0.0   \n",
       "10547893                  0.0                  1.0                  0.0   \n",
       "10553066                  0.0                  0.0                  0.0   \n",
       "10556103                  0.0                  0.0                  0.0   \n",
       "\n",
       "          APPLICATION_TYPE_T7  APPLICATION_TYPE_T8  \\\n",
       "EIN                                                  \n",
       "10520599                  0.0                  0.0   \n",
       "10531628                  0.0                  0.0   \n",
       "10547893                  0.0                  0.0   \n",
       "10553066                  0.0                  0.0   \n",
       "10556103                  0.0                  0.0   \n",
       "\n",
       "          AFFILIATION_CompanySponsored  AFFILIATION_Independent  ...  \\\n",
       "EIN                                                              ...   \n",
       "10520599                           0.0                      1.0  ...   \n",
       "10531628                           0.0                      1.0  ...   \n",
       "10547893                           1.0                      0.0  ...   \n",
       "10553066                           1.0                      0.0  ...   \n",
       "10556103                           0.0                      1.0  ...   \n",
       "\n",
       "          INCOME_AMT_1-24999  INCOME_AMT_100000-499999  \\\n",
       "EIN                                                      \n",
       "10520599                 0.0                       0.0   \n",
       "10531628                 1.0                       0.0   \n",
       "10547893                 0.0                       0.0   \n",
       "10553066                 1.0                       0.0   \n",
       "10556103                 0.0                       1.0   \n",
       "\n",
       "          INCOME_AMT_25000-99999  INCOME_AMT_5M-50M+  IS_SUCCESSFUL_0  \\\n",
       "EIN                                                                     \n",
       "10520599                     0.0                 0.0              0.0   \n",
       "10531628                     0.0                 0.0              0.0   \n",
       "10547893                     0.0                 0.0              1.0   \n",
       "10553066                     0.0                 0.0              0.0   \n",
       "10556103                     0.0                 0.0              0.0   \n",
       "\n",
       "          IS_SUCCESSFUL_1  ASK_AMT_5000  ASK_AMT_250000  ASK_AMT_1000000  \\\n",
       "EIN                                                                        \n",
       "10520599              1.0           1.0             0.0              0.0   \n",
       "10531628              1.0           0.0             1.0              0.0   \n",
       "10547893              0.0           1.0             0.0              0.0   \n",
       "10553066              1.0           0.0             1.0              0.0   \n",
       "10556103              1.0           0.0             1.0              0.0   \n",
       "\n",
       "          ASK_AMT_1250000  \n",
       "EIN                        \n",
       "10520599              0.0  \n",
       "10531628              0.0  \n",
       "10547893              0.0  \n",
       "10553066              0.0  \n",
       "10556103              0.0  \n",
       "\n",
       "[5 rows x 32 columns]"
      ]
     },
     "execution_count": 63,
     "metadata": {},
     "output_type": "execute_result"
    }
   ],
   "source": [
    "# Create a OneHotEncoder instance\n",
    "enc = OneHotEncoder(sparse=False)\n",
    "\n",
    "# Fit and transform the OneHotEncoder using the categorical variable list\n",
    "encode_df = pd.DataFrame(enc.fit_transform(charity_df[cat_charity]))\n",
    "\n",
    "# Set index to match charity_df index\n",
    "encode_df = encode_df.set_index(charity_df.index)\n",
    "\n",
    "# Add the encoded variable names to the DataFrame\n",
    "encode_df.columns = enc.get_feature_names(cat_charity)\n",
    "encode_df.head()"
   ]
  },
  {
   "cell_type": "code",
   "execution_count": 64,
   "metadata": {},
   "outputs": [
    {
     "data": {
      "text/html": [
       "<div>\n",
       "<style scoped>\n",
       "    .dataframe tbody tr th:only-of-type {\n",
       "        vertical-align: middle;\n",
       "    }\n",
       "\n",
       "    .dataframe tbody tr th {\n",
       "        vertical-align: top;\n",
       "    }\n",
       "\n",
       "    .dataframe thead th {\n",
       "        text-align: right;\n",
       "    }\n",
       "</style>\n",
       "<table border=\"1\" class=\"dataframe\">\n",
       "  <thead>\n",
       "    <tr style=\"text-align: right;\">\n",
       "      <th></th>\n",
       "      <th>APPLICATION_TYPE</th>\n",
       "      <th>AFFILIATION</th>\n",
       "      <th>CLASSIFICATION</th>\n",
       "      <th>USE_CASE</th>\n",
       "      <th>ORGANIZATION</th>\n",
       "      <th>INCOME_AMT</th>\n",
       "      <th>ASK_AMT</th>\n",
       "      <th>IS_SUCCESSFUL</th>\n",
       "      <th>APPLICATION_TYPE_T10</th>\n",
       "      <th>APPLICATION_TYPE_T19</th>\n",
       "      <th>...</th>\n",
       "      <th>INCOME_AMT_1-24999</th>\n",
       "      <th>INCOME_AMT_100000-499999</th>\n",
       "      <th>INCOME_AMT_25000-99999</th>\n",
       "      <th>INCOME_AMT_5M-50M+</th>\n",
       "      <th>IS_SUCCESSFUL_0</th>\n",
       "      <th>IS_SUCCESSFUL_1</th>\n",
       "      <th>ASK_AMT_5000</th>\n",
       "      <th>ASK_AMT_250000</th>\n",
       "      <th>ASK_AMT_1000000</th>\n",
       "      <th>ASK_AMT_1250000</th>\n",
       "    </tr>\n",
       "    <tr>\n",
       "      <th>EIN</th>\n",
       "      <th></th>\n",
       "      <th></th>\n",
       "      <th></th>\n",
       "      <th></th>\n",
       "      <th></th>\n",
       "      <th></th>\n",
       "      <th></th>\n",
       "      <th></th>\n",
       "      <th></th>\n",
       "      <th></th>\n",
       "      <th></th>\n",
       "      <th></th>\n",
       "      <th></th>\n",
       "      <th></th>\n",
       "      <th></th>\n",
       "      <th></th>\n",
       "      <th></th>\n",
       "      <th></th>\n",
       "      <th></th>\n",
       "      <th></th>\n",
       "      <th></th>\n",
       "    </tr>\n",
       "  </thead>\n",
       "  <tbody>\n",
       "    <tr>\n",
       "      <th>10520599</th>\n",
       "      <td>T10</td>\n",
       "      <td>Independent</td>\n",
       "      <td>C1000</td>\n",
       "      <td>Other</td>\n",
       "      <td>Association</td>\n",
       "      <td>0</td>\n",
       "      <td>5000</td>\n",
       "      <td>1</td>\n",
       "      <td>1.0</td>\n",
       "      <td>0.0</td>\n",
       "      <td>...</td>\n",
       "      <td>0.0</td>\n",
       "      <td>0.0</td>\n",
       "      <td>0.0</td>\n",
       "      <td>0.0</td>\n",
       "      <td>0.0</td>\n",
       "      <td>1.0</td>\n",
       "      <td>1.0</td>\n",
       "      <td>0.0</td>\n",
       "      <td>0.0</td>\n",
       "      <td>0.0</td>\n",
       "    </tr>\n",
       "    <tr>\n",
       "      <th>10531628</th>\n",
       "      <td>T3</td>\n",
       "      <td>Independent</td>\n",
       "      <td>C2000</td>\n",
       "      <td>Preservation</td>\n",
       "      <td>Other</td>\n",
       "      <td>1-24999</td>\n",
       "      <td>250000</td>\n",
       "      <td>1</td>\n",
       "      <td>0.0</td>\n",
       "      <td>0.0</td>\n",
       "      <td>...</td>\n",
       "      <td>1.0</td>\n",
       "      <td>0.0</td>\n",
       "      <td>0.0</td>\n",
       "      <td>0.0</td>\n",
       "      <td>0.0</td>\n",
       "      <td>1.0</td>\n",
       "      <td>0.0</td>\n",
       "      <td>1.0</td>\n",
       "      <td>0.0</td>\n",
       "      <td>0.0</td>\n",
       "    </tr>\n",
       "    <tr>\n",
       "      <th>10547893</th>\n",
       "      <td>T5</td>\n",
       "      <td>CompanySponsored</td>\n",
       "      <td>C3000</td>\n",
       "      <td>Other</td>\n",
       "      <td>Association</td>\n",
       "      <td>0</td>\n",
       "      <td>5000</td>\n",
       "      <td>0</td>\n",
       "      <td>0.0</td>\n",
       "      <td>0.0</td>\n",
       "      <td>...</td>\n",
       "      <td>0.0</td>\n",
       "      <td>0.0</td>\n",
       "      <td>0.0</td>\n",
       "      <td>0.0</td>\n",
       "      <td>1.0</td>\n",
       "      <td>0.0</td>\n",
       "      <td>1.0</td>\n",
       "      <td>0.0</td>\n",
       "      <td>0.0</td>\n",
       "      <td>0.0</td>\n",
       "    </tr>\n",
       "  </tbody>\n",
       "</table>\n",
       "<p>3 rows × 40 columns</p>\n",
       "</div>"
      ],
      "text/plain": [
       "         APPLICATION_TYPE       AFFILIATION CLASSIFICATION      USE_CASE  \\\n",
       "EIN                                                                        \n",
       "10520599              T10       Independent          C1000         Other   \n",
       "10531628               T3       Independent          C2000  Preservation   \n",
       "10547893               T5  CompanySponsored          C3000         Other   \n",
       "\n",
       "         ORGANIZATION INCOME_AMT  ASK_AMT  IS_SUCCESSFUL  \\\n",
       "EIN                                                        \n",
       "10520599  Association          0     5000              1   \n",
       "10531628        Other    1-24999   250000              1   \n",
       "10547893  Association          0     5000              0   \n",
       "\n",
       "          APPLICATION_TYPE_T10  APPLICATION_TYPE_T19  ...  INCOME_AMT_1-24999  \\\n",
       "EIN                                                   ...                       \n",
       "10520599                   1.0                   0.0  ...                 0.0   \n",
       "10531628                   0.0                   0.0  ...                 1.0   \n",
       "10547893                   0.0                   0.0  ...                 0.0   \n",
       "\n",
       "          INCOME_AMT_100000-499999  INCOME_AMT_25000-99999  \\\n",
       "EIN                                                          \n",
       "10520599                       0.0                     0.0   \n",
       "10531628                       0.0                     0.0   \n",
       "10547893                       0.0                     0.0   \n",
       "\n",
       "          INCOME_AMT_5M-50M+  IS_SUCCESSFUL_0  IS_SUCCESSFUL_1  ASK_AMT_5000  \\\n",
       "EIN                                                                            \n",
       "10520599                 0.0              0.0              1.0           1.0   \n",
       "10531628                 0.0              0.0              1.0           0.0   \n",
       "10547893                 0.0              1.0              0.0           1.0   \n",
       "\n",
       "          ASK_AMT_250000  ASK_AMT_1000000  ASK_AMT_1250000  \n",
       "EIN                                                         \n",
       "10520599             0.0              0.0              0.0  \n",
       "10531628             1.0              0.0              0.0  \n",
       "10547893             0.0              0.0              0.0  \n",
       "\n",
       "[3 rows x 40 columns]"
      ]
     },
     "execution_count": 64,
     "metadata": {},
     "output_type": "execute_result"
    }
   ],
   "source": [
    "# Merge one-hot encoded features and drop the originals\n",
    "charity_df = charity_df.merge(encode_df,left_index=True, right_index=True)\n",
    "charity_df.head(3)"
   ]
  },
  {
   "cell_type": "code",
   "execution_count": 65,
   "metadata": {},
   "outputs": [
    {
     "data": {
      "text/html": [
       "<div>\n",
       "<style scoped>\n",
       "    .dataframe tbody tr th:only-of-type {\n",
       "        vertical-align: middle;\n",
       "    }\n",
       "\n",
       "    .dataframe tbody tr th {\n",
       "        vertical-align: top;\n",
       "    }\n",
       "\n",
       "    .dataframe thead th {\n",
       "        text-align: right;\n",
       "    }\n",
       "</style>\n",
       "<table border=\"1\" class=\"dataframe\">\n",
       "  <thead>\n",
       "    <tr style=\"text-align: right;\">\n",
       "      <th></th>\n",
       "      <th>APPLICATION_TYPE_T10</th>\n",
       "      <th>APPLICATION_TYPE_T19</th>\n",
       "      <th>APPLICATION_TYPE_T3</th>\n",
       "      <th>APPLICATION_TYPE_T4</th>\n",
       "      <th>APPLICATION_TYPE_T5</th>\n",
       "      <th>APPLICATION_TYPE_T6</th>\n",
       "      <th>APPLICATION_TYPE_T7</th>\n",
       "      <th>APPLICATION_TYPE_T8</th>\n",
       "      <th>AFFILIATION_CompanySponsored</th>\n",
       "      <th>AFFILIATION_Independent</th>\n",
       "      <th>...</th>\n",
       "      <th>INCOME_AMT_1-24999</th>\n",
       "      <th>INCOME_AMT_100000-499999</th>\n",
       "      <th>INCOME_AMT_25000-99999</th>\n",
       "      <th>INCOME_AMT_5M-50M+</th>\n",
       "      <th>IS_SUCCESSFUL_0</th>\n",
       "      <th>IS_SUCCESSFUL_1</th>\n",
       "      <th>ASK_AMT_5000</th>\n",
       "      <th>ASK_AMT_250000</th>\n",
       "      <th>ASK_AMT_1000000</th>\n",
       "      <th>ASK_AMT_1250000</th>\n",
       "    </tr>\n",
       "    <tr>\n",
       "      <th>EIN</th>\n",
       "      <th></th>\n",
       "      <th></th>\n",
       "      <th></th>\n",
       "      <th></th>\n",
       "      <th></th>\n",
       "      <th></th>\n",
       "      <th></th>\n",
       "      <th></th>\n",
       "      <th></th>\n",
       "      <th></th>\n",
       "      <th></th>\n",
       "      <th></th>\n",
       "      <th></th>\n",
       "      <th></th>\n",
       "      <th></th>\n",
       "      <th></th>\n",
       "      <th></th>\n",
       "      <th></th>\n",
       "      <th></th>\n",
       "      <th></th>\n",
       "      <th></th>\n",
       "    </tr>\n",
       "  </thead>\n",
       "  <tbody>\n",
       "    <tr>\n",
       "      <th>10520599</th>\n",
       "      <td>1.0</td>\n",
       "      <td>0.0</td>\n",
       "      <td>0.0</td>\n",
       "      <td>0.0</td>\n",
       "      <td>0.0</td>\n",
       "      <td>0.0</td>\n",
       "      <td>0.0</td>\n",
       "      <td>0.0</td>\n",
       "      <td>0.0</td>\n",
       "      <td>1.0</td>\n",
       "      <td>...</td>\n",
       "      <td>0.0</td>\n",
       "      <td>0.0</td>\n",
       "      <td>0.0</td>\n",
       "      <td>0.0</td>\n",
       "      <td>0.0</td>\n",
       "      <td>1.0</td>\n",
       "      <td>1.0</td>\n",
       "      <td>0.0</td>\n",
       "      <td>0.0</td>\n",
       "      <td>0.0</td>\n",
       "    </tr>\n",
       "    <tr>\n",
       "      <th>10531628</th>\n",
       "      <td>0.0</td>\n",
       "      <td>0.0</td>\n",
       "      <td>1.0</td>\n",
       "      <td>0.0</td>\n",
       "      <td>0.0</td>\n",
       "      <td>0.0</td>\n",
       "      <td>0.0</td>\n",
       "      <td>0.0</td>\n",
       "      <td>0.0</td>\n",
       "      <td>1.0</td>\n",
       "      <td>...</td>\n",
       "      <td>1.0</td>\n",
       "      <td>0.0</td>\n",
       "      <td>0.0</td>\n",
       "      <td>0.0</td>\n",
       "      <td>0.0</td>\n",
       "      <td>1.0</td>\n",
       "      <td>0.0</td>\n",
       "      <td>1.0</td>\n",
       "      <td>0.0</td>\n",
       "      <td>0.0</td>\n",
       "    </tr>\n",
       "    <tr>\n",
       "      <th>10547893</th>\n",
       "      <td>0.0</td>\n",
       "      <td>0.0</td>\n",
       "      <td>0.0</td>\n",
       "      <td>0.0</td>\n",
       "      <td>1.0</td>\n",
       "      <td>0.0</td>\n",
       "      <td>0.0</td>\n",
       "      <td>0.0</td>\n",
       "      <td>1.0</td>\n",
       "      <td>0.0</td>\n",
       "      <td>...</td>\n",
       "      <td>0.0</td>\n",
       "      <td>0.0</td>\n",
       "      <td>0.0</td>\n",
       "      <td>0.0</td>\n",
       "      <td>1.0</td>\n",
       "      <td>0.0</td>\n",
       "      <td>1.0</td>\n",
       "      <td>0.0</td>\n",
       "      <td>0.0</td>\n",
       "      <td>0.0</td>\n",
       "    </tr>\n",
       "    <tr>\n",
       "      <th>10553066</th>\n",
       "      <td>0.0</td>\n",
       "      <td>0.0</td>\n",
       "      <td>1.0</td>\n",
       "      <td>0.0</td>\n",
       "      <td>0.0</td>\n",
       "      <td>0.0</td>\n",
       "      <td>0.0</td>\n",
       "      <td>0.0</td>\n",
       "      <td>1.0</td>\n",
       "      <td>0.0</td>\n",
       "      <td>...</td>\n",
       "      <td>1.0</td>\n",
       "      <td>0.0</td>\n",
       "      <td>0.0</td>\n",
       "      <td>0.0</td>\n",
       "      <td>0.0</td>\n",
       "      <td>1.0</td>\n",
       "      <td>0.0</td>\n",
       "      <td>1.0</td>\n",
       "      <td>0.0</td>\n",
       "      <td>0.0</td>\n",
       "    </tr>\n",
       "    <tr>\n",
       "      <th>10556103</th>\n",
       "      <td>0.0</td>\n",
       "      <td>0.0</td>\n",
       "      <td>1.0</td>\n",
       "      <td>0.0</td>\n",
       "      <td>0.0</td>\n",
       "      <td>0.0</td>\n",
       "      <td>0.0</td>\n",
       "      <td>0.0</td>\n",
       "      <td>0.0</td>\n",
       "      <td>1.0</td>\n",
       "      <td>...</td>\n",
       "      <td>0.0</td>\n",
       "      <td>1.0</td>\n",
       "      <td>0.0</td>\n",
       "      <td>0.0</td>\n",
       "      <td>0.0</td>\n",
       "      <td>1.0</td>\n",
       "      <td>0.0</td>\n",
       "      <td>1.0</td>\n",
       "      <td>0.0</td>\n",
       "      <td>0.0</td>\n",
       "    </tr>\n",
       "  </tbody>\n",
       "</table>\n",
       "<p>5 rows × 32 columns</p>\n",
       "</div>"
      ],
      "text/plain": [
       "          APPLICATION_TYPE_T10  APPLICATION_TYPE_T19  APPLICATION_TYPE_T3  \\\n",
       "EIN                                                                         \n",
       "10520599                   1.0                   0.0                  0.0   \n",
       "10531628                   0.0                   0.0                  1.0   \n",
       "10547893                   0.0                   0.0                  0.0   \n",
       "10553066                   0.0                   0.0                  1.0   \n",
       "10556103                   0.0                   0.0                  1.0   \n",
       "\n",
       "          APPLICATION_TYPE_T4  APPLICATION_TYPE_T5  APPLICATION_TYPE_T6  \\\n",
       "EIN                                                                       \n",
       "10520599                  0.0                  0.0                  0.0   \n",
       "10531628                  0.0                  0.0                  0.0   \n",
       "10547893                  0.0                  1.0                  0.0   \n",
       "10553066                  0.0                  0.0                  0.0   \n",
       "10556103                  0.0                  0.0                  0.0   \n",
       "\n",
       "          APPLICATION_TYPE_T7  APPLICATION_TYPE_T8  \\\n",
       "EIN                                                  \n",
       "10520599                  0.0                  0.0   \n",
       "10531628                  0.0                  0.0   \n",
       "10547893                  0.0                  0.0   \n",
       "10553066                  0.0                  0.0   \n",
       "10556103                  0.0                  0.0   \n",
       "\n",
       "          AFFILIATION_CompanySponsored  AFFILIATION_Independent  ...  \\\n",
       "EIN                                                              ...   \n",
       "10520599                           0.0                      1.0  ...   \n",
       "10531628                           0.0                      1.0  ...   \n",
       "10547893                           1.0                      0.0  ...   \n",
       "10553066                           1.0                      0.0  ...   \n",
       "10556103                           0.0                      1.0  ...   \n",
       "\n",
       "          INCOME_AMT_1-24999  INCOME_AMT_100000-499999  \\\n",
       "EIN                                                      \n",
       "10520599                 0.0                       0.0   \n",
       "10531628                 1.0                       0.0   \n",
       "10547893                 0.0                       0.0   \n",
       "10553066                 1.0                       0.0   \n",
       "10556103                 0.0                       1.0   \n",
       "\n",
       "          INCOME_AMT_25000-99999  INCOME_AMT_5M-50M+  IS_SUCCESSFUL_0  \\\n",
       "EIN                                                                     \n",
       "10520599                     0.0                 0.0              0.0   \n",
       "10531628                     0.0                 0.0              0.0   \n",
       "10547893                     0.0                 0.0              1.0   \n",
       "10553066                     0.0                 0.0              0.0   \n",
       "10556103                     0.0                 0.0              0.0   \n",
       "\n",
       "          IS_SUCCESSFUL_1  ASK_AMT_5000  ASK_AMT_250000  ASK_AMT_1000000  \\\n",
       "EIN                                                                        \n",
       "10520599              1.0           1.0             0.0              0.0   \n",
       "10531628              1.0           0.0             1.0              0.0   \n",
       "10547893              0.0           1.0             0.0              0.0   \n",
       "10553066              1.0           0.0             1.0              0.0   \n",
       "10556103              1.0           0.0             1.0              0.0   \n",
       "\n",
       "          ASK_AMT_1250000  \n",
       "EIN                        \n",
       "10520599              0.0  \n",
       "10531628              0.0  \n",
       "10547893              0.0  \n",
       "10553066              0.0  \n",
       "10556103              0.0  \n",
       "\n",
       "[5 rows x 32 columns]"
      ]
     },
     "execution_count": 65,
     "metadata": {},
     "output_type": "execute_result"
    }
   ],
   "source": [
    "charity_df = charity_df.drop(cat_charity, axis=1)\n",
    "charity_df.head()"
   ]
  },
  {
   "cell_type": "code",
   "execution_count": 66,
   "metadata": {},
   "outputs": [
    {
     "data": {
      "text/plain": [
       "APPLICATION_TYPE_T10            33912\n",
       "APPLICATION_TYPE_T19            33912\n",
       "APPLICATION_TYPE_T3             33912\n",
       "APPLICATION_TYPE_T4             33912\n",
       "APPLICATION_TYPE_T5             33912\n",
       "APPLICATION_TYPE_T6             33912\n",
       "APPLICATION_TYPE_T7             33912\n",
       "APPLICATION_TYPE_T8             33912\n",
       "AFFILIATION_CompanySponsored    33912\n",
       "AFFILIATION_Independent         33912\n",
       "CLASSIFICATION_C1000            33912\n",
       "CLASSIFICATION_C1200            33912\n",
       "CLASSIFICATION_C2000            33912\n",
       "CLASSIFICATION_C2100            33912\n",
       "CLASSIFICATION_C3000            33912\n",
       "CLASSIFICATION_Other            33912\n",
       "USE_CASE_Other                  33912\n",
       "USE_CASE_Preservation           33912\n",
       "ORGANIZATION_Association        33912\n",
       "ORGANIZATION_Other              33912\n",
       "ORGANIZATION_Trust              33912\n",
       "INCOME_AMT_0                    33912\n",
       "INCOME_AMT_1-24999              33912\n",
       "INCOME_AMT_100000-499999        33912\n",
       "INCOME_AMT_25000-99999          33912\n",
       "INCOME_AMT_5M-50M+              33912\n",
       "IS_SUCCESSFUL_0                 33912\n",
       "IS_SUCCESSFUL_1                 33912\n",
       "ASK_AMT_5000                    33912\n",
       "ASK_AMT_250000                  33912\n",
       "ASK_AMT_1000000                 33912\n",
       "ASK_AMT_1250000                 33912\n",
       "dtype: int64"
      ]
     },
     "execution_count": 66,
     "metadata": {},
     "output_type": "execute_result"
    }
   ],
   "source": [
    "charity_df.count()"
   ]
  },
  {
   "cell_type": "code",
   "execution_count": null,
   "metadata": {},
   "outputs": [],
   "source": []
  },
  {
   "cell_type": "markdown",
   "metadata": {},
   "source": [
    "### Scaling the Data"
   ]
  },
  {
   "cell_type": "code",
   "execution_count": 67,
   "metadata": {},
   "outputs": [],
   "source": [
    "# Assign preprocessed data to features and target arrays\n",
    "y = charity_df[['IS_SUCCESSFUL_0', 'IS_SUCCESSFUL_1']]\n",
    "X = charity_df.drop(['IS_SUCCESSFUL_0', 'IS_SUCCESSFUL_1'], axis=1)\n",
    "\n",
    "# Split train/test datasets\n",
    "X_train, X_test, y_train, y_test = train_test_split(X,y, random_state=42, test_size=0.2, stratify=y)\n",
    "\n",
    "# Initiate scaler instance\n",
    "scaler = StandardScaler()\n",
    "\n",
    "# Fit data to scaler\n",
    "X_scaler = scaler.fit(X_train)\n",
    "\n",
    "# Scale the data\n",
    "X_train_scaled = X_scaler.transform(X_train)\n",
    "X_test_scaled = X_scaler.transform(X_test)"
   ]
  },
  {
   "cell_type": "code",
   "execution_count": 68,
   "metadata": {},
   "outputs": [
    {
     "data": {
      "text/plain": [
       "30"
      ]
     },
     "execution_count": 68,
     "metadata": {},
     "output_type": "execute_result"
    }
   ],
   "source": [
    "len(X_train_scaled[0])"
   ]
  },
  {
   "cell_type": "code",
   "execution_count": 90,
   "metadata": {},
   "outputs": [
    {
     "name": "stdout",
     "output_type": "stream",
     "text": [
      "Train on 27129 samples\n",
      "Epoch 1/50\n",
      "27129/27129 [==============================] - 2s 69us/sample - loss: 0.5688 - accuracy: 0.7199\n",
      "Epoch 2/50\n",
      "27129/27129 [==============================] - 1s 52us/sample - loss: 0.5574 - accuracy: 0.7264\n",
      "Epoch 3/50\n",
      "27129/27129 [==============================] - 1s 43us/sample - loss: 0.5551 - accuracy: 0.7275\n",
      "Epoch 4/50\n",
      "27129/27129 [==============================] - 1s 48us/sample - loss: 0.5537 - accuracy: 0.7286\n",
      "Epoch 5/50\n",
      "27129/27129 [==============================] - 1s 42us/sample - loss: 0.5522 - accuracy: 0.7281\n",
      "Epoch 6/50\n",
      "27129/27129 [==============================] - 1s 43us/sample - loss: 0.5512 - accuracy: 0.7304\n",
      "Epoch 7/50\n",
      "27129/27129 [==============================] - 1s 43us/sample - loss: 0.5510 - accuracy: 0.7289\n",
      "Epoch 8/50\n",
      "27129/27129 [==============================] - 1s 43us/sample - loss: 0.5499 - accuracy: 0.7294\n",
      "Epoch 9/50\n",
      "27129/27129 [==============================] - 1s 42us/sample - loss: 0.5495 - accuracy: 0.7305\n",
      "Epoch 10/50\n",
      "27129/27129 [==============================] - 1s 43us/sample - loss: 0.5492 - accuracy: 0.7311\n",
      "Epoch 11/50\n",
      "27129/27129 [==============================] - 1s 41us/sample - loss: 0.5481 - accuracy: 0.7306\n",
      "Epoch 12/50\n",
      "27129/27129 [==============================] - 1s 41us/sample - loss: 0.5479 - accuracy: 0.7300\n",
      "Epoch 13/50\n",
      "27129/27129 [==============================] - 1s 43us/sample - loss: 0.5475 - accuracy: 0.7312\n",
      "Epoch 14/50\n",
      "27129/27129 [==============================] - 1s 50us/sample - loss: 0.5479 - accuracy: 0.7305\n",
      "Epoch 15/50\n",
      "27129/27129 [==============================] - 1s 50us/sample - loss: 0.5466 - accuracy: 0.7310\n",
      "Epoch 16/50\n",
      "27129/27129 [==============================] - 1s 42us/sample - loss: 0.5466 - accuracy: 0.7321\n",
      "Epoch 17/50\n",
      "27129/27129 [==============================] - 1s 42us/sample - loss: 0.5467 - accuracy: 0.7313\n",
      "Epoch 18/50\n",
      "27129/27129 [==============================] - 1s 42us/sample - loss: 0.5460 - accuracy: 0.7315\n",
      "Epoch 19/50\n",
      "27129/27129 [==============================] - 1s 44us/sample - loss: 0.5457 - accuracy: 0.7322\n",
      "Epoch 20/50\n",
      "27129/27129 [==============================] - 1s 44us/sample - loss: 0.5456 - accuracy: 0.7321\n",
      "Epoch 21/50\n",
      "27129/27129 [==============================] - 1s 43us/sample - loss: 0.5448 - accuracy: 0.7317\n",
      "Epoch 22/50\n",
      "27129/27129 [==============================] - 1s 41us/sample - loss: 0.5449 - accuracy: 0.7332\n",
      "Epoch 23/50\n",
      "27129/27129 [==============================] - 1s 42us/sample - loss: 0.5450 - accuracy: 0.7315\n",
      "Epoch 24/50\n",
      "27129/27129 [==============================] - 1s 42us/sample - loss: 0.5446 - accuracy: 0.7319\n",
      "Epoch 25/50\n",
      "27129/27129 [==============================] - 1s 42us/sample - loss: 0.5443 - accuracy: 0.7318\n",
      "Epoch 26/50\n",
      "27129/27129 [==============================] - 1s 43us/sample - loss: 0.5445 - accuracy: 0.7333\n",
      "Epoch 27/50\n",
      "27129/27129 [==============================] - 1s 44us/sample - loss: 0.5441 - accuracy: 0.7326\n",
      "Epoch 28/50\n",
      "27129/27129 [==============================] - 1s 48us/sample - loss: 0.5440 - accuracy: 0.7333\n",
      "Epoch 29/50\n",
      "27129/27129 [==============================] - 1s 46us/sample - loss: 0.5438 - accuracy: 0.7346\n",
      "Epoch 30/50\n",
      "27129/27129 [==============================] - 1s 48us/sample - loss: 0.5435 - accuracy: 0.7334\n",
      "Epoch 31/50\n",
      "27129/27129 [==============================] - 1s 43us/sample - loss: 0.5436 - accuracy: 0.7343\n",
      "Epoch 32/50\n",
      "27129/27129 [==============================] - 1s 43us/sample - loss: 0.5432 - accuracy: 0.7333\n",
      "Epoch 33/50\n",
      "27129/27129 [==============================] - 1s 51us/sample - loss: 0.5429 - accuracy: 0.7333\n",
      "Epoch 34/50\n",
      "27129/27129 [==============================] - 1s 49us/sample - loss: 0.5429 - accuracy: 0.7338\n",
      "Epoch 35/50\n",
      "27129/27129 [==============================] - 1s 48us/sample - loss: 0.5425 - accuracy: 0.7340\n",
      "Epoch 36/50\n",
      "27129/27129 [==============================] - 1s 41us/sample - loss: 0.5422 - accuracy: 0.7336\n",
      "Epoch 37/50\n",
      "27129/27129 [==============================] - 1s 41us/sample - loss: 0.5423 - accuracy: 0.7338\n",
      "Epoch 38/50\n",
      "27129/27129 [==============================] - 1s 41us/sample - loss: 0.5424 - accuracy: 0.7337\n",
      "Epoch 39/50\n",
      "27129/27129 [==============================] - 1s 42us/sample - loss: 0.5421 - accuracy: 0.7341\n",
      "Epoch 40/50\n",
      "27129/27129 [==============================] - 1s 43us/sample - loss: 0.5420 - accuracy: 0.7337\n",
      "Epoch 41/50\n",
      "27129/27129 [==============================] - 1s 53us/sample - loss: 0.5418 - accuracy: 0.7339\n",
      "Epoch 42/50\n",
      "27129/27129 [==============================] - 1s 44us/sample - loss: 0.5418 - accuracy: 0.7336\n",
      "Epoch 43/50\n",
      "27129/27129 [==============================] - 1s 42us/sample - loss: 0.5416 - accuracy: 0.7343\n",
      "Epoch 44/50\n",
      "27129/27129 [==============================] - 1s 42us/sample - loss: 0.5414 - accuracy: 0.7338\n",
      "Epoch 45/50\n",
      "27129/27129 [==============================] - 1s 42us/sample - loss: 0.5413 - accuracy: 0.7340\n",
      "Epoch 46/50\n",
      "27129/27129 [==============================] - 1s 41us/sample - loss: 0.5413 - accuracy: 0.7342\n",
      "Epoch 47/50\n",
      "27129/27129 [==============================] - 1s 41us/sample - loss: 0.5412 - accuracy: 0.7339\n",
      "Epoch 48/50\n",
      "27129/27129 [==============================] - 1s 42us/sample - loss: 0.5413 - accuracy: 0.7343\n",
      "Epoch 49/50\n",
      "27129/27129 [==============================] - 1s 42us/sample - loss: 0.5408 - accuracy: 0.7343\n",
      "Epoch 50/50\n",
      "27129/27129 [==============================] - 1s 41us/sample - loss: 0.5408 - accuracy: 0.7348\n"
     ]
    }
   ],
   "source": [
    "number_input_features = len(X_train_scaled[0])\n",
    "hidden_nodes_layer64 = 64\n",
    "hidden_nodes_layer32 = 32\n",
    "hidden_nodes_layer16 = 16\n",
    "hidden_nodes_layer8 = 8\n",
    "hidden_nodes_layer4 = 4\n",
    "hidden_nodes_layer34 = 34\n",
    "hidden_nodes_layer4\n",
    "\n",
    "# Initialize keras sequential model object \n",
    "nn = tf.keras.models.Sequential()\n",
    "\n",
    "# First hidden layer\n",
    "nn.add(tf.keras.layers.Dense(units=hidden_nodes_layer64, input_dim=number_input_features, activation=\"elu\"))\n",
    "\n",
    "# Second hidden layer\n",
    "nn.add(tf.keras.layers.Dense(units=hidden_nodes_layer32, activation=\"elu\"))\n",
    "\n",
    "# Third hidden layer\n",
    "nn.add(tf.keras.layers.Dense(units=hidden_nodes_layer16, activation=\"elu\"))\n",
    "\n",
    "\n",
    "\n",
    "\n",
    "\n",
    "\n",
    "# Output layer\n",
    "nn.add(tf.keras.layers.Dense(units=2, activation=\"sigmoid\"))\n",
    "\n",
    "# Compile the Sequential model together and customize metrics\n",
    "nn.compile(loss='categorical_crossentropy', optimizer=\"adam\", metrics=[\"accuracy\"])\n",
    "\n",
    "checkpoint_path = \"checkpoints/weights.{epoch:02d}.hdf5\"\n",
    "\n",
    "# Create a callback that saves the model's weights every 100 epochs\n",
    "cp_callback = ModelCheckpoint(\n",
    "    filepath=checkpoint_path,\n",
    "    verbose=1,\n",
    "    save_weights_only=True,\n",
    "    save_freq=2543400)\n",
    "\n",
    "# Train the model\n",
    "fit_model = nn.fit(X_train_scaled,y_train,epochs=50,callbacks=[cp_callback])"
   ]
  },
  {
   "cell_type": "code",
   "execution_count": 87,
   "metadata": {},
   "outputs": [
    {
     "name": "stdout",
     "output_type": "stream",
     "text": [
      "6783/6783 - 0s - loss: 0.5410 - accuracy: 0.7364\n",
      "Loss: 0.5410127555060383, Accuracy: 0.7363998293876648\n"
     ]
    }
   ],
   "source": [
    "# Evaluate the model using the test data\n",
    "model_loss, model_accuracy = nn.evaluate(X_test_scaled, y_test, verbose=2)\n",
    "print(f\"Loss: {model_loss}, Accuracy: {model_accuracy}\")"
   ]
  },
  {
   "cell_type": "code",
   "execution_count": null,
   "metadata": {},
   "outputs": [],
   "source": [
    "nn.summary()"
   ]
  },
  {
   "cell_type": "code",
   "execution_count": null,
   "metadata": {},
   "outputs": [],
   "source": [
    "# Create a DataFrame containing training history\n",
    "history_df = pd.DataFrame(fit_model.history, index=range(1,len(fit_model.history[\"loss\"])+1))\n",
    "\n",
    "# Plot the loss\n",
    "history_df.plot(y=\"loss\")"
   ]
  },
  {
   "cell_type": "code",
   "execution_count": null,
   "metadata": {},
   "outputs": [],
   "source": [
    "# Export our model to HDF5 file\n",
    "nn.save(\"models/trained_minus_strat.h5\")"
   ]
  }
 ],
 "metadata": {
  "kernelspec": {
   "display_name": "tf-2",
   "language": "python",
   "name": "tf-2"
  },
  "language_info": {
   "codemirror_mode": {
    "name": "ipython",
    "version": 3
   },
   "file_extension": ".py",
   "mimetype": "text/x-python",
   "name": "python",
   "nbconvert_exporter": "python",
   "pygments_lexer": "ipython3",
   "version": "3.7.7"
  }
 },
 "nbformat": 4,
 "nbformat_minor": 4
}
