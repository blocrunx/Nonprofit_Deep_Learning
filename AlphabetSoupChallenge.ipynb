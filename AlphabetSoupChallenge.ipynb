{
 "cells": [
  {
   "cell_type": "code",
   "execution_count": 1,
   "metadata": {},
   "outputs": [],
   "source": [
    "# Import our dependencies\n",
    "from sklearn.model_selection import train_test_split\n",
    "from sklearn.preprocessing import StandardScaler\n",
    "from sklearn.ensemble import RandomForestClassifier\n",
    "from sklearn.metrics import accuracy_score\n",
    "from sklearn.preprocessing import OneHotEncoder\n",
    "import pandas as pd\n",
    "import tensorflow as tf\n",
    "from tensorflow.keras.callbacks import ModelCheckpoint\n",
    "import os"
   ]
  },
  {
   "cell_type": "code",
   "execution_count": 2,
   "metadata": {},
   "outputs": [],
   "source": [
    "file_path = os.path.join('Resources', 'charity_data.csv')"
   ]
  },
  {
   "cell_type": "code",
   "execution_count": 3,
   "metadata": {},
   "outputs": [
    {
     "data": {
      "text/html": [
       "<div>\n",
       "<style scoped>\n",
       "    .dataframe tbody tr th:only-of-type {\n",
       "        vertical-align: middle;\n",
       "    }\n",
       "\n",
       "    .dataframe tbody tr th {\n",
       "        vertical-align: top;\n",
       "    }\n",
       "\n",
       "    .dataframe thead th {\n",
       "        text-align: right;\n",
       "    }\n",
       "</style>\n",
       "<table border=\"1\" class=\"dataframe\">\n",
       "  <thead>\n",
       "    <tr style=\"text-align: right;\">\n",
       "      <th></th>\n",
       "      <th>EIN</th>\n",
       "      <th>NAME</th>\n",
       "      <th>APPLICATION_TYPE</th>\n",
       "      <th>AFFILIATION</th>\n",
       "      <th>CLASSIFICATION</th>\n",
       "      <th>USE_CASE</th>\n",
       "      <th>ORGANIZATION</th>\n",
       "      <th>STATUS</th>\n",
       "      <th>INCOME_AMT</th>\n",
       "      <th>SPECIAL_CONSIDERATIONS</th>\n",
       "      <th>ASK_AMT</th>\n",
       "      <th>IS_SUCCESSFUL</th>\n",
       "    </tr>\n",
       "  </thead>\n",
       "  <tbody>\n",
       "    <tr>\n",
       "      <th>0</th>\n",
       "      <td>10520599</td>\n",
       "      <td>BLUE KNIGHTS MOTORCYCLE CLUB</td>\n",
       "      <td>T10</td>\n",
       "      <td>Independent</td>\n",
       "      <td>C1000</td>\n",
       "      <td>ProductDev</td>\n",
       "      <td>Association</td>\n",
       "      <td>1</td>\n",
       "      <td>0</td>\n",
       "      <td>N</td>\n",
       "      <td>5000</td>\n",
       "      <td>1</td>\n",
       "    </tr>\n",
       "    <tr>\n",
       "      <th>1</th>\n",
       "      <td>10531628</td>\n",
       "      <td>AMERICAN CHESAPEAKE CLUB CHARITABLE TR</td>\n",
       "      <td>T3</td>\n",
       "      <td>Independent</td>\n",
       "      <td>C2000</td>\n",
       "      <td>Preservation</td>\n",
       "      <td>Co-operative</td>\n",
       "      <td>1</td>\n",
       "      <td>1-9999</td>\n",
       "      <td>N</td>\n",
       "      <td>108590</td>\n",
       "      <td>1</td>\n",
       "    </tr>\n",
       "    <tr>\n",
       "      <th>2</th>\n",
       "      <td>10547893</td>\n",
       "      <td>ST CLOUD PROFESSIONAL FIREFIGHTERS</td>\n",
       "      <td>T5</td>\n",
       "      <td>CompanySponsored</td>\n",
       "      <td>C3000</td>\n",
       "      <td>ProductDev</td>\n",
       "      <td>Association</td>\n",
       "      <td>1</td>\n",
       "      <td>0</td>\n",
       "      <td>N</td>\n",
       "      <td>5000</td>\n",
       "      <td>0</td>\n",
       "    </tr>\n",
       "    <tr>\n",
       "      <th>3</th>\n",
       "      <td>10553066</td>\n",
       "      <td>SOUTHSIDE ATHLETIC ASSOCIATION</td>\n",
       "      <td>T3</td>\n",
       "      <td>CompanySponsored</td>\n",
       "      <td>C2000</td>\n",
       "      <td>Preservation</td>\n",
       "      <td>Trust</td>\n",
       "      <td>1</td>\n",
       "      <td>10000-24999</td>\n",
       "      <td>N</td>\n",
       "      <td>6692</td>\n",
       "      <td>1</td>\n",
       "    </tr>\n",
       "    <tr>\n",
       "      <th>4</th>\n",
       "      <td>10556103</td>\n",
       "      <td>GENETIC RESEARCH INSTITUTE OF THE DESERT</td>\n",
       "      <td>T3</td>\n",
       "      <td>Independent</td>\n",
       "      <td>C1000</td>\n",
       "      <td>Heathcare</td>\n",
       "      <td>Trust</td>\n",
       "      <td>1</td>\n",
       "      <td>100000-499999</td>\n",
       "      <td>N</td>\n",
       "      <td>142590</td>\n",
       "      <td>1</td>\n",
       "    </tr>\n",
       "  </tbody>\n",
       "</table>\n",
       "</div>"
      ],
      "text/plain": [
       "        EIN                                      NAME APPLICATION_TYPE  \\\n",
       "0  10520599              BLUE KNIGHTS MOTORCYCLE CLUB              T10   \n",
       "1  10531628    AMERICAN CHESAPEAKE CLUB CHARITABLE TR               T3   \n",
       "2  10547893        ST CLOUD PROFESSIONAL FIREFIGHTERS               T5   \n",
       "3  10553066            SOUTHSIDE ATHLETIC ASSOCIATION               T3   \n",
       "4  10556103  GENETIC RESEARCH INSTITUTE OF THE DESERT               T3   \n",
       "\n",
       "        AFFILIATION CLASSIFICATION      USE_CASE  ORGANIZATION  STATUS  \\\n",
       "0       Independent          C1000    ProductDev   Association       1   \n",
       "1       Independent          C2000  Preservation  Co-operative       1   \n",
       "2  CompanySponsored          C3000    ProductDev   Association       1   \n",
       "3  CompanySponsored          C2000  Preservation         Trust       1   \n",
       "4       Independent          C1000     Heathcare         Trust       1   \n",
       "\n",
       "      INCOME_AMT SPECIAL_CONSIDERATIONS  ASK_AMT  IS_SUCCESSFUL  \n",
       "0              0                      N     5000              1  \n",
       "1         1-9999                      N   108590              1  \n",
       "2              0                      N     5000              0  \n",
       "3    10000-24999                      N     6692              1  \n",
       "4  100000-499999                      N   142590              1  "
      ]
     },
     "execution_count": 3,
     "metadata": {},
     "output_type": "execute_result"
    }
   ],
   "source": [
    "charity_df = pd.read_csv(file_path)\n",
    "charity_df.head()"
   ]
  },
  {
   "cell_type": "markdown",
   "metadata": {},
   "source": [
    "## Exploration and Preprocessing"
   ]
  },
  {
   "cell_type": "code",
   "execution_count": 4,
   "metadata": {},
   "outputs": [
    {
     "data": {
      "text/plain": [
       "EIN                       34299\n",
       "NAME                      19568\n",
       "APPLICATION_TYPE             17\n",
       "AFFILIATION                   6\n",
       "CLASSIFICATION               71\n",
       "USE_CASE                      5\n",
       "ORGANIZATION                  4\n",
       "STATUS                        2\n",
       "INCOME_AMT                    9\n",
       "SPECIAL_CONSIDERATIONS        2\n",
       "ASK_AMT                    8747\n",
       "IS_SUCCESSFUL                 2\n",
       "dtype: int64"
      ]
     },
     "execution_count": 4,
     "metadata": {},
     "output_type": "execute_result"
    }
   ],
   "source": [
    "# Explore objects in data set\n",
    "# First pull objects index for each column and save to list\n",
    "categories = charity_df.dtypes[(charity_df.dtypes == 'object') | (charity_df.dtypes == 'int64')].index.tolist()\n",
    "\n",
    "# Use list of object indexes to indentify unique values in charity_df\n",
    "charity_df[categories].nunique()"
   ]
  },
  {
   "cell_type": "code",
   "execution_count": 5,
   "metadata": {},
   "outputs": [
    {
     "data": {
      "text/plain": [
       "EIN                        int64\n",
       "NAME                      object\n",
       "APPLICATION_TYPE          object\n",
       "AFFILIATION               object\n",
       "CLASSIFICATION            object\n",
       "USE_CASE                  object\n",
       "ORGANIZATION              object\n",
       "STATUS                     int64\n",
       "INCOME_AMT                object\n",
       "SPECIAL_CONSIDERATIONS    object\n",
       "ASK_AMT                    int64\n",
       "IS_SUCCESSFUL              int64\n",
       "dtype: object"
      ]
     },
     "execution_count": 5,
     "metadata": {},
     "output_type": "execute_result"
    }
   ],
   "source": [
    "charity_df.dtypes"
   ]
  },
  {
   "cell_type": "markdown",
   "metadata": {},
   "source": [
    "Exploring the data:\n",
    "- EIN - will be used as index\n",
    "- NAME - copy to new df keeping EIN as index and drop name column in charity_df.\n",
    "- APPLICATION_TYPE - explore to identify whether the data can be combined.\n",
    "- AFFILIATION - check values\n",
    "- CLASSIFICATION - ascertain whether specific classifications can be grouped.\n",
    "- USE_CASE - identify use cases to determin validity of dimension.\n",
    "- ORGANIZATION - Identify organizations and validate whether dimension is required.\n",
    "- STATUS - Drop applications with active status since outcome will no be known and may skew training/testing data.\n",
    "- INCOME_AMT \n",
    "- SPECIAL CONSIDERATIONS -  explore further...could be changed to boolean instead of y/n, however, firther analysis required to ascertain whether it can be dropped all together.\n",
    "- ASK_AMT - check for null values.\n",
    "- IS_SUCCESSFUL - target already boolen - need to identify which boolean represents succssful use of money."
   ]
  },
  {
   "cell_type": "markdown",
   "metadata": {},
   "source": [
    "### EIN"
   ]
  },
  {
   "cell_type": "code",
   "execution_count": 6,
   "metadata": {},
   "outputs": [
    {
     "data": {
      "text/plain": [
       "EIN                       34299\n",
       "NAME                      34299\n",
       "APPLICATION_TYPE          34299\n",
       "AFFILIATION               34299\n",
       "CLASSIFICATION            34299\n",
       "USE_CASE                  34299\n",
       "ORGANIZATION              34299\n",
       "STATUS                    34299\n",
       "INCOME_AMT                34299\n",
       "SPECIAL_CONSIDERATIONS    34299\n",
       "ASK_AMT                   34299\n",
       "IS_SUCCESSFUL             34299\n",
       "dtype: int64"
      ]
     },
     "execution_count": 6,
     "metadata": {},
     "output_type": "execute_result"
    }
   ],
   "source": [
    "# Check counts\n",
    "charity_df.count()"
   ]
  },
  {
   "cell_type": "code",
   "execution_count": 7,
   "metadata": {},
   "outputs": [
    {
     "data": {
      "text/plain": [
       "34299"
      ]
     },
     "execution_count": 7,
     "metadata": {},
     "output_type": "execute_result"
    }
   ],
   "source": [
    "# Check number of unique values\n",
    "charity_df['EIN'].nunique()"
   ]
  },
  {
   "cell_type": "code",
   "execution_count": 8,
   "metadata": {},
   "outputs": [
    {
     "data": {
      "text/plain": [
       "0"
      ]
     },
     "execution_count": 8,
     "metadata": {},
     "output_type": "execute_result"
    }
   ],
   "source": [
    "# Double check for duplicates before making EIN index\n",
    "charity_df['EIN'].duplicated().sum()"
   ]
  },
  {
   "cell_type": "code",
   "execution_count": 9,
   "metadata": {},
   "outputs": [],
   "source": [
    "# Set EIN as index\n",
    "charity_df = charity_df.set_index('EIN')"
   ]
  },
  {
   "cell_type": "code",
   "execution_count": 10,
   "metadata": {},
   "outputs": [
    {
     "data": {
      "text/html": [
       "<div>\n",
       "<style scoped>\n",
       "    .dataframe tbody tr th:only-of-type {\n",
       "        vertical-align: middle;\n",
       "    }\n",
       "\n",
       "    .dataframe tbody tr th {\n",
       "        vertical-align: top;\n",
       "    }\n",
       "\n",
       "    .dataframe thead th {\n",
       "        text-align: right;\n",
       "    }\n",
       "</style>\n",
       "<table border=\"1\" class=\"dataframe\">\n",
       "  <thead>\n",
       "    <tr style=\"text-align: right;\">\n",
       "      <th></th>\n",
       "      <th>NAME</th>\n",
       "      <th>APPLICATION_TYPE</th>\n",
       "      <th>AFFILIATION</th>\n",
       "      <th>CLASSIFICATION</th>\n",
       "      <th>USE_CASE</th>\n",
       "      <th>ORGANIZATION</th>\n",
       "      <th>STATUS</th>\n",
       "      <th>INCOME_AMT</th>\n",
       "      <th>SPECIAL_CONSIDERATIONS</th>\n",
       "      <th>ASK_AMT</th>\n",
       "      <th>IS_SUCCESSFUL</th>\n",
       "    </tr>\n",
       "    <tr>\n",
       "      <th>EIN</th>\n",
       "      <th></th>\n",
       "      <th></th>\n",
       "      <th></th>\n",
       "      <th></th>\n",
       "      <th></th>\n",
       "      <th></th>\n",
       "      <th></th>\n",
       "      <th></th>\n",
       "      <th></th>\n",
       "      <th></th>\n",
       "      <th></th>\n",
       "    </tr>\n",
       "  </thead>\n",
       "  <tbody>\n",
       "    <tr>\n",
       "      <th>10520599</th>\n",
       "      <td>BLUE KNIGHTS MOTORCYCLE CLUB</td>\n",
       "      <td>T10</td>\n",
       "      <td>Independent</td>\n",
       "      <td>C1000</td>\n",
       "      <td>ProductDev</td>\n",
       "      <td>Association</td>\n",
       "      <td>1</td>\n",
       "      <td>0</td>\n",
       "      <td>N</td>\n",
       "      <td>5000</td>\n",
       "      <td>1</td>\n",
       "    </tr>\n",
       "    <tr>\n",
       "      <th>10531628</th>\n",
       "      <td>AMERICAN CHESAPEAKE CLUB CHARITABLE TR</td>\n",
       "      <td>T3</td>\n",
       "      <td>Independent</td>\n",
       "      <td>C2000</td>\n",
       "      <td>Preservation</td>\n",
       "      <td>Co-operative</td>\n",
       "      <td>1</td>\n",
       "      <td>1-9999</td>\n",
       "      <td>N</td>\n",
       "      <td>108590</td>\n",
       "      <td>1</td>\n",
       "    </tr>\n",
       "    <tr>\n",
       "      <th>10547893</th>\n",
       "      <td>ST CLOUD PROFESSIONAL FIREFIGHTERS</td>\n",
       "      <td>T5</td>\n",
       "      <td>CompanySponsored</td>\n",
       "      <td>C3000</td>\n",
       "      <td>ProductDev</td>\n",
       "      <td>Association</td>\n",
       "      <td>1</td>\n",
       "      <td>0</td>\n",
       "      <td>N</td>\n",
       "      <td>5000</td>\n",
       "      <td>0</td>\n",
       "    </tr>\n",
       "    <tr>\n",
       "      <th>10553066</th>\n",
       "      <td>SOUTHSIDE ATHLETIC ASSOCIATION</td>\n",
       "      <td>T3</td>\n",
       "      <td>CompanySponsored</td>\n",
       "      <td>C2000</td>\n",
       "      <td>Preservation</td>\n",
       "      <td>Trust</td>\n",
       "      <td>1</td>\n",
       "      <td>10000-24999</td>\n",
       "      <td>N</td>\n",
       "      <td>6692</td>\n",
       "      <td>1</td>\n",
       "    </tr>\n",
       "    <tr>\n",
       "      <th>10556103</th>\n",
       "      <td>GENETIC RESEARCH INSTITUTE OF THE DESERT</td>\n",
       "      <td>T3</td>\n",
       "      <td>Independent</td>\n",
       "      <td>C1000</td>\n",
       "      <td>Heathcare</td>\n",
       "      <td>Trust</td>\n",
       "      <td>1</td>\n",
       "      <td>100000-499999</td>\n",
       "      <td>N</td>\n",
       "      <td>142590</td>\n",
       "      <td>1</td>\n",
       "    </tr>\n",
       "  </tbody>\n",
       "</table>\n",
       "</div>"
      ],
      "text/plain": [
       "                                              NAME APPLICATION_TYPE  \\\n",
       "EIN                                                                   \n",
       "10520599              BLUE KNIGHTS MOTORCYCLE CLUB              T10   \n",
       "10531628    AMERICAN CHESAPEAKE CLUB CHARITABLE TR               T3   \n",
       "10547893        ST CLOUD PROFESSIONAL FIREFIGHTERS               T5   \n",
       "10553066            SOUTHSIDE ATHLETIC ASSOCIATION               T3   \n",
       "10556103  GENETIC RESEARCH INSTITUTE OF THE DESERT               T3   \n",
       "\n",
       "               AFFILIATION CLASSIFICATION      USE_CASE  ORGANIZATION  STATUS  \\\n",
       "EIN                                                                             \n",
       "10520599       Independent          C1000    ProductDev   Association       1   \n",
       "10531628       Independent          C2000  Preservation  Co-operative       1   \n",
       "10547893  CompanySponsored          C3000    ProductDev   Association       1   \n",
       "10553066  CompanySponsored          C2000  Preservation         Trust       1   \n",
       "10556103       Independent          C1000     Heathcare         Trust       1   \n",
       "\n",
       "             INCOME_AMT SPECIAL_CONSIDERATIONS  ASK_AMT  IS_SUCCESSFUL  \n",
       "EIN                                                                     \n",
       "10520599              0                      N     5000              1  \n",
       "10531628         1-9999                      N   108590              1  \n",
       "10547893              0                      N     5000              0  \n",
       "10553066    10000-24999                      N     6692              1  \n",
       "10556103  100000-499999                      N   142590              1  "
      ]
     },
     "execution_count": 10,
     "metadata": {},
     "output_type": "execute_result"
    }
   ],
   "source": [
    "# Check index\n",
    "charity_df.head()"
   ]
  },
  {
   "cell_type": "markdown",
   "metadata": {},
   "source": [
    "### NAME"
   ]
  },
  {
   "cell_type": "code",
   "execution_count": 11,
   "metadata": {},
   "outputs": [],
   "source": [
    "# Create name_df so it can be added back to dataset later if needed\n",
    "name_df = pd.DataFrame(charity_df['NAME'])"
   ]
  },
  {
   "cell_type": "code",
   "execution_count": 12,
   "metadata": {},
   "outputs": [
    {
     "data": {
      "text/html": [
       "<div>\n",
       "<style scoped>\n",
       "    .dataframe tbody tr th:only-of-type {\n",
       "        vertical-align: middle;\n",
       "    }\n",
       "\n",
       "    .dataframe tbody tr th {\n",
       "        vertical-align: top;\n",
       "    }\n",
       "\n",
       "    .dataframe thead th {\n",
       "        text-align: right;\n",
       "    }\n",
       "</style>\n",
       "<table border=\"1\" class=\"dataframe\">\n",
       "  <thead>\n",
       "    <tr style=\"text-align: right;\">\n",
       "      <th></th>\n",
       "      <th>NAME</th>\n",
       "    </tr>\n",
       "    <tr>\n",
       "      <th>EIN</th>\n",
       "      <th></th>\n",
       "    </tr>\n",
       "  </thead>\n",
       "  <tbody>\n",
       "    <tr>\n",
       "      <th>10520599</th>\n",
       "      <td>BLUE KNIGHTS MOTORCYCLE CLUB</td>\n",
       "    </tr>\n",
       "    <tr>\n",
       "      <th>10531628</th>\n",
       "      <td>AMERICAN CHESAPEAKE CLUB CHARITABLE TR</td>\n",
       "    </tr>\n",
       "    <tr>\n",
       "      <th>10547893</th>\n",
       "      <td>ST CLOUD PROFESSIONAL FIREFIGHTERS</td>\n",
       "    </tr>\n",
       "  </tbody>\n",
       "</table>\n",
       "</div>"
      ],
      "text/plain": [
       "                                            NAME\n",
       "EIN                                             \n",
       "10520599            BLUE KNIGHTS MOTORCYCLE CLUB\n",
       "10531628  AMERICAN CHESAPEAKE CLUB CHARITABLE TR\n",
       "10547893      ST CLOUD PROFESSIONAL FIREFIGHTERS"
      ]
     },
     "execution_count": 12,
     "metadata": {},
     "output_type": "execute_result"
    }
   ],
   "source": [
    "# Verify index was changed\n",
    "name_df.head(3)"
   ]
  },
  {
   "cell_type": "code",
   "execution_count": 13,
   "metadata": {},
   "outputs": [
    {
     "data": {
      "text/html": [
       "<div>\n",
       "<style scoped>\n",
       "    .dataframe tbody tr th:only-of-type {\n",
       "        vertical-align: middle;\n",
       "    }\n",
       "\n",
       "    .dataframe tbody tr th {\n",
       "        vertical-align: top;\n",
       "    }\n",
       "\n",
       "    .dataframe thead th {\n",
       "        text-align: right;\n",
       "    }\n",
       "</style>\n",
       "<table border=\"1\" class=\"dataframe\">\n",
       "  <thead>\n",
       "    <tr style=\"text-align: right;\">\n",
       "      <th></th>\n",
       "      <th>APPLICATION_TYPE</th>\n",
       "      <th>AFFILIATION</th>\n",
       "      <th>CLASSIFICATION</th>\n",
       "      <th>USE_CASE</th>\n",
       "      <th>ORGANIZATION</th>\n",
       "      <th>STATUS</th>\n",
       "      <th>INCOME_AMT</th>\n",
       "      <th>SPECIAL_CONSIDERATIONS</th>\n",
       "      <th>ASK_AMT</th>\n",
       "      <th>IS_SUCCESSFUL</th>\n",
       "    </tr>\n",
       "    <tr>\n",
       "      <th>EIN</th>\n",
       "      <th></th>\n",
       "      <th></th>\n",
       "      <th></th>\n",
       "      <th></th>\n",
       "      <th></th>\n",
       "      <th></th>\n",
       "      <th></th>\n",
       "      <th></th>\n",
       "      <th></th>\n",
       "      <th></th>\n",
       "    </tr>\n",
       "  </thead>\n",
       "  <tbody>\n",
       "    <tr>\n",
       "      <th>10520599</th>\n",
       "      <td>T10</td>\n",
       "      <td>Independent</td>\n",
       "      <td>C1000</td>\n",
       "      <td>ProductDev</td>\n",
       "      <td>Association</td>\n",
       "      <td>1</td>\n",
       "      <td>0</td>\n",
       "      <td>N</td>\n",
       "      <td>5000</td>\n",
       "      <td>1</td>\n",
       "    </tr>\n",
       "  </tbody>\n",
       "</table>\n",
       "</div>"
      ],
      "text/plain": [
       "         APPLICATION_TYPE  AFFILIATION CLASSIFICATION    USE_CASE  \\\n",
       "EIN                                                                 \n",
       "10520599              T10  Independent          C1000  ProductDev   \n",
       "\n",
       "         ORGANIZATION  STATUS INCOME_AMT SPECIAL_CONSIDERATIONS  ASK_AMT  \\\n",
       "EIN                                                                        \n",
       "10520599  Association       1          0                      N     5000   \n",
       "\n",
       "          IS_SUCCESSFUL  \n",
       "EIN                      \n",
       "10520599              1  "
      ]
     },
     "execution_count": 13,
     "metadata": {},
     "output_type": "execute_result"
    }
   ],
   "source": [
    "charity_df = charity_df.drop('NAME', axis=1)\n",
    "charity_df.head(1)"
   ]
  },
  {
   "cell_type": "markdown",
   "metadata": {},
   "source": [
    "### APPLICATION TYPE"
   ]
  },
  {
   "cell_type": "code",
   "execution_count": 14,
   "metadata": {},
   "outputs": [
    {
     "name": "stdout",
     "output_type": "stream",
     "text": [
      "T3     27037\n",
      "T4      1542\n",
      "T6      1216\n",
      "T5      1173\n",
      "T19     1065\n",
      "T8       737\n",
      "T7       725\n",
      "T10      528\n",
      "T9       156\n",
      "T13       66\n",
      "T12       27\n",
      "T2        16\n",
      "T14        3\n",
      "T25        3\n",
      "T29        2\n",
      "T15        2\n",
      "T17        1\n",
      "Name: APPLICATION_TYPE, dtype: int64\n"
     ]
    }
   ],
   "source": [
    "# Check number of times each application type appears\n",
    "application_value_count = charity_df['APPLICATION_TYPE'].value_counts()\n",
    "print(application_value_count)"
   ]
  },
  {
   "cell_type": "code",
   "execution_count": 15,
   "metadata": {},
   "outputs": [
    {
     "name": "stdout",
     "output_type": "stream",
     "text": [
      "{'T3': 27037, 'T4': 1542, 'T6': 1216, 'T5': 1173, 'T19': 1065, 'T8': 737, 'T7': 725, 'T10': 528, 'T9': 156, 'T13': 66, 'T12': 27, 'T2': 16, 'T14': 3, 'T25': 3, 'T29': 2, 'T15': 2, 'T17': 1}\n"
     ]
    }
   ],
   "source": [
    "app_val_dict = dict(application_value_count)\n",
    "print(app_val_dict)"
   ]
  },
  {
   "cell_type": "code",
   "execution_count": 16,
   "metadata": {},
   "outputs": [
    {
     "name": "stdout",
     "output_type": "stream",
     "text": [
      "['T3', 'T4', 'T6', 'T5', 'T19', 'T8', 'T7', 'T10']\n"
     ]
    }
   ],
   "source": [
    "# Create list of application types with over 500 values\n",
    "new_dict = {}\n",
    "key_list = []\n",
    "for k, v in app_val_dict.items():\n",
    "    if v > 500:\n",
    "        key_list.append(k)\n",
    "print(key_list)"
   ]
  },
  {
   "cell_type": "code",
   "execution_count": 17,
   "metadata": {},
   "outputs": [],
   "source": [
    "# Drop application types with less than 500 values using key_list\n",
    "charity_df = charity_df.loc[charity_df['APPLICATION_TYPE'].isin(key_list)]"
   ]
  },
  {
   "cell_type": "code",
   "execution_count": 18,
   "metadata": {},
   "outputs": [
    {
     "data": {
      "text/plain": [
       "T3     27037\n",
       "T4      1542\n",
       "T6      1216\n",
       "T5      1173\n",
       "T19     1065\n",
       "T8       737\n",
       "T7       725\n",
       "T10      528\n",
       "Name: APPLICATION_TYPE, dtype: int64"
      ]
     },
     "execution_count": 18,
     "metadata": {},
     "output_type": "execute_result"
    }
   ],
   "source": [
    "# Check values\n",
    "charity_df['APPLICATION_TYPE'].value_counts()"
   ]
  },
  {
   "cell_type": "code",
   "execution_count": 19,
   "metadata": {},
   "outputs": [
    {
     "data": {
      "text/html": [
       "<div>\n",
       "<style scoped>\n",
       "    .dataframe tbody tr th:only-of-type {\n",
       "        vertical-align: middle;\n",
       "    }\n",
       "\n",
       "    .dataframe tbody tr th {\n",
       "        vertical-align: top;\n",
       "    }\n",
       "\n",
       "    .dataframe thead th {\n",
       "        text-align: right;\n",
       "    }\n",
       "</style>\n",
       "<table border=\"1\" class=\"dataframe\">\n",
       "  <thead>\n",
       "    <tr style=\"text-align: right;\">\n",
       "      <th></th>\n",
       "      <th>APPLICATION_TYPE</th>\n",
       "      <th>AFFILIATION</th>\n",
       "      <th>CLASSIFICATION</th>\n",
       "      <th>USE_CASE</th>\n",
       "      <th>ORGANIZATION</th>\n",
       "      <th>STATUS</th>\n",
       "      <th>INCOME_AMT</th>\n",
       "      <th>SPECIAL_CONSIDERATIONS</th>\n",
       "      <th>ASK_AMT</th>\n",
       "      <th>IS_SUCCESSFUL</th>\n",
       "    </tr>\n",
       "    <tr>\n",
       "      <th>EIN</th>\n",
       "      <th></th>\n",
       "      <th></th>\n",
       "      <th></th>\n",
       "      <th></th>\n",
       "      <th></th>\n",
       "      <th></th>\n",
       "      <th></th>\n",
       "      <th></th>\n",
       "      <th></th>\n",
       "      <th></th>\n",
       "    </tr>\n",
       "  </thead>\n",
       "  <tbody>\n",
       "    <tr>\n",
       "      <th>10520599</th>\n",
       "      <td>T10</td>\n",
       "      <td>Independent</td>\n",
       "      <td>C1000</td>\n",
       "      <td>ProductDev</td>\n",
       "      <td>Association</td>\n",
       "      <td>1</td>\n",
       "      <td>0</td>\n",
       "      <td>N</td>\n",
       "      <td>5000</td>\n",
       "      <td>1</td>\n",
       "    </tr>\n",
       "    <tr>\n",
       "      <th>10531628</th>\n",
       "      <td>T3</td>\n",
       "      <td>Independent</td>\n",
       "      <td>C2000</td>\n",
       "      <td>Preservation</td>\n",
       "      <td>Co-operative</td>\n",
       "      <td>1</td>\n",
       "      <td>1-9999</td>\n",
       "      <td>N</td>\n",
       "      <td>108590</td>\n",
       "      <td>1</td>\n",
       "    </tr>\n",
       "    <tr>\n",
       "      <th>10547893</th>\n",
       "      <td>T5</td>\n",
       "      <td>CompanySponsored</td>\n",
       "      <td>C3000</td>\n",
       "      <td>ProductDev</td>\n",
       "      <td>Association</td>\n",
       "      <td>1</td>\n",
       "      <td>0</td>\n",
       "      <td>N</td>\n",
       "      <td>5000</td>\n",
       "      <td>0</td>\n",
       "    </tr>\n",
       "    <tr>\n",
       "      <th>10553066</th>\n",
       "      <td>T3</td>\n",
       "      <td>CompanySponsored</td>\n",
       "      <td>C2000</td>\n",
       "      <td>Preservation</td>\n",
       "      <td>Trust</td>\n",
       "      <td>1</td>\n",
       "      <td>10000-24999</td>\n",
       "      <td>N</td>\n",
       "      <td>6692</td>\n",
       "      <td>1</td>\n",
       "    </tr>\n",
       "    <tr>\n",
       "      <th>10556103</th>\n",
       "      <td>T3</td>\n",
       "      <td>Independent</td>\n",
       "      <td>C1000</td>\n",
       "      <td>Heathcare</td>\n",
       "      <td>Trust</td>\n",
       "      <td>1</td>\n",
       "      <td>100000-499999</td>\n",
       "      <td>N</td>\n",
       "      <td>142590</td>\n",
       "      <td>1</td>\n",
       "    </tr>\n",
       "  </tbody>\n",
       "</table>\n",
       "</div>"
      ],
      "text/plain": [
       "         APPLICATION_TYPE       AFFILIATION CLASSIFICATION      USE_CASE  \\\n",
       "EIN                                                                        \n",
       "10520599              T10       Independent          C1000    ProductDev   \n",
       "10531628               T3       Independent          C2000  Preservation   \n",
       "10547893               T5  CompanySponsored          C3000    ProductDev   \n",
       "10553066               T3  CompanySponsored          C2000  Preservation   \n",
       "10556103               T3       Independent          C1000     Heathcare   \n",
       "\n",
       "          ORGANIZATION  STATUS     INCOME_AMT SPECIAL_CONSIDERATIONS  ASK_AMT  \\\n",
       "EIN                                                                             \n",
       "10520599   Association       1              0                      N     5000   \n",
       "10531628  Co-operative       1         1-9999                      N   108590   \n",
       "10547893   Association       1              0                      N     5000   \n",
       "10553066         Trust       1    10000-24999                      N     6692   \n",
       "10556103         Trust       1  100000-499999                      N   142590   \n",
       "\n",
       "          IS_SUCCESSFUL  \n",
       "EIN                      \n",
       "10520599              1  \n",
       "10531628              1  \n",
       "10547893              0  \n",
       "10553066              1  \n",
       "10556103              1  "
      ]
     },
     "execution_count": 19,
     "metadata": {},
     "output_type": "execute_result"
    }
   ],
   "source": [
    "charity_df.head()"
   ]
  },
  {
   "cell_type": "markdown",
   "metadata": {},
   "source": [
    "### AFFILIATION"
   ]
  },
  {
   "cell_type": "code",
   "execution_count": 20,
   "metadata": {},
   "outputs": [
    {
     "name": "stdout",
     "output_type": "stream",
     "text": [
      "{'Independent': 18210, 'CompanySponsored': 15702, 'Family/Parent': 64, 'National': 31, 'Regional': 12, 'Other': 4}\n"
     ]
    }
   ],
   "source": [
    "# Save affiliation value counts to dictionary\n",
    "affiliation_value_dict = dict(charity_df['AFFILIATION'].value_counts())\n",
    "print(affiliation_value_dict)"
   ]
  },
  {
   "cell_type": "code",
   "execution_count": 21,
   "metadata": {},
   "outputs": [
    {
     "name": "stdout",
     "output_type": "stream",
     "text": [
      "['Independent', 'CompanySponsored']\n"
     ]
    }
   ],
   "source": [
    "aff_key_list = []\n",
    "\n",
    "for k,v in affiliation_value_dict.items():\n",
    "    if v > 1000:\n",
    "        aff_key_list.append(k)\n",
    "\n",
    "print(aff_key_list)        "
   ]
  },
  {
   "cell_type": "code",
   "execution_count": 22,
   "metadata": {},
   "outputs": [],
   "source": [
    "# Drop application types with less than 500 values using key_list\n",
    "charity_df = charity_df.loc[charity_df['AFFILIATION'].isin(aff_key_list)]"
   ]
  },
  {
   "cell_type": "code",
   "execution_count": 23,
   "metadata": {},
   "outputs": [
    {
     "data": {
      "text/plain": [
       "Independent         18210\n",
       "CompanySponsored    15702\n",
       "Name: AFFILIATION, dtype: int64"
      ]
     },
     "execution_count": 23,
     "metadata": {},
     "output_type": "execute_result"
    }
   ],
   "source": [
    "# Check values\n",
    "charity_df['AFFILIATION'].value_counts()"
   ]
  },
  {
   "cell_type": "markdown",
   "metadata": {},
   "source": [
    "### CLASSIFICATION"
   ]
  },
  {
   "cell_type": "code",
   "execution_count": 24,
   "metadata": {},
   "outputs": [
    {
     "name": "stdout",
     "output_type": "stream",
     "text": [
      "{'C1000': 17016, 'C2000': 6023, 'C1200': 4824, 'C3000': 1917, 'C2100': 1881, 'C7000': 772, 'C1700': 286, 'C4000': 193, 'C5000': 116, 'C1270': 114, 'C2700': 104, 'C2800': 94, 'C7100': 75, 'C1300': 58, 'C1280': 50, 'C1230': 36, 'C1400': 34, 'C7200': 32, 'C2300': 32, 'C1240': 30, 'C7120': 18, 'C8000': 18, 'C1500': 16, 'C1800': 15, 'C6000': 15, 'C1250': 14, 'C8200': 11, 'C1278': 10, 'C1238': 10, 'C1235': 9, 'C1237': 9, 'C7210': 7, 'C1720': 6, 'C4100': 6, 'C2400': 6, 'C1257': 5, 'C1600': 5, 'C0': 3, 'C2710': 3, 'C1260': 3, 'C1246': 2, 'C1267': 2, 'C3200': 2, 'C1234': 2, 'C1256': 2, 'C2600': 1, 'C1245': 1, 'C1236': 1, 'C1370': 1, 'C1900': 1, 'C1570': 1, 'C2561': 1, 'C2170': 1, 'C1820': 1, 'C4200': 1, 'C2190': 1, 'C5200': 1, 'C2570': 1, 'C2380': 1, 'C2150': 1, 'C1248': 1, 'C6100': 1, 'C4500': 1, 'C3700': 1, 'C4120': 1, 'C1580': 1, 'C1283': 1, 'C1728': 1, 'C8210': 1, 'C1732': 1, 'C2500': 1}\n"
     ]
    }
   ],
   "source": [
    "# Check values of unique classifications\n",
    "class_count = dict(charity_df['CLASSIFICATION'].value_counts())\n",
    "print(class_count)"
   ]
  },
  {
   "cell_type": "code",
   "execution_count": 25,
   "metadata": {},
   "outputs": [],
   "source": [
    "charity_df = charity_df.drop('CLASSIFICATION', axis=1)"
   ]
  },
  {
   "cell_type": "code",
   "execution_count": 26,
   "metadata": {},
   "outputs": [
    {
     "data": {
      "text/html": [
       "<div>\n",
       "<style scoped>\n",
       "    .dataframe tbody tr th:only-of-type {\n",
       "        vertical-align: middle;\n",
       "    }\n",
       "\n",
       "    .dataframe tbody tr th {\n",
       "        vertical-align: top;\n",
       "    }\n",
       "\n",
       "    .dataframe thead th {\n",
       "        text-align: right;\n",
       "    }\n",
       "</style>\n",
       "<table border=\"1\" class=\"dataframe\">\n",
       "  <thead>\n",
       "    <tr style=\"text-align: right;\">\n",
       "      <th></th>\n",
       "      <th>APPLICATION_TYPE</th>\n",
       "      <th>AFFILIATION</th>\n",
       "      <th>USE_CASE</th>\n",
       "      <th>ORGANIZATION</th>\n",
       "      <th>STATUS</th>\n",
       "      <th>INCOME_AMT</th>\n",
       "      <th>SPECIAL_CONSIDERATIONS</th>\n",
       "      <th>ASK_AMT</th>\n",
       "      <th>IS_SUCCESSFUL</th>\n",
       "    </tr>\n",
       "    <tr>\n",
       "      <th>EIN</th>\n",
       "      <th></th>\n",
       "      <th></th>\n",
       "      <th></th>\n",
       "      <th></th>\n",
       "      <th></th>\n",
       "      <th></th>\n",
       "      <th></th>\n",
       "      <th></th>\n",
       "      <th></th>\n",
       "    </tr>\n",
       "  </thead>\n",
       "  <tbody>\n",
       "    <tr>\n",
       "      <th>10520599</th>\n",
       "      <td>T10</td>\n",
       "      <td>Independent</td>\n",
       "      <td>ProductDev</td>\n",
       "      <td>Association</td>\n",
       "      <td>1</td>\n",
       "      <td>0</td>\n",
       "      <td>N</td>\n",
       "      <td>5000</td>\n",
       "      <td>1</td>\n",
       "    </tr>\n",
       "    <tr>\n",
       "      <th>10531628</th>\n",
       "      <td>T3</td>\n",
       "      <td>Independent</td>\n",
       "      <td>Preservation</td>\n",
       "      <td>Co-operative</td>\n",
       "      <td>1</td>\n",
       "      <td>1-9999</td>\n",
       "      <td>N</td>\n",
       "      <td>108590</td>\n",
       "      <td>1</td>\n",
       "    </tr>\n",
       "    <tr>\n",
       "      <th>10547893</th>\n",
       "      <td>T5</td>\n",
       "      <td>CompanySponsored</td>\n",
       "      <td>ProductDev</td>\n",
       "      <td>Association</td>\n",
       "      <td>1</td>\n",
       "      <td>0</td>\n",
       "      <td>N</td>\n",
       "      <td>5000</td>\n",
       "      <td>0</td>\n",
       "    </tr>\n",
       "    <tr>\n",
       "      <th>10553066</th>\n",
       "      <td>T3</td>\n",
       "      <td>CompanySponsored</td>\n",
       "      <td>Preservation</td>\n",
       "      <td>Trust</td>\n",
       "      <td>1</td>\n",
       "      <td>10000-24999</td>\n",
       "      <td>N</td>\n",
       "      <td>6692</td>\n",
       "      <td>1</td>\n",
       "    </tr>\n",
       "    <tr>\n",
       "      <th>10556103</th>\n",
       "      <td>T3</td>\n",
       "      <td>Independent</td>\n",
       "      <td>Heathcare</td>\n",
       "      <td>Trust</td>\n",
       "      <td>1</td>\n",
       "      <td>100000-499999</td>\n",
       "      <td>N</td>\n",
       "      <td>142590</td>\n",
       "      <td>1</td>\n",
       "    </tr>\n",
       "  </tbody>\n",
       "</table>\n",
       "</div>"
      ],
      "text/plain": [
       "         APPLICATION_TYPE       AFFILIATION      USE_CASE  ORGANIZATION  \\\n",
       "EIN                                                                       \n",
       "10520599              T10       Independent    ProductDev   Association   \n",
       "10531628               T3       Independent  Preservation  Co-operative   \n",
       "10547893               T5  CompanySponsored    ProductDev   Association   \n",
       "10553066               T3  CompanySponsored  Preservation         Trust   \n",
       "10556103               T3       Independent     Heathcare         Trust   \n",
       "\n",
       "          STATUS     INCOME_AMT SPECIAL_CONSIDERATIONS  ASK_AMT  IS_SUCCESSFUL  \n",
       "EIN                                                                             \n",
       "10520599       1              0                      N     5000              1  \n",
       "10531628       1         1-9999                      N   108590              1  \n",
       "10547893       1              0                      N     5000              0  \n",
       "10553066       1    10000-24999                      N     6692              1  \n",
       "10556103       1  100000-499999                      N   142590              1  "
      ]
     },
     "execution_count": 26,
     "metadata": {},
     "output_type": "execute_result"
    }
   ],
   "source": [
    "charity_df.head()"
   ]
  },
  {
   "cell_type": "markdown",
   "metadata": {},
   "source": [
    "### USE_CASE"
   ]
  },
  {
   "cell_type": "code",
   "execution_count": 27,
   "metadata": {},
   "outputs": [
    {
     "name": "stdout",
     "output_type": "stream",
     "text": [
      "['ProductDev' 'Preservation' 'Heathcare' 'CommunityServ' 'Other']\n"
     ]
    }
   ],
   "source": [
    "use_case_list = charity_df['USE_CASE'].unique()\n",
    "print(use_case_list)"
   ]
  },
  {
   "cell_type": "code",
   "execution_count": 28,
   "metadata": {},
   "outputs": [
    {
     "name": "stdout",
     "output_type": "stream",
     "text": [
      "Preservation     27941\n",
      "ProductDev        5443\n",
      "CommunityServ      382\n",
      "Heathcare          143\n",
      "Other                3\n",
      "Name: USE_CASE, dtype: int64\n"
     ]
    }
   ],
   "source": [
    "use_case_count = charity_df['USE_CASE'].value_counts()\n",
    "print(use_case_count)"
   ]
  },
  {
   "cell_type": "markdown",
   "metadata": {},
   "source": [
    "- Bin CommunityServ, Healthcare, other"
   ]
  },
  {
   "cell_type": "code",
   "execution_count": 29,
   "metadata": {},
   "outputs": [],
   "source": [
    "# Group USE_CASES 'Heathcare', 'CommunityServ', 'Other' into bin named 'Other'\n",
    "use_case_bin = list(use_case_count[use_case_count < 5000].index)"
   ]
  },
  {
   "cell_type": "code",
   "execution_count": 30,
   "metadata": {},
   "outputs": [
    {
     "name": "stdout",
     "output_type": "stream",
     "text": [
      "['CommunityServ', 'Heathcare', 'Other']\n"
     ]
    }
   ],
   "source": [
    "print(use_case_bin)"
   ]
  },
  {
   "cell_type": "code",
   "execution_count": 31,
   "metadata": {},
   "outputs": [],
   "source": [
    "# Apply new 'Other' bin to \n",
    "for case in use_case_bin:\n",
    "    charity_df.USE_CASE = charity_df.USE_CASE.replace(case, 'Other')    "
   ]
  },
  {
   "cell_type": "code",
   "execution_count": 32,
   "metadata": {},
   "outputs": [
    {
     "name": "stdout",
     "output_type": "stream",
     "text": [
      "Preservation    27941\n",
      "ProductDev       5443\n",
      "Other             528\n",
      "Name: USE_CASE, dtype: int64\n"
     ]
    }
   ],
   "source": [
    "# Check bins\n",
    "use_case_count = charity_df['USE_CASE'].value_counts()\n",
    "print(use_case_count)"
   ]
  },
  {
   "cell_type": "markdown",
   "metadata": {},
   "source": [
    "### ORGANIZATION"
   ]
  },
  {
   "cell_type": "code",
   "execution_count": 33,
   "metadata": {},
   "outputs": [
    {
     "name": "stdout",
     "output_type": "stream",
     "text": [
      "['Association' 'Co-operative' 'Trust' 'Corporation']\n"
     ]
    }
   ],
   "source": [
    "organization_list = charity_df['ORGANIZATION'].unique()\n",
    "print(organization_list)"
   ]
  },
  {
   "cell_type": "code",
   "execution_count": 34,
   "metadata": {},
   "outputs": [
    {
     "name": "stdout",
     "output_type": "stream",
     "text": [
      "{'Trust': 23313, 'Association': 10227, 'Co-operative': 332, 'Corporation': 40}\n"
     ]
    }
   ],
   "source": [
    "organization_list = dict(charity_df['ORGANIZATION'].value_counts())\n",
    "print(organization_list)"
   ]
  },
  {
   "cell_type": "code",
   "execution_count": 35,
   "metadata": {},
   "outputs": [
    {
     "name": "stdout",
     "output_type": "stream",
     "text": [
      "{'Trust': 23645, 'Association': 10267}\n"
     ]
    }
   ],
   "source": [
    "# Group USE_CASES 'Heathcare', 'CommunityServ', 'Other' into bin named 'Other'\n",
    "\n",
    "charity_df.ORGANIZATION = charity_df.ORGANIZATION.replace('Co-operative', 'Trust')\n",
    "charity_df.ORGANIZATION = charity_df.ORGANIZATION.replace('Corporation', 'Association')\n",
    "\n",
    "organization_list = dict(charity_df['ORGANIZATION'].value_counts())\n",
    "print(organization_list)"
   ]
  },
  {
   "cell_type": "markdown",
   "metadata": {},
   "source": [
    "### STATUS"
   ]
  },
  {
   "cell_type": "code",
   "execution_count": 36,
   "metadata": {},
   "outputs": [
    {
     "data": {
      "text/html": [
       "<div>\n",
       "<style scoped>\n",
       "    .dataframe tbody tr th:only-of-type {\n",
       "        vertical-align: middle;\n",
       "    }\n",
       "\n",
       "    .dataframe tbody tr th {\n",
       "        vertical-align: top;\n",
       "    }\n",
       "\n",
       "    .dataframe thead th {\n",
       "        text-align: right;\n",
       "    }\n",
       "</style>\n",
       "<table border=\"1\" class=\"dataframe\">\n",
       "  <thead>\n",
       "    <tr style=\"text-align: right;\">\n",
       "      <th></th>\n",
       "      <th>APPLICATION_TYPE</th>\n",
       "      <th>AFFILIATION</th>\n",
       "      <th>USE_CASE</th>\n",
       "      <th>ORGANIZATION</th>\n",
       "      <th>STATUS</th>\n",
       "      <th>INCOME_AMT</th>\n",
       "      <th>SPECIAL_CONSIDERATIONS</th>\n",
       "      <th>ASK_AMT</th>\n",
       "      <th>IS_SUCCESSFUL</th>\n",
       "    </tr>\n",
       "    <tr>\n",
       "      <th>EIN</th>\n",
       "      <th></th>\n",
       "      <th></th>\n",
       "      <th></th>\n",
       "      <th></th>\n",
       "      <th></th>\n",
       "      <th></th>\n",
       "      <th></th>\n",
       "      <th></th>\n",
       "      <th></th>\n",
       "    </tr>\n",
       "  </thead>\n",
       "  <tbody>\n",
       "    <tr>\n",
       "      <th>205559542</th>\n",
       "      <td>T3</td>\n",
       "      <td>CompanySponsored</td>\n",
       "      <td>Other</td>\n",
       "      <td>Trust</td>\n",
       "      <td>0</td>\n",
       "      <td>0</td>\n",
       "      <td>N</td>\n",
       "      <td>5000</td>\n",
       "      <td>1</td>\n",
       "    </tr>\n",
       "    <tr>\n",
       "      <th>205918776</th>\n",
       "      <td>T3</td>\n",
       "      <td>Independent</td>\n",
       "      <td>Preservation</td>\n",
       "      <td>Trust</td>\n",
       "      <td>0</td>\n",
       "      <td>25000-99999</td>\n",
       "      <td>Y</td>\n",
       "      <td>7287</td>\n",
       "      <td>1</td>\n",
       "    </tr>\n",
       "    <tr>\n",
       "      <th>330970564</th>\n",
       "      <td>T3</td>\n",
       "      <td>Independent</td>\n",
       "      <td>Preservation</td>\n",
       "      <td>Trust</td>\n",
       "      <td>0</td>\n",
       "      <td>10000-24999</td>\n",
       "      <td>N</td>\n",
       "      <td>5000</td>\n",
       "      <td>1</td>\n",
       "    </tr>\n",
       "    <tr>\n",
       "      <th>510594485</th>\n",
       "      <td>T3</td>\n",
       "      <td>CompanySponsored</td>\n",
       "      <td>Other</td>\n",
       "      <td>Association</td>\n",
       "      <td>0</td>\n",
       "      <td>0</td>\n",
       "      <td>N</td>\n",
       "      <td>5000</td>\n",
       "      <td>0</td>\n",
       "    </tr>\n",
       "    <tr>\n",
       "      <th>841164329</th>\n",
       "      <td>T3</td>\n",
       "      <td>Independent</td>\n",
       "      <td>Preservation</td>\n",
       "      <td>Association</td>\n",
       "      <td>0</td>\n",
       "      <td>0</td>\n",
       "      <td>N</td>\n",
       "      <td>5000</td>\n",
       "      <td>0</td>\n",
       "    </tr>\n",
       "  </tbody>\n",
       "</table>\n",
       "</div>"
      ],
      "text/plain": [
       "          APPLICATION_TYPE       AFFILIATION      USE_CASE ORGANIZATION  \\\n",
       "EIN                                                                       \n",
       "205559542               T3  CompanySponsored         Other        Trust   \n",
       "205918776               T3       Independent  Preservation        Trust   \n",
       "330970564               T3       Independent  Preservation        Trust   \n",
       "510594485               T3  CompanySponsored         Other  Association   \n",
       "841164329               T3       Independent  Preservation  Association   \n",
       "\n",
       "           STATUS   INCOME_AMT SPECIAL_CONSIDERATIONS  ASK_AMT  IS_SUCCESSFUL  \n",
       "EIN                                                                            \n",
       "205559542       0            0                      N     5000              1  \n",
       "205918776       0  25000-99999                      Y     7287              1  \n",
       "330970564       0  10000-24999                      N     5000              1  \n",
       "510594485       0            0                      N     5000              0  \n",
       "841164329       0            0                      N     5000              0  "
      ]
     },
     "execution_count": 36,
     "metadata": {},
     "output_type": "execute_result"
    }
   ],
   "source": [
    "charity_df.loc[charity_df['STATUS'] == 0]"
   ]
  },
  {
   "cell_type": "markdown",
   "metadata": {},
   "source": [
    "- drop status as its difficult to draw any meaning from category"
   ]
  },
  {
   "cell_type": "code",
   "execution_count": 37,
   "metadata": {},
   "outputs": [],
   "source": [
    "charity_df = charity_df.drop('STATUS', axis=1)"
   ]
  },
  {
   "cell_type": "code",
   "execution_count": 38,
   "metadata": {},
   "outputs": [
    {
     "data": {
      "text/html": [
       "<div>\n",
       "<style scoped>\n",
       "    .dataframe tbody tr th:only-of-type {\n",
       "        vertical-align: middle;\n",
       "    }\n",
       "\n",
       "    .dataframe tbody tr th {\n",
       "        vertical-align: top;\n",
       "    }\n",
       "\n",
       "    .dataframe thead th {\n",
       "        text-align: right;\n",
       "    }\n",
       "</style>\n",
       "<table border=\"1\" class=\"dataframe\">\n",
       "  <thead>\n",
       "    <tr style=\"text-align: right;\">\n",
       "      <th></th>\n",
       "      <th>APPLICATION_TYPE</th>\n",
       "      <th>AFFILIATION</th>\n",
       "      <th>USE_CASE</th>\n",
       "      <th>ORGANIZATION</th>\n",
       "      <th>INCOME_AMT</th>\n",
       "      <th>SPECIAL_CONSIDERATIONS</th>\n",
       "      <th>ASK_AMT</th>\n",
       "      <th>IS_SUCCESSFUL</th>\n",
       "    </tr>\n",
       "    <tr>\n",
       "      <th>EIN</th>\n",
       "      <th></th>\n",
       "      <th></th>\n",
       "      <th></th>\n",
       "      <th></th>\n",
       "      <th></th>\n",
       "      <th></th>\n",
       "      <th></th>\n",
       "      <th></th>\n",
       "    </tr>\n",
       "  </thead>\n",
       "  <tbody>\n",
       "    <tr>\n",
       "      <th>10520599</th>\n",
       "      <td>T10</td>\n",
       "      <td>Independent</td>\n",
       "      <td>ProductDev</td>\n",
       "      <td>Association</td>\n",
       "      <td>0</td>\n",
       "      <td>N</td>\n",
       "      <td>5000</td>\n",
       "      <td>1</td>\n",
       "    </tr>\n",
       "    <tr>\n",
       "      <th>10531628</th>\n",
       "      <td>T3</td>\n",
       "      <td>Independent</td>\n",
       "      <td>Preservation</td>\n",
       "      <td>Trust</td>\n",
       "      <td>1-9999</td>\n",
       "      <td>N</td>\n",
       "      <td>108590</td>\n",
       "      <td>1</td>\n",
       "    </tr>\n",
       "    <tr>\n",
       "      <th>10547893</th>\n",
       "      <td>T5</td>\n",
       "      <td>CompanySponsored</td>\n",
       "      <td>ProductDev</td>\n",
       "      <td>Association</td>\n",
       "      <td>0</td>\n",
       "      <td>N</td>\n",
       "      <td>5000</td>\n",
       "      <td>0</td>\n",
       "    </tr>\n",
       "    <tr>\n",
       "      <th>10553066</th>\n",
       "      <td>T3</td>\n",
       "      <td>CompanySponsored</td>\n",
       "      <td>Preservation</td>\n",
       "      <td>Trust</td>\n",
       "      <td>10000-24999</td>\n",
       "      <td>N</td>\n",
       "      <td>6692</td>\n",
       "      <td>1</td>\n",
       "    </tr>\n",
       "    <tr>\n",
       "      <th>10556103</th>\n",
       "      <td>T3</td>\n",
       "      <td>Independent</td>\n",
       "      <td>Other</td>\n",
       "      <td>Trust</td>\n",
       "      <td>100000-499999</td>\n",
       "      <td>N</td>\n",
       "      <td>142590</td>\n",
       "      <td>1</td>\n",
       "    </tr>\n",
       "  </tbody>\n",
       "</table>\n",
       "</div>"
      ],
      "text/plain": [
       "         APPLICATION_TYPE       AFFILIATION      USE_CASE ORGANIZATION  \\\n",
       "EIN                                                                      \n",
       "10520599              T10       Independent    ProductDev  Association   \n",
       "10531628               T3       Independent  Preservation        Trust   \n",
       "10547893               T5  CompanySponsored    ProductDev  Association   \n",
       "10553066               T3  CompanySponsored  Preservation        Trust   \n",
       "10556103               T3       Independent         Other        Trust   \n",
       "\n",
       "             INCOME_AMT SPECIAL_CONSIDERATIONS  ASK_AMT  IS_SUCCESSFUL  \n",
       "EIN                                                                     \n",
       "10520599              0                      N     5000              1  \n",
       "10531628         1-9999                      N   108590              1  \n",
       "10547893              0                      N     5000              0  \n",
       "10553066    10000-24999                      N     6692              1  \n",
       "10556103  100000-499999                      N   142590              1  "
      ]
     },
     "execution_count": 38,
     "metadata": {},
     "output_type": "execute_result"
    }
   ],
   "source": [
    "charity_df.head()"
   ]
  },
  {
   "cell_type": "markdown",
   "metadata": {},
   "source": [
    "### SPECIAL CONSIDERATIONS"
   ]
  },
  {
   "cell_type": "code",
   "execution_count": 39,
   "metadata": {},
   "outputs": [
    {
     "data": {
      "text/plain": [
       "N    33885\n",
       "Y       27\n",
       "Name: SPECIAL_CONSIDERATIONS, dtype: int64"
      ]
     },
     "execution_count": 39,
     "metadata": {},
     "output_type": "execute_result"
    }
   ],
   "source": [
    "charity_df['SPECIAL_CONSIDERATIONS'].value_counts()"
   ]
  },
  {
   "cell_type": "markdown",
   "metadata": {},
   "source": [
    "- drop special considerations"
   ]
  },
  {
   "cell_type": "code",
   "execution_count": 40,
   "metadata": {},
   "outputs": [],
   "source": [
    "charity_df = charity_df.drop('SPECIAL_CONSIDERATIONS', axis=1)"
   ]
  },
  {
   "cell_type": "code",
   "execution_count": 41,
   "metadata": {},
   "outputs": [
    {
     "data": {
      "text/html": [
       "<div>\n",
       "<style scoped>\n",
       "    .dataframe tbody tr th:only-of-type {\n",
       "        vertical-align: middle;\n",
       "    }\n",
       "\n",
       "    .dataframe tbody tr th {\n",
       "        vertical-align: top;\n",
       "    }\n",
       "\n",
       "    .dataframe thead th {\n",
       "        text-align: right;\n",
       "    }\n",
       "</style>\n",
       "<table border=\"1\" class=\"dataframe\">\n",
       "  <thead>\n",
       "    <tr style=\"text-align: right;\">\n",
       "      <th></th>\n",
       "      <th>APPLICATION_TYPE</th>\n",
       "      <th>AFFILIATION</th>\n",
       "      <th>USE_CASE</th>\n",
       "      <th>ORGANIZATION</th>\n",
       "      <th>INCOME_AMT</th>\n",
       "      <th>ASK_AMT</th>\n",
       "      <th>IS_SUCCESSFUL</th>\n",
       "    </tr>\n",
       "    <tr>\n",
       "      <th>EIN</th>\n",
       "      <th></th>\n",
       "      <th></th>\n",
       "      <th></th>\n",
       "      <th></th>\n",
       "      <th></th>\n",
       "      <th></th>\n",
       "      <th></th>\n",
       "    </tr>\n",
       "  </thead>\n",
       "  <tbody>\n",
       "    <tr>\n",
       "      <th>10520599</th>\n",
       "      <td>T10</td>\n",
       "      <td>Independent</td>\n",
       "      <td>ProductDev</td>\n",
       "      <td>Association</td>\n",
       "      <td>0</td>\n",
       "      <td>5000</td>\n",
       "      <td>1</td>\n",
       "    </tr>\n",
       "    <tr>\n",
       "      <th>10531628</th>\n",
       "      <td>T3</td>\n",
       "      <td>Independent</td>\n",
       "      <td>Preservation</td>\n",
       "      <td>Trust</td>\n",
       "      <td>1-9999</td>\n",
       "      <td>108590</td>\n",
       "      <td>1</td>\n",
       "    </tr>\n",
       "    <tr>\n",
       "      <th>10547893</th>\n",
       "      <td>T5</td>\n",
       "      <td>CompanySponsored</td>\n",
       "      <td>ProductDev</td>\n",
       "      <td>Association</td>\n",
       "      <td>0</td>\n",
       "      <td>5000</td>\n",
       "      <td>0</td>\n",
       "    </tr>\n",
       "    <tr>\n",
       "      <th>10553066</th>\n",
       "      <td>T3</td>\n",
       "      <td>CompanySponsored</td>\n",
       "      <td>Preservation</td>\n",
       "      <td>Trust</td>\n",
       "      <td>10000-24999</td>\n",
       "      <td>6692</td>\n",
       "      <td>1</td>\n",
       "    </tr>\n",
       "    <tr>\n",
       "      <th>10556103</th>\n",
       "      <td>T3</td>\n",
       "      <td>Independent</td>\n",
       "      <td>Other</td>\n",
       "      <td>Trust</td>\n",
       "      <td>100000-499999</td>\n",
       "      <td>142590</td>\n",
       "      <td>1</td>\n",
       "    </tr>\n",
       "  </tbody>\n",
       "</table>\n",
       "</div>"
      ],
      "text/plain": [
       "         APPLICATION_TYPE       AFFILIATION      USE_CASE ORGANIZATION  \\\n",
       "EIN                                                                      \n",
       "10520599              T10       Independent    ProductDev  Association   \n",
       "10531628               T3       Independent  Preservation        Trust   \n",
       "10547893               T5  CompanySponsored    ProductDev  Association   \n",
       "10553066               T3  CompanySponsored  Preservation        Trust   \n",
       "10556103               T3       Independent         Other        Trust   \n",
       "\n",
       "             INCOME_AMT  ASK_AMT  IS_SUCCESSFUL  \n",
       "EIN                                              \n",
       "10520599              0     5000              1  \n",
       "10531628         1-9999   108590              1  \n",
       "10547893              0     5000              0  \n",
       "10553066    10000-24999     6692              1  \n",
       "10556103  100000-499999   142590              1  "
      ]
     },
     "execution_count": 41,
     "metadata": {},
     "output_type": "execute_result"
    }
   ],
   "source": [
    "charity_df.head(5)"
   ]
  },
  {
   "cell_type": "markdown",
   "metadata": {},
   "source": [
    "### ASK_AMT"
   ]
  },
  {
   "cell_type": "code",
   "execution_count": 42,
   "metadata": {},
   "outputs": [
    {
     "data": {
      "text/plain": [
       "0"
      ]
     },
     "execution_count": 42,
     "metadata": {},
     "output_type": "execute_result"
    }
   ],
   "source": [
    "# Check for null values \n",
    "charity_df['ASK_AMT'].isnull().sum()"
   ]
  },
  {
   "cell_type": "code",
   "execution_count": 43,
   "metadata": {},
   "outputs": [
    {
     "data": {
      "text/plain": [
       "APPLICATION_TYPE    0\n",
       "AFFILIATION         0\n",
       "USE_CASE            0\n",
       "ORGANIZATION        0\n",
       "INCOME_AMT          0\n",
       "ASK_AMT             0\n",
       "IS_SUCCESSFUL       0\n",
       "dtype: int64"
      ]
     },
     "execution_count": 43,
     "metadata": {},
     "output_type": "execute_result"
    }
   ],
   "source": [
    "### Check for null values in dataset\n",
    "charity_df.isnull().sum()"
   ]
  },
  {
   "cell_type": "code",
   "execution_count": 44,
   "metadata": {},
   "outputs": [],
   "source": [
    "ask_amounts = charity_df['ASK_AMT'].value_counts()"
   ]
  },
  {
   "cell_type": "code",
   "execution_count": null,
   "metadata": {},
   "outputs": [],
   "source": []
  },
  {
   "cell_type": "markdown",
   "metadata": {},
   "source": [
    "### Encoding Data"
   ]
  },
  {
   "cell_type": "code",
   "execution_count": 45,
   "metadata": {},
   "outputs": [
    {
     "data": {
      "text/plain": [
       "APPLICATION_TYPE    object\n",
       "AFFILIATION         object\n",
       "USE_CASE            object\n",
       "ORGANIZATION        object\n",
       "INCOME_AMT          object\n",
       "ASK_AMT              int64\n",
       "IS_SUCCESSFUL        int64\n",
       "dtype: object"
      ]
     },
     "execution_count": 45,
     "metadata": {},
     "output_type": "execute_result"
    }
   ],
   "source": [
    "charity_df.dtypes"
   ]
  },
  {
   "cell_type": "code",
   "execution_count": 46,
   "metadata": {},
   "outputs": [
    {
     "data": {
      "text/plain": [
       "['APPLICATION_TYPE',\n",
       " 'AFFILIATION',\n",
       " 'USE_CASE',\n",
       " 'ORGANIZATION',\n",
       " 'INCOME_AMT',\n",
       " 'IS_SUCCESSFUL']"
      ]
     },
     "execution_count": 46,
     "metadata": {},
     "output_type": "execute_result"
    }
   ],
   "source": [
    "cat_charity = charity_df.dtypes[charity_df.dtypes == 'object'].index.tolist()\n",
    "is_successful = 'IS_SUCCESSFUL'\n",
    "cat_charity.append(is_successful)\n",
    "cat_charity"
   ]
  },
  {
   "cell_type": "code",
   "execution_count": 47,
   "metadata": {},
   "outputs": [
    {
     "data": {
      "text/html": [
       "<div>\n",
       "<style scoped>\n",
       "    .dataframe tbody tr th:only-of-type {\n",
       "        vertical-align: middle;\n",
       "    }\n",
       "\n",
       "    .dataframe tbody tr th {\n",
       "        vertical-align: top;\n",
       "    }\n",
       "\n",
       "    .dataframe thead th {\n",
       "        text-align: right;\n",
       "    }\n",
       "</style>\n",
       "<table border=\"1\" class=\"dataframe\">\n",
       "  <thead>\n",
       "    <tr style=\"text-align: right;\">\n",
       "      <th></th>\n",
       "      <th>APPLICATION_TYPE_T10</th>\n",
       "      <th>APPLICATION_TYPE_T19</th>\n",
       "      <th>APPLICATION_TYPE_T3</th>\n",
       "      <th>APPLICATION_TYPE_T4</th>\n",
       "      <th>APPLICATION_TYPE_T5</th>\n",
       "      <th>APPLICATION_TYPE_T6</th>\n",
       "      <th>APPLICATION_TYPE_T7</th>\n",
       "      <th>APPLICATION_TYPE_T8</th>\n",
       "      <th>AFFILIATION_CompanySponsored</th>\n",
       "      <th>AFFILIATION_Independent</th>\n",
       "      <th>...</th>\n",
       "      <th>INCOME_AMT_1-9999</th>\n",
       "      <th>INCOME_AMT_10000-24999</th>\n",
       "      <th>INCOME_AMT_100000-499999</th>\n",
       "      <th>INCOME_AMT_10M-50M</th>\n",
       "      <th>INCOME_AMT_1M-5M</th>\n",
       "      <th>INCOME_AMT_25000-99999</th>\n",
       "      <th>INCOME_AMT_50M+</th>\n",
       "      <th>INCOME_AMT_5M-10M</th>\n",
       "      <th>IS_SUCCESSFUL_0</th>\n",
       "      <th>IS_SUCCESSFUL_1</th>\n",
       "    </tr>\n",
       "    <tr>\n",
       "      <th>EIN</th>\n",
       "      <th></th>\n",
       "      <th></th>\n",
       "      <th></th>\n",
       "      <th></th>\n",
       "      <th></th>\n",
       "      <th></th>\n",
       "      <th></th>\n",
       "      <th></th>\n",
       "      <th></th>\n",
       "      <th></th>\n",
       "      <th></th>\n",
       "      <th></th>\n",
       "      <th></th>\n",
       "      <th></th>\n",
       "      <th></th>\n",
       "      <th></th>\n",
       "      <th></th>\n",
       "      <th></th>\n",
       "      <th></th>\n",
       "      <th></th>\n",
       "      <th></th>\n",
       "    </tr>\n",
       "  </thead>\n",
       "  <tbody>\n",
       "    <tr>\n",
       "      <th>10520599</th>\n",
       "      <td>1.0</td>\n",
       "      <td>0.0</td>\n",
       "      <td>0.0</td>\n",
       "      <td>0.0</td>\n",
       "      <td>0.0</td>\n",
       "      <td>0.0</td>\n",
       "      <td>0.0</td>\n",
       "      <td>0.0</td>\n",
       "      <td>0.0</td>\n",
       "      <td>1.0</td>\n",
       "      <td>...</td>\n",
       "      <td>0.0</td>\n",
       "      <td>0.0</td>\n",
       "      <td>0.0</td>\n",
       "      <td>0.0</td>\n",
       "      <td>0.0</td>\n",
       "      <td>0.0</td>\n",
       "      <td>0.0</td>\n",
       "      <td>0.0</td>\n",
       "      <td>0.0</td>\n",
       "      <td>1.0</td>\n",
       "    </tr>\n",
       "    <tr>\n",
       "      <th>10531628</th>\n",
       "      <td>0.0</td>\n",
       "      <td>0.0</td>\n",
       "      <td>1.0</td>\n",
       "      <td>0.0</td>\n",
       "      <td>0.0</td>\n",
       "      <td>0.0</td>\n",
       "      <td>0.0</td>\n",
       "      <td>0.0</td>\n",
       "      <td>0.0</td>\n",
       "      <td>1.0</td>\n",
       "      <td>...</td>\n",
       "      <td>1.0</td>\n",
       "      <td>0.0</td>\n",
       "      <td>0.0</td>\n",
       "      <td>0.0</td>\n",
       "      <td>0.0</td>\n",
       "      <td>0.0</td>\n",
       "      <td>0.0</td>\n",
       "      <td>0.0</td>\n",
       "      <td>0.0</td>\n",
       "      <td>1.0</td>\n",
       "    </tr>\n",
       "    <tr>\n",
       "      <th>10547893</th>\n",
       "      <td>0.0</td>\n",
       "      <td>0.0</td>\n",
       "      <td>0.0</td>\n",
       "      <td>0.0</td>\n",
       "      <td>1.0</td>\n",
       "      <td>0.0</td>\n",
       "      <td>0.0</td>\n",
       "      <td>0.0</td>\n",
       "      <td>1.0</td>\n",
       "      <td>0.0</td>\n",
       "      <td>...</td>\n",
       "      <td>0.0</td>\n",
       "      <td>0.0</td>\n",
       "      <td>0.0</td>\n",
       "      <td>0.0</td>\n",
       "      <td>0.0</td>\n",
       "      <td>0.0</td>\n",
       "      <td>0.0</td>\n",
       "      <td>0.0</td>\n",
       "      <td>1.0</td>\n",
       "      <td>0.0</td>\n",
       "    </tr>\n",
       "    <tr>\n",
       "      <th>10553066</th>\n",
       "      <td>0.0</td>\n",
       "      <td>0.0</td>\n",
       "      <td>1.0</td>\n",
       "      <td>0.0</td>\n",
       "      <td>0.0</td>\n",
       "      <td>0.0</td>\n",
       "      <td>0.0</td>\n",
       "      <td>0.0</td>\n",
       "      <td>1.0</td>\n",
       "      <td>0.0</td>\n",
       "      <td>...</td>\n",
       "      <td>0.0</td>\n",
       "      <td>1.0</td>\n",
       "      <td>0.0</td>\n",
       "      <td>0.0</td>\n",
       "      <td>0.0</td>\n",
       "      <td>0.0</td>\n",
       "      <td>0.0</td>\n",
       "      <td>0.0</td>\n",
       "      <td>0.0</td>\n",
       "      <td>1.0</td>\n",
       "    </tr>\n",
       "    <tr>\n",
       "      <th>10556103</th>\n",
       "      <td>0.0</td>\n",
       "      <td>0.0</td>\n",
       "      <td>1.0</td>\n",
       "      <td>0.0</td>\n",
       "      <td>0.0</td>\n",
       "      <td>0.0</td>\n",
       "      <td>0.0</td>\n",
       "      <td>0.0</td>\n",
       "      <td>0.0</td>\n",
       "      <td>1.0</td>\n",
       "      <td>...</td>\n",
       "      <td>0.0</td>\n",
       "      <td>0.0</td>\n",
       "      <td>1.0</td>\n",
       "      <td>0.0</td>\n",
       "      <td>0.0</td>\n",
       "      <td>0.0</td>\n",
       "      <td>0.0</td>\n",
       "      <td>0.0</td>\n",
       "      <td>0.0</td>\n",
       "      <td>1.0</td>\n",
       "    </tr>\n",
       "  </tbody>\n",
       "</table>\n",
       "<p>5 rows × 26 columns</p>\n",
       "</div>"
      ],
      "text/plain": [
       "          APPLICATION_TYPE_T10  APPLICATION_TYPE_T19  APPLICATION_TYPE_T3  \\\n",
       "EIN                                                                         \n",
       "10520599                   1.0                   0.0                  0.0   \n",
       "10531628                   0.0                   0.0                  1.0   \n",
       "10547893                   0.0                   0.0                  0.0   \n",
       "10553066                   0.0                   0.0                  1.0   \n",
       "10556103                   0.0                   0.0                  1.0   \n",
       "\n",
       "          APPLICATION_TYPE_T4  APPLICATION_TYPE_T5  APPLICATION_TYPE_T6  \\\n",
       "EIN                                                                       \n",
       "10520599                  0.0                  0.0                  0.0   \n",
       "10531628                  0.0                  0.0                  0.0   \n",
       "10547893                  0.0                  1.0                  0.0   \n",
       "10553066                  0.0                  0.0                  0.0   \n",
       "10556103                  0.0                  0.0                  0.0   \n",
       "\n",
       "          APPLICATION_TYPE_T7  APPLICATION_TYPE_T8  \\\n",
       "EIN                                                  \n",
       "10520599                  0.0                  0.0   \n",
       "10531628                  0.0                  0.0   \n",
       "10547893                  0.0                  0.0   \n",
       "10553066                  0.0                  0.0   \n",
       "10556103                  0.0                  0.0   \n",
       "\n",
       "          AFFILIATION_CompanySponsored  AFFILIATION_Independent  ...  \\\n",
       "EIN                                                              ...   \n",
       "10520599                           0.0                      1.0  ...   \n",
       "10531628                           0.0                      1.0  ...   \n",
       "10547893                           1.0                      0.0  ...   \n",
       "10553066                           1.0                      0.0  ...   \n",
       "10556103                           0.0                      1.0  ...   \n",
       "\n",
       "          INCOME_AMT_1-9999  INCOME_AMT_10000-24999  INCOME_AMT_100000-499999  \\\n",
       "EIN                                                                             \n",
       "10520599                0.0                     0.0                       0.0   \n",
       "10531628                1.0                     0.0                       0.0   \n",
       "10547893                0.0                     0.0                       0.0   \n",
       "10553066                0.0                     1.0                       0.0   \n",
       "10556103                0.0                     0.0                       1.0   \n",
       "\n",
       "          INCOME_AMT_10M-50M  INCOME_AMT_1M-5M  INCOME_AMT_25000-99999  \\\n",
       "EIN                                                                      \n",
       "10520599                 0.0               0.0                     0.0   \n",
       "10531628                 0.0               0.0                     0.0   \n",
       "10547893                 0.0               0.0                     0.0   \n",
       "10553066                 0.0               0.0                     0.0   \n",
       "10556103                 0.0               0.0                     0.0   \n",
       "\n",
       "          INCOME_AMT_50M+  INCOME_AMT_5M-10M  IS_SUCCESSFUL_0  IS_SUCCESSFUL_1  \n",
       "EIN                                                                             \n",
       "10520599              0.0                0.0              0.0              1.0  \n",
       "10531628              0.0                0.0              0.0              1.0  \n",
       "10547893              0.0                0.0              1.0              0.0  \n",
       "10553066              0.0                0.0              0.0              1.0  \n",
       "10556103              0.0                0.0              0.0              1.0  \n",
       "\n",
       "[5 rows x 26 columns]"
      ]
     },
     "execution_count": 47,
     "metadata": {},
     "output_type": "execute_result"
    }
   ],
   "source": [
    "# Create a OneHotEncoder instance\n",
    "enc = OneHotEncoder(sparse=False)\n",
    "\n",
    "# Fit and transform the OneHotEncoder using the categorical variable list\n",
    "encode_df = pd.DataFrame(enc.fit_transform(charity_df[cat_charity]))\n",
    "\n",
    "# Set index to match charity_df index\n",
    "encode_df = encode_df.set_index(charity_df.index)\n",
    "\n",
    "# Add the encoded variable names to the DataFrame\n",
    "encode_df.columns = enc.get_feature_names(cat_charity)\n",
    "encode_df.head()"
   ]
  },
  {
   "cell_type": "code",
   "execution_count": 48,
   "metadata": {},
   "outputs": [
    {
     "data": {
      "text/html": [
       "<div>\n",
       "<style scoped>\n",
       "    .dataframe tbody tr th:only-of-type {\n",
       "        vertical-align: middle;\n",
       "    }\n",
       "\n",
       "    .dataframe tbody tr th {\n",
       "        vertical-align: top;\n",
       "    }\n",
       "\n",
       "    .dataframe thead th {\n",
       "        text-align: right;\n",
       "    }\n",
       "</style>\n",
       "<table border=\"1\" class=\"dataframe\">\n",
       "  <thead>\n",
       "    <tr style=\"text-align: right;\">\n",
       "      <th></th>\n",
       "      <th>APPLICATION_TYPE</th>\n",
       "      <th>AFFILIATION</th>\n",
       "      <th>USE_CASE</th>\n",
       "      <th>ORGANIZATION</th>\n",
       "      <th>INCOME_AMT</th>\n",
       "      <th>ASK_AMT</th>\n",
       "      <th>IS_SUCCESSFUL</th>\n",
       "      <th>APPLICATION_TYPE_T10</th>\n",
       "      <th>APPLICATION_TYPE_T19</th>\n",
       "      <th>APPLICATION_TYPE_T3</th>\n",
       "      <th>...</th>\n",
       "      <th>INCOME_AMT_1-9999</th>\n",
       "      <th>INCOME_AMT_10000-24999</th>\n",
       "      <th>INCOME_AMT_100000-499999</th>\n",
       "      <th>INCOME_AMT_10M-50M</th>\n",
       "      <th>INCOME_AMT_1M-5M</th>\n",
       "      <th>INCOME_AMT_25000-99999</th>\n",
       "      <th>INCOME_AMT_50M+</th>\n",
       "      <th>INCOME_AMT_5M-10M</th>\n",
       "      <th>IS_SUCCESSFUL_0</th>\n",
       "      <th>IS_SUCCESSFUL_1</th>\n",
       "    </tr>\n",
       "    <tr>\n",
       "      <th>EIN</th>\n",
       "      <th></th>\n",
       "      <th></th>\n",
       "      <th></th>\n",
       "      <th></th>\n",
       "      <th></th>\n",
       "      <th></th>\n",
       "      <th></th>\n",
       "      <th></th>\n",
       "      <th></th>\n",
       "      <th></th>\n",
       "      <th></th>\n",
       "      <th></th>\n",
       "      <th></th>\n",
       "      <th></th>\n",
       "      <th></th>\n",
       "      <th></th>\n",
       "      <th></th>\n",
       "      <th></th>\n",
       "      <th></th>\n",
       "      <th></th>\n",
       "      <th></th>\n",
       "    </tr>\n",
       "  </thead>\n",
       "  <tbody>\n",
       "    <tr>\n",
       "      <th>10520599</th>\n",
       "      <td>T10</td>\n",
       "      <td>Independent</td>\n",
       "      <td>ProductDev</td>\n",
       "      <td>Association</td>\n",
       "      <td>0</td>\n",
       "      <td>5000</td>\n",
       "      <td>1</td>\n",
       "      <td>1.0</td>\n",
       "      <td>0.0</td>\n",
       "      <td>0.0</td>\n",
       "      <td>...</td>\n",
       "      <td>0.0</td>\n",
       "      <td>0.0</td>\n",
       "      <td>0.0</td>\n",
       "      <td>0.0</td>\n",
       "      <td>0.0</td>\n",
       "      <td>0.0</td>\n",
       "      <td>0.0</td>\n",
       "      <td>0.0</td>\n",
       "      <td>0.0</td>\n",
       "      <td>1.0</td>\n",
       "    </tr>\n",
       "    <tr>\n",
       "      <th>10531628</th>\n",
       "      <td>T3</td>\n",
       "      <td>Independent</td>\n",
       "      <td>Preservation</td>\n",
       "      <td>Trust</td>\n",
       "      <td>1-9999</td>\n",
       "      <td>108590</td>\n",
       "      <td>1</td>\n",
       "      <td>0.0</td>\n",
       "      <td>0.0</td>\n",
       "      <td>1.0</td>\n",
       "      <td>...</td>\n",
       "      <td>1.0</td>\n",
       "      <td>0.0</td>\n",
       "      <td>0.0</td>\n",
       "      <td>0.0</td>\n",
       "      <td>0.0</td>\n",
       "      <td>0.0</td>\n",
       "      <td>0.0</td>\n",
       "      <td>0.0</td>\n",
       "      <td>0.0</td>\n",
       "      <td>1.0</td>\n",
       "    </tr>\n",
       "    <tr>\n",
       "      <th>10547893</th>\n",
       "      <td>T5</td>\n",
       "      <td>CompanySponsored</td>\n",
       "      <td>ProductDev</td>\n",
       "      <td>Association</td>\n",
       "      <td>0</td>\n",
       "      <td>5000</td>\n",
       "      <td>0</td>\n",
       "      <td>0.0</td>\n",
       "      <td>0.0</td>\n",
       "      <td>0.0</td>\n",
       "      <td>...</td>\n",
       "      <td>0.0</td>\n",
       "      <td>0.0</td>\n",
       "      <td>0.0</td>\n",
       "      <td>0.0</td>\n",
       "      <td>0.0</td>\n",
       "      <td>0.0</td>\n",
       "      <td>0.0</td>\n",
       "      <td>0.0</td>\n",
       "      <td>1.0</td>\n",
       "      <td>0.0</td>\n",
       "    </tr>\n",
       "  </tbody>\n",
       "</table>\n",
       "<p>3 rows × 33 columns</p>\n",
       "</div>"
      ],
      "text/plain": [
       "         APPLICATION_TYPE       AFFILIATION      USE_CASE ORGANIZATION  \\\n",
       "EIN                                                                      \n",
       "10520599              T10       Independent    ProductDev  Association   \n",
       "10531628               T3       Independent  Preservation        Trust   \n",
       "10547893               T5  CompanySponsored    ProductDev  Association   \n",
       "\n",
       "         INCOME_AMT  ASK_AMT  IS_SUCCESSFUL  APPLICATION_TYPE_T10  \\\n",
       "EIN                                                                 \n",
       "10520599          0     5000              1                   1.0   \n",
       "10531628     1-9999   108590              1                   0.0   \n",
       "10547893          0     5000              0                   0.0   \n",
       "\n",
       "          APPLICATION_TYPE_T19  APPLICATION_TYPE_T3  ...  INCOME_AMT_1-9999  \\\n",
       "EIN                                                  ...                      \n",
       "10520599                   0.0                  0.0  ...                0.0   \n",
       "10531628                   0.0                  1.0  ...                1.0   \n",
       "10547893                   0.0                  0.0  ...                0.0   \n",
       "\n",
       "          INCOME_AMT_10000-24999  INCOME_AMT_100000-499999  \\\n",
       "EIN                                                          \n",
       "10520599                     0.0                       0.0   \n",
       "10531628                     0.0                       0.0   \n",
       "10547893                     0.0                       0.0   \n",
       "\n",
       "          INCOME_AMT_10M-50M  INCOME_AMT_1M-5M  INCOME_AMT_25000-99999  \\\n",
       "EIN                                                                      \n",
       "10520599                 0.0               0.0                     0.0   \n",
       "10531628                 0.0               0.0                     0.0   \n",
       "10547893                 0.0               0.0                     0.0   \n",
       "\n",
       "          INCOME_AMT_50M+  INCOME_AMT_5M-10M  IS_SUCCESSFUL_0  IS_SUCCESSFUL_1  \n",
       "EIN                                                                             \n",
       "10520599              0.0                0.0              0.0              1.0  \n",
       "10531628              0.0                0.0              0.0              1.0  \n",
       "10547893              0.0                0.0              1.0              0.0  \n",
       "\n",
       "[3 rows x 33 columns]"
      ]
     },
     "execution_count": 48,
     "metadata": {},
     "output_type": "execute_result"
    }
   ],
   "source": [
    "# Merge one-hot encoded features and drop the originals\n",
    "charity_df = charity_df.merge(encode_df,left_index=True, right_index=True)\n",
    "charity_df.head(3)"
   ]
  },
  {
   "cell_type": "code",
   "execution_count": 49,
   "metadata": {},
   "outputs": [
    {
     "data": {
      "text/html": [
       "<div>\n",
       "<style scoped>\n",
       "    .dataframe tbody tr th:only-of-type {\n",
       "        vertical-align: middle;\n",
       "    }\n",
       "\n",
       "    .dataframe tbody tr th {\n",
       "        vertical-align: top;\n",
       "    }\n",
       "\n",
       "    .dataframe thead th {\n",
       "        text-align: right;\n",
       "    }\n",
       "</style>\n",
       "<table border=\"1\" class=\"dataframe\">\n",
       "  <thead>\n",
       "    <tr style=\"text-align: right;\">\n",
       "      <th></th>\n",
       "      <th>ASK_AMT</th>\n",
       "      <th>APPLICATION_TYPE_T10</th>\n",
       "      <th>APPLICATION_TYPE_T19</th>\n",
       "      <th>APPLICATION_TYPE_T3</th>\n",
       "      <th>APPLICATION_TYPE_T4</th>\n",
       "      <th>APPLICATION_TYPE_T5</th>\n",
       "      <th>APPLICATION_TYPE_T6</th>\n",
       "      <th>APPLICATION_TYPE_T7</th>\n",
       "      <th>APPLICATION_TYPE_T8</th>\n",
       "      <th>AFFILIATION_CompanySponsored</th>\n",
       "      <th>...</th>\n",
       "      <th>INCOME_AMT_1-9999</th>\n",
       "      <th>INCOME_AMT_10000-24999</th>\n",
       "      <th>INCOME_AMT_100000-499999</th>\n",
       "      <th>INCOME_AMT_10M-50M</th>\n",
       "      <th>INCOME_AMT_1M-5M</th>\n",
       "      <th>INCOME_AMT_25000-99999</th>\n",
       "      <th>INCOME_AMT_50M+</th>\n",
       "      <th>INCOME_AMT_5M-10M</th>\n",
       "      <th>IS_SUCCESSFUL_0</th>\n",
       "      <th>IS_SUCCESSFUL_1</th>\n",
       "    </tr>\n",
       "    <tr>\n",
       "      <th>EIN</th>\n",
       "      <th></th>\n",
       "      <th></th>\n",
       "      <th></th>\n",
       "      <th></th>\n",
       "      <th></th>\n",
       "      <th></th>\n",
       "      <th></th>\n",
       "      <th></th>\n",
       "      <th></th>\n",
       "      <th></th>\n",
       "      <th></th>\n",
       "      <th></th>\n",
       "      <th></th>\n",
       "      <th></th>\n",
       "      <th></th>\n",
       "      <th></th>\n",
       "      <th></th>\n",
       "      <th></th>\n",
       "      <th></th>\n",
       "      <th></th>\n",
       "      <th></th>\n",
       "    </tr>\n",
       "  </thead>\n",
       "  <tbody>\n",
       "    <tr>\n",
       "      <th>10520599</th>\n",
       "      <td>5000</td>\n",
       "      <td>1.0</td>\n",
       "      <td>0.0</td>\n",
       "      <td>0.0</td>\n",
       "      <td>0.0</td>\n",
       "      <td>0.0</td>\n",
       "      <td>0.0</td>\n",
       "      <td>0.0</td>\n",
       "      <td>0.0</td>\n",
       "      <td>0.0</td>\n",
       "      <td>...</td>\n",
       "      <td>0.0</td>\n",
       "      <td>0.0</td>\n",
       "      <td>0.0</td>\n",
       "      <td>0.0</td>\n",
       "      <td>0.0</td>\n",
       "      <td>0.0</td>\n",
       "      <td>0.0</td>\n",
       "      <td>0.0</td>\n",
       "      <td>0.0</td>\n",
       "      <td>1.0</td>\n",
       "    </tr>\n",
       "    <tr>\n",
       "      <th>10531628</th>\n",
       "      <td>108590</td>\n",
       "      <td>0.0</td>\n",
       "      <td>0.0</td>\n",
       "      <td>1.0</td>\n",
       "      <td>0.0</td>\n",
       "      <td>0.0</td>\n",
       "      <td>0.0</td>\n",
       "      <td>0.0</td>\n",
       "      <td>0.0</td>\n",
       "      <td>0.0</td>\n",
       "      <td>...</td>\n",
       "      <td>1.0</td>\n",
       "      <td>0.0</td>\n",
       "      <td>0.0</td>\n",
       "      <td>0.0</td>\n",
       "      <td>0.0</td>\n",
       "      <td>0.0</td>\n",
       "      <td>0.0</td>\n",
       "      <td>0.0</td>\n",
       "      <td>0.0</td>\n",
       "      <td>1.0</td>\n",
       "    </tr>\n",
       "    <tr>\n",
       "      <th>10547893</th>\n",
       "      <td>5000</td>\n",
       "      <td>0.0</td>\n",
       "      <td>0.0</td>\n",
       "      <td>0.0</td>\n",
       "      <td>0.0</td>\n",
       "      <td>1.0</td>\n",
       "      <td>0.0</td>\n",
       "      <td>0.0</td>\n",
       "      <td>0.0</td>\n",
       "      <td>1.0</td>\n",
       "      <td>...</td>\n",
       "      <td>0.0</td>\n",
       "      <td>0.0</td>\n",
       "      <td>0.0</td>\n",
       "      <td>0.0</td>\n",
       "      <td>0.0</td>\n",
       "      <td>0.0</td>\n",
       "      <td>0.0</td>\n",
       "      <td>0.0</td>\n",
       "      <td>1.0</td>\n",
       "      <td>0.0</td>\n",
       "    </tr>\n",
       "    <tr>\n",
       "      <th>10553066</th>\n",
       "      <td>6692</td>\n",
       "      <td>0.0</td>\n",
       "      <td>0.0</td>\n",
       "      <td>1.0</td>\n",
       "      <td>0.0</td>\n",
       "      <td>0.0</td>\n",
       "      <td>0.0</td>\n",
       "      <td>0.0</td>\n",
       "      <td>0.0</td>\n",
       "      <td>1.0</td>\n",
       "      <td>...</td>\n",
       "      <td>0.0</td>\n",
       "      <td>1.0</td>\n",
       "      <td>0.0</td>\n",
       "      <td>0.0</td>\n",
       "      <td>0.0</td>\n",
       "      <td>0.0</td>\n",
       "      <td>0.0</td>\n",
       "      <td>0.0</td>\n",
       "      <td>0.0</td>\n",
       "      <td>1.0</td>\n",
       "    </tr>\n",
       "    <tr>\n",
       "      <th>10556103</th>\n",
       "      <td>142590</td>\n",
       "      <td>0.0</td>\n",
       "      <td>0.0</td>\n",
       "      <td>1.0</td>\n",
       "      <td>0.0</td>\n",
       "      <td>0.0</td>\n",
       "      <td>0.0</td>\n",
       "      <td>0.0</td>\n",
       "      <td>0.0</td>\n",
       "      <td>0.0</td>\n",
       "      <td>...</td>\n",
       "      <td>0.0</td>\n",
       "      <td>0.0</td>\n",
       "      <td>1.0</td>\n",
       "      <td>0.0</td>\n",
       "      <td>0.0</td>\n",
       "      <td>0.0</td>\n",
       "      <td>0.0</td>\n",
       "      <td>0.0</td>\n",
       "      <td>0.0</td>\n",
       "      <td>1.0</td>\n",
       "    </tr>\n",
       "  </tbody>\n",
       "</table>\n",
       "<p>5 rows × 27 columns</p>\n",
       "</div>"
      ],
      "text/plain": [
       "          ASK_AMT  APPLICATION_TYPE_T10  APPLICATION_TYPE_T19  \\\n",
       "EIN                                                             \n",
       "10520599     5000                   1.0                   0.0   \n",
       "10531628   108590                   0.0                   0.0   \n",
       "10547893     5000                   0.0                   0.0   \n",
       "10553066     6692                   0.0                   0.0   \n",
       "10556103   142590                   0.0                   0.0   \n",
       "\n",
       "          APPLICATION_TYPE_T3  APPLICATION_TYPE_T4  APPLICATION_TYPE_T5  \\\n",
       "EIN                                                                       \n",
       "10520599                  0.0                  0.0                  0.0   \n",
       "10531628                  1.0                  0.0                  0.0   \n",
       "10547893                  0.0                  0.0                  1.0   \n",
       "10553066                  1.0                  0.0                  0.0   \n",
       "10556103                  1.0                  0.0                  0.0   \n",
       "\n",
       "          APPLICATION_TYPE_T6  APPLICATION_TYPE_T7  APPLICATION_TYPE_T8  \\\n",
       "EIN                                                                       \n",
       "10520599                  0.0                  0.0                  0.0   \n",
       "10531628                  0.0                  0.0                  0.0   \n",
       "10547893                  0.0                  0.0                  0.0   \n",
       "10553066                  0.0                  0.0                  0.0   \n",
       "10556103                  0.0                  0.0                  0.0   \n",
       "\n",
       "          AFFILIATION_CompanySponsored  ...  INCOME_AMT_1-9999  \\\n",
       "EIN                                     ...                      \n",
       "10520599                           0.0  ...                0.0   \n",
       "10531628                           0.0  ...                1.0   \n",
       "10547893                           1.0  ...                0.0   \n",
       "10553066                           1.0  ...                0.0   \n",
       "10556103                           0.0  ...                0.0   \n",
       "\n",
       "          INCOME_AMT_10000-24999  INCOME_AMT_100000-499999  \\\n",
       "EIN                                                          \n",
       "10520599                     0.0                       0.0   \n",
       "10531628                     0.0                       0.0   \n",
       "10547893                     0.0                       0.0   \n",
       "10553066                     1.0                       0.0   \n",
       "10556103                     0.0                       1.0   \n",
       "\n",
       "          INCOME_AMT_10M-50M  INCOME_AMT_1M-5M  INCOME_AMT_25000-99999  \\\n",
       "EIN                                                                      \n",
       "10520599                 0.0               0.0                     0.0   \n",
       "10531628                 0.0               0.0                     0.0   \n",
       "10547893                 0.0               0.0                     0.0   \n",
       "10553066                 0.0               0.0                     0.0   \n",
       "10556103                 0.0               0.0                     0.0   \n",
       "\n",
       "          INCOME_AMT_50M+  INCOME_AMT_5M-10M  IS_SUCCESSFUL_0  IS_SUCCESSFUL_1  \n",
       "EIN                                                                             \n",
       "10520599              0.0                0.0              0.0              1.0  \n",
       "10531628              0.0                0.0              0.0              1.0  \n",
       "10547893              0.0                0.0              1.0              0.0  \n",
       "10553066              0.0                0.0              0.0              1.0  \n",
       "10556103              0.0                0.0              0.0              1.0  \n",
       "\n",
       "[5 rows x 27 columns]"
      ]
     },
     "execution_count": 49,
     "metadata": {},
     "output_type": "execute_result"
    }
   ],
   "source": [
    "charity_df = charity_df.drop(cat_charity, axis=1)\n",
    "charity_df.head()"
   ]
  },
  {
   "cell_type": "code",
   "execution_count": 50,
   "metadata": {},
   "outputs": [
    {
     "data": {
      "text/plain": [
       "ASK_AMT                         33912\n",
       "APPLICATION_TYPE_T10            33912\n",
       "APPLICATION_TYPE_T19            33912\n",
       "APPLICATION_TYPE_T3             33912\n",
       "APPLICATION_TYPE_T4             33912\n",
       "APPLICATION_TYPE_T5             33912\n",
       "APPLICATION_TYPE_T6             33912\n",
       "APPLICATION_TYPE_T7             33912\n",
       "APPLICATION_TYPE_T8             33912\n",
       "AFFILIATION_CompanySponsored    33912\n",
       "AFFILIATION_Independent         33912\n",
       "USE_CASE_Other                  33912\n",
       "USE_CASE_Preservation           33912\n",
       "USE_CASE_ProductDev             33912\n",
       "ORGANIZATION_Association        33912\n",
       "ORGANIZATION_Trust              33912\n",
       "INCOME_AMT_0                    33912\n",
       "INCOME_AMT_1-9999               33912\n",
       "INCOME_AMT_10000-24999          33912\n",
       "INCOME_AMT_100000-499999        33912\n",
       "INCOME_AMT_10M-50M              33912\n",
       "INCOME_AMT_1M-5M                33912\n",
       "INCOME_AMT_25000-99999          33912\n",
       "INCOME_AMT_50M+                 33912\n",
       "INCOME_AMT_5M-10M               33912\n",
       "IS_SUCCESSFUL_0                 33912\n",
       "IS_SUCCESSFUL_1                 33912\n",
       "dtype: int64"
      ]
     },
     "execution_count": 50,
     "metadata": {},
     "output_type": "execute_result"
    }
   ],
   "source": [
    "charity_df.count()"
   ]
  },
  {
   "cell_type": "code",
   "execution_count": null,
   "metadata": {},
   "outputs": [],
   "source": []
  },
  {
   "cell_type": "markdown",
   "metadata": {},
   "source": [
    "### Scaling the Data"
   ]
  },
  {
   "cell_type": "code",
   "execution_count": 91,
   "metadata": {},
   "outputs": [],
   "source": [
    "# Assign preprocessed data to features and target arrays\n",
    "y = charity_df[['IS_SUCCESSFUL_0', 'IS_SUCCESSFUL_1']]\n",
    "X = charity_df.drop(['IS_SUCCESSFUL_0', 'IS_SUCCESSFUL_1'], axis=1)\n",
    "\n",
    "# Split train/test datasets\n",
    "X_train, X_test, y_train, y_test = train_test_split(X,y, random_state=42)\n",
    "\n",
    "# Initiate scaler instance\n",
    "scaler = StandardScaler()\n",
    "\n",
    "# Fit data to scaler\n",
    "X_scaler = scaler.fit(X_train)\n",
    "\n",
    "# Scale the data\n",
    "X_train_scaled = X_scaler.transform(X_train)\n",
    "X_test_scaled = X_scaler.transform(X_test)"
   ]
  },
  {
   "cell_type": "code",
   "execution_count": 51,
   "metadata": {},
   "outputs": [
    {
     "data": {
      "text/plain": [
       "25"
      ]
     },
     "execution_count": 51,
     "metadata": {},
     "output_type": "execute_result"
    }
   ],
   "source": [
    "len(X_train_scaled[0])"
   ]
  },
  {
   "cell_type": "markdown",
   "metadata": {},
   "source": [
    "### Deep Neural Net Model 1"
   ]
  },
  {
   "cell_type": "code",
   "execution_count": 93,
   "metadata": {},
   "outputs": [],
   "source": [
    "number_input_features = len(X_train_scaled[0])\n",
    "hidden_nodes_layer1 =  27\n",
    "hidden_nodes_layer2 =  9\n",
    "hidden_nodes_layer3 = 3\n",
    "\n",
    "# Initialize keras sequential model object \n",
    "nn = tf.keras.models.Sequential()\n",
    "\n",
    "# First hidden layer\n",
    "nn.add(tf.keras.layers.Dense(units=hidden_nodes_layer1, input_dim=number_input_features, activation=\"relu\"))\n",
    "\n",
    "# Second hidden layer\n",
    "nn.add(tf.keras.layers.Dense(units=hidden_nodes_layer2, activation=\"relu\"))\n",
    "\n",
    "# Third hidden layer\n",
    "nn.add(tf.keras.layers.Dense(units=hidden_nodes_layer3, activation=\"relu\"))\n",
    "\n",
    "# Output layer\n",
    "nn.add(tf.keras.layers.Dense(units=2, activation=\"sigmoid\"))\n",
    "\n",
    "# Compile the Sequential model together and customize metrics\n",
    "nn.compile(loss=\"binary_crossentropy\", optimizer=\"adam\", metrics=[\"accuracy\"])"
   ]
  },
  {
   "cell_type": "code",
   "execution_count": 94,
   "metadata": {},
   "outputs": [
    {
     "name": "stdout",
     "output_type": "stream",
     "text": [
      "Train on 25434 samples\n",
      "Epoch 1/50\n",
      "25434/25434 [==============================] - 3s 99us/sample - loss: 0.6272 - accuracy: 0.6942\n",
      "Epoch 2/50\n",
      "25434/25434 [==============================] - 2s 73us/sample - loss: 0.5806 - accuracy: 0.7273\n",
      "Epoch 3/50\n",
      "25434/25434 [==============================] - 2s 77us/sample - loss: 0.5731 - accuracy: 0.7271\n",
      "Epoch 4/50\n",
      "25434/25434 [==============================] - 2s 63us/sample - loss: 0.5705 - accuracy: 0.7282\n",
      "Epoch 5/50\n",
      "25434/25434 [==============================] - 2s 60us/sample - loss: 0.5691 - accuracy: 0.7283\n",
      "Epoch 6/50\n",
      "25434/25434 [==============================] - 1s 55us/sample - loss: 0.5676 - accuracy: 0.7281\n",
      "Epoch 7/50\n",
      "25434/25434 [==============================] - 2s 60us/sample - loss: 0.5677 - accuracy: 0.7288\n",
      "Epoch 8/50\n",
      "25434/25434 [==============================] - 2s 66us/sample - loss: 0.5671 - accuracy: 0.7279\n",
      "Epoch 9/50\n",
      "25434/25434 [==============================] - 1s 58us/sample - loss: 0.5669 - accuracy: 0.7282\n",
      "Epoch 10/50\n",
      "25434/25434 [==============================] - 1s 57us/sample - loss: 0.5666 - accuracy: 0.7298\n",
      "Epoch 11/50\n",
      "25434/25434 [==============================] - 2s 68us/sample - loss: 0.5667 - accuracy: 0.7278\n",
      "Epoch 12/50\n",
      "25434/25434 [==============================] - 2s 64us/sample - loss: 0.5663 - accuracy: 0.7288\n",
      "Epoch 13/50\n",
      "25434/25434 [==============================] - 2s 61us/sample - loss: 0.5662 - accuracy: 0.7283\n",
      "Epoch 14/50\n",
      "25434/25434 [==============================] - 2s 60us/sample - loss: 0.5659 - accuracy: 0.7273\n",
      "Epoch 15/50\n",
      "25434/25434 [==============================] - 2s 62us/sample - loss: 0.5657 - accuracy: 0.7292\n",
      "Epoch 16/50\n",
      "25434/25434 [==============================] - 1s 58us/sample - loss: 0.5656 - accuracy: 0.7283\n",
      "Epoch 17/50\n",
      "25434/25434 [==============================] - 2s 61us/sample - loss: 0.5657 - accuracy: 0.7288\n",
      "Epoch 18/50\n",
      "25434/25434 [==============================] - 2s 69us/sample - loss: 0.5654 - accuracy: 0.7287\n",
      "Epoch 19/50\n",
      "25434/25434 [==============================] - 2s 65us/sample - loss: 0.5651 - accuracy: 0.7292\n",
      "Epoch 20/50\n",
      "25434/25434 [==============================] - 2s 64us/sample - loss: 0.5651 - accuracy: 0.7288\n",
      "Epoch 21/50\n",
      "25434/25434 [==============================] - 1s 58us/sample - loss: 0.5653 - accuracy: 0.7300\n",
      "Epoch 22/50\n",
      "25434/25434 [==============================] - 2s 63us/sample - loss: 0.5651 - accuracy: 0.7291\n",
      "Epoch 23/50\n",
      "25434/25434 [==============================] - 2s 67us/sample - loss: 0.5649 - accuracy: 0.7294\n",
      "Epoch 24/50\n",
      "25434/25434 [==============================] - 2s 69us/sample - loss: 0.5651 - accuracy: 0.7288\n",
      "Epoch 25/50\n",
      "25434/25434 [==============================] - 2s 82us/sample - loss: 0.5649 - accuracy: 0.7292\n",
      "Epoch 26/50\n",
      "25434/25434 [==============================] - 2s 64us/sample - loss: 0.5648 - accuracy: 0.7289\n",
      "Epoch 27/50\n",
      "25434/25434 [==============================] - 2s 65us/sample - loss: 0.5647 - accuracy: 0.7288\n",
      "Epoch 28/50\n",
      "25434/25434 [==============================] - 2s 62us/sample - loss: 0.5646 - accuracy: 0.7295\n",
      "Epoch 29/50\n",
      "25434/25434 [==============================] - 2s 60us/sample - loss: 0.5645 - accuracy: 0.7301\n",
      "Epoch 30/50\n",
      "25434/25434 [==============================] - 2s 61us/sample - loss: 0.5647 - accuracy: 0.7288\n",
      "Epoch 31/50\n",
      "25434/25434 [==============================] - 2s 61us/sample - loss: 0.5646 - accuracy: 0.7297\n",
      "Epoch 32/50\n",
      "25434/25434 [==============================] - 2s 61us/sample - loss: 0.5647 - accuracy: 0.7286\n",
      "Epoch 33/50\n",
      "25434/25434 [==============================] - 2s 62us/sample - loss: 0.5645 - accuracy: 0.7275\n",
      "Epoch 34/50\n",
      "25434/25434 [==============================] - 2s 60us/sample - loss: 0.5644 - accuracy: 0.7302\n",
      "Epoch 35/50\n",
      "25434/25434 [==============================] - 2s 61us/sample - loss: 0.5641 - accuracy: 0.7286\n",
      "Epoch 36/50\n",
      "25434/25434 [==============================] - 2s 63us/sample - loss: 0.5643 - accuracy: 0.7281\n",
      "Epoch 37/50\n",
      "25434/25434 [==============================] - 2s 70us/sample - loss: 0.5643 - accuracy: 0.7293\n",
      "Epoch 38/50\n",
      "25434/25434 [==============================] - 2s 61us/sample - loss: 0.5643 - accuracy: 0.7289\n",
      "Epoch 39/50\n",
      "25434/25434 [==============================] - 2s 61us/sample - loss: 0.5641 - accuracy: 0.7298\n",
      "Epoch 40/50\n",
      "25434/25434 [==============================] - 2s 62us/sample - loss: 0.5644 - accuracy: 0.7294\n",
      "Epoch 41/50\n",
      "25434/25434 [==============================] - 1s 59us/sample - loss: 0.5639 - accuracy: 0.7301\n",
      "Epoch 42/50\n",
      "25434/25434 [==============================] - 2s 60us/sample - loss: 0.5640 - accuracy: 0.7298\n",
      "Epoch 43/50\n",
      "25434/25434 [==============================] - 2s 61us/sample - loss: 0.5638 - accuracy: 0.7295\n",
      "Epoch 44/50\n",
      "25434/25434 [==============================] - 2s 61us/sample - loss: 0.5641 - accuracy: 0.7298\n",
      "Epoch 45/50\n",
      "25434/25434 [==============================] - 2s 60us/sample - loss: 0.5638 - accuracy: 0.7295\n",
      "Epoch 46/50\n",
      "25434/25434 [==============================] - 2s 61us/sample - loss: 0.5639 - accuracy: 0.7276\n",
      "Epoch 47/50\n",
      "25434/25434 [==============================] - 2s 60us/sample - loss: 0.5638 - accuracy: 0.7297\n",
      "Epoch 48/50\n",
      "25434/25434 [==============================] - 2s 62us/sample - loss: 0.5636 - accuracy: 0.7295\n",
      "Epoch 49/50\n",
      "25434/25434 [==============================] - 2s 61us/sample - loss: 0.5637 - accuracy: 0.7300\n",
      "Epoch 50/50\n",
      "25434/25434 [==============================] - 2s 60us/sample - loss: 0.5633 - accuracy: 0.7304\n",
      "8478/8478 - 0s - loss: 0.5733 - accuracy: 0.7186\n",
      "Loss: 0.5733082439995622, Accuracy: 0.7185657024383545\n"
     ]
    }
   ],
   "source": [
    "# Train the model\n",
    "fit_model = nn.fit(X_train_scaled, y_train, epochs=50)\n",
    "# Evaluate the model using the test data\n",
    "model_loss, model_accuracy = nn.evaluate(X_test_scaled, y_test, verbose=2)\n",
    "print(f\"Loss: {model_loss}, Accuracy: {model_accuracy}\")"
   ]
  },
  {
   "cell_type": "code",
   "execution_count": 54,
   "metadata": {},
   "outputs": [
    {
     "data": {
      "text/plain": [
       "<matplotlib.axes._subplots.AxesSubplot at 0x1d1b41f0e88>"
      ]
     },
     "execution_count": 54,
     "metadata": {},
     "output_type": "execute_result"
    },
    {
     "data": {
      "image/png": "[encoded data removed]",
      "text/plain": [
       "<Figure size 432x288 with 1 Axes>"
      ]
     },
     "metadata": {
      "needs_background": "light"
     },
     "output_type": "display_data"
    }
   ],
   "source": [
    "# Create a DataFrame containing training history\n",
    "history_df = pd.DataFrame(fit_model.history, index=range(1,len(fit_model.history[\"loss\"])+1))\n",
    "\n",
    "# Plot the loss\n",
    "history_df.plot(y=\"loss\")"
   ]
  },
  {
   "cell_type": "markdown",
   "metadata": {},
   "source": [
    "### Deep Neural Net Model 2"
   ]
  },
  {
   "cell_type": "code",
   "execution_count": 55,
   "metadata": {},
   "outputs": [],
   "source": [
    "# Assign preprocessed data to features and target arrays\n",
    "y = charity_df[['IS_SUCCESSFUL_1']]\n",
    "X = charity_df.drop(['IS_SUCCESSFUL_0', 'IS_SUCCESSFUL_1'], axis=1)\n",
    "\n",
    "# Split train/test datasets\n",
    "X_train, X_test, y_train, y_test = train_test_split(X,y, random_state=42, stratify=y)\n",
    "\n",
    "# Initiate scaler instance\n",
    "scaler = StandardScaler()\n",
    "\n",
    "# Fit data to scaler\n",
    "X_scaler = scaler.fit(X_train)\n",
    "\n",
    "# Scale the data\n",
    "X_train_scaled = X_scaler.transform(X_train)\n",
    "X_test_scaled = X_scaler.transform(X_test)"
   ]
  },
  {
   "cell_type": "code",
   "execution_count": 56,
   "metadata": {},
   "outputs": [],
   "source": [
    "number_input_features = len(X_train_scaled[0])\n",
    "hidden_nodes_layer1 =  27\n",
    "hidden_nodes_layer2 =  9\n",
    "hidden_nodes_layer3 = 3\n",
    "\n",
    "# Initialize keras sequential model object \n",
    "nn = tf.keras.models.Sequential()\n",
    "\n",
    "# First hidden layer\n",
    "nn.add(tf.keras.layers.Dense(units=hidden_nodes_layer1, input_dim=number_input_features, activation=\"relu\"))\n",
    "\n",
    "# Second hidden layer\n",
    "nn.add(tf.keras.layers.Dense(units=hidden_nodes_layer2, activation=\"relu\"))\n",
    "\n",
    "# Third hidden layer\n",
    "nn.add(tf.keras.layers.Dense(units=hidden_nodes_layer3, activation=\"relu\"))\n",
    "\n",
    "# Output layer\n",
    "nn.add(tf.keras.layers.Dense(units=1, activation=\"sigmoid\"))\n",
    "\n",
    "# Compile the Sequential model together and customize metrics\n",
    "nn.compile(loss=\"binary_crossentropy\", optimizer=\"adam\", metrics=[\"accuracy\"])"
   ]
  },
  {
   "cell_type": "code",
   "execution_count": 57,
   "metadata": {},
   "outputs": [
    {
     "name": "stdout",
     "output_type": "stream",
     "text": [
      "Train on 25434 samples\n",
      "Epoch 1/100\n",
      "25434/25434 [==============================] - 1s 55us/sample - loss: 0.6214 - accuracy: 0.6913\n",
      "Epoch 2/100\n",
      "25434/25434 [==============================] - 1s 37us/sample - loss: 0.6018 - accuracy: 0.7036\n",
      "Epoch 3/100\n",
      "25434/25434 [==============================] - 1s 40us/sample - loss: 0.5899 - accuracy: 0.7136\n",
      "Epoch 4/100\n",
      "25434/25434 [==============================] - 1s 41us/sample - loss: 0.5761 - accuracy: 0.7241\n",
      "Epoch 5/100\n",
      "25434/25434 [==============================] - 1s 37us/sample - loss: 0.5739 - accuracy: 0.7247\n",
      "Epoch 6/100\n",
      "25434/25434 [==============================] - 1s 39us/sample - loss: 0.5735 - accuracy: 0.7242\n",
      "Epoch 7/100\n",
      "25434/25434 [==============================] - 1s 38us/sample - loss: 0.5730 - accuracy: 0.7251\n",
      "Epoch 8/100\n",
      "25434/25434 [==============================] - 1s 40us/sample - loss: 0.5727 - accuracy: 0.7254\n",
      "Epoch 9/100\n",
      "25434/25434 [==============================] - 1s 47us/sample - loss: 0.5724 - accuracy: 0.7237\n",
      "Epoch 10/100\n",
      "25434/25434 [==============================] - 1s 46us/sample - loss: 0.5723 - accuracy: 0.7259s - loss: 0.5734 - accura\n",
      "Epoch 11/100\n",
      "25434/25434 [==============================] - 2s 69us/sample - loss: 0.5718 - accuracy: 0.7258\n",
      "Epoch 12/100\n",
      "25434/25434 [==============================] - 1s 38us/sample - loss: 0.5721 - accuracy: 0.7258\n",
      "Epoch 13/100\n",
      "25434/25434 [==============================] - 1s 38us/sample - loss: 0.5718 - accuracy: 0.7249\n",
      "Epoch 14/100\n",
      "25434/25434 [==============================] - 1s 41us/sample - loss: 0.5716 - accuracy: 0.7251\n",
      "Epoch 15/100\n",
      "25434/25434 [==============================] - 1s 40us/sample - loss: 0.5719 - accuracy: 0.7247\n",
      "Epoch 16/100\n",
      "25434/25434 [==============================] - 1s 38us/sample - loss: 0.5715 - accuracy: 0.7265\n",
      "Epoch 17/100\n",
      "25434/25434 [==============================] - 1s 37us/sample - loss: 0.5716 - accuracy: 0.7247\n",
      "Epoch 18/100\n",
      "25434/25434 [==============================] - 1s 47us/sample - loss: 0.5716 - accuracy: 0.7253\n",
      "Epoch 19/100\n",
      "25434/25434 [==============================] - 1s 47us/sample - loss: 0.5714 - accuracy: 0.7273\n",
      "Epoch 20/100\n",
      "25434/25434 [==============================] - 1s 49us/sample - loss: 0.5713 - accuracy: 0.7260\n",
      "Epoch 21/100\n",
      "25434/25434 [==============================] - 1s 50us/sample - loss: 0.5712 - accuracy: 0.7269\n",
      "Epoch 22/100\n",
      "25434/25434 [==============================] - 1s 49us/sample - loss: 0.5709 - accuracy: 0.7260\n",
      "Epoch 23/100\n",
      "25434/25434 [==============================] - 1s 48us/sample - loss: 0.5705 - accuracy: 0.7256\n",
      "Epoch 24/100\n",
      "25434/25434 [==============================] - 1s 49us/sample - loss: 0.5702 - accuracy: 0.7265\n",
      "Epoch 25/100\n",
      "25434/25434 [==============================] - 1s 49us/sample - loss: 0.5700 - accuracy: 0.7258\n",
      "Epoch 26/100\n",
      "25434/25434 [==============================] - 1s 48us/sample - loss: 0.5698 - accuracy: 0.7264\n",
      "Epoch 27/100\n",
      "25434/25434 [==============================] - 1s 50us/sample - loss: 0.5696 - accuracy: 0.7260\n",
      "Epoch 28/100\n",
      "25434/25434 [==============================] - 1s 49us/sample - loss: 0.5696 - accuracy: 0.7264\n",
      "Epoch 29/100\n",
      "25434/25434 [==============================] - 1s 49us/sample - loss: 0.5695 - accuracy: 0.7262\n",
      "Epoch 30/100\n",
      "25434/25434 [==============================] - 1s 50us/sample - loss: 0.5693 - accuracy: 0.7265\n",
      "Epoch 31/100\n",
      "25434/25434 [==============================] - 1s 51us/sample - loss: 0.5693 - accuracy: 0.7261\n",
      "Epoch 32/100\n",
      "25434/25434 [==============================] - 1s 49us/sample - loss: 0.5691 - accuracy: 0.7263\n",
      "Epoch 33/100\n",
      "25434/25434 [==============================] - 1s 50us/sample - loss: 0.5694 - accuracy: 0.7251\n",
      "Epoch 34/100\n",
      "25434/25434 [==============================] - 1s 44us/sample - loss: 0.5691 - accuracy: 0.7273\n",
      "Epoch 35/100\n",
      "25434/25434 [==============================] - 1s 40us/sample - loss: 0.5688 - accuracy: 0.7267\n",
      "Epoch 36/100\n",
      "25434/25434 [==============================] - 1s 38us/sample - loss: 0.5690 - accuracy: 0.7265\n",
      "Epoch 37/100\n",
      "25434/25434 [==============================] - 1s 42us/sample - loss: 0.5691 - accuracy: 0.7267\n",
      "Epoch 38/100\n",
      "25434/25434 [==============================] - 1s 38us/sample - loss: 0.5690 - accuracy: 0.7256\n",
      "Epoch 39/100\n",
      "25434/25434 [==============================] - 1s 37us/sample - loss: 0.5687 - accuracy: 0.7265\n",
      "Epoch 40/100\n",
      "25434/25434 [==============================] - 1s 39us/sample - loss: 0.5690 - accuracy: 0.7264\n",
      "Epoch 41/100\n",
      "25434/25434 [==============================] - 1s 44us/sample - loss: 0.5689 - accuracy: 0.7271\n",
      "Epoch 42/100\n",
      "25434/25434 [==============================] - 1s 45us/sample - loss: 0.5685 - accuracy: 0.7267\n",
      "Epoch 43/100\n",
      "25434/25434 [==============================] - 1s 44us/sample - loss: 0.5691 - accuracy: 0.7269\n",
      "Epoch 44/100\n",
      "25434/25434 [==============================] - 1s 50us/sample - loss: 0.5689 - accuracy: 0.7269\n",
      "Epoch 45/100\n",
      "25434/25434 [==============================] - 1s 39us/sample - loss: 0.5685 - accuracy: 0.7275\n",
      "Epoch 46/100\n",
      "25434/25434 [==============================] - 1s 40us/sample - loss: 0.5684 - accuracy: 0.7278\n",
      "Epoch 47/100\n",
      "25434/25434 [==============================] - 1s 42us/sample - loss: 0.5685 - accuracy: 0.7261\n",
      "Epoch 48/100\n",
      "25434/25434 [==============================] - 1s 42us/sample - loss: 0.5683 - accuracy: 0.7259\n",
      "Epoch 49/100\n",
      "25434/25434 [==============================] - 1s 39us/sample - loss: 0.5684 - accuracy: 0.7258\n",
      "Epoch 50/100\n",
      "25434/25434 [==============================] - 1s 43us/sample - loss: 0.5681 - accuracy: 0.7255\n",
      "Epoch 51/100\n",
      "25434/25434 [==============================] - 1s 44us/sample - loss: 0.5680 - accuracy: 0.7262\n",
      "Epoch 52/100\n",
      "25434/25434 [==============================] - 1s 42us/sample - loss: 0.5680 - accuracy: 0.7263\n",
      "Epoch 53/100\n",
      "25434/25434 [==============================] - 1s 43us/sample - loss: 0.5683 - accuracy: 0.7260\n",
      "Epoch 54/100\n",
      "25434/25434 [==============================] - 1s 39us/sample - loss: 0.5678 - accuracy: 0.7266\n",
      "Epoch 55/100\n",
      "25434/25434 [==============================] - 1s 41us/sample - loss: 0.5676 - accuracy: 0.7278\n",
      "Epoch 56/100\n",
      "25434/25434 [==============================] - 1s 40us/sample - loss: 0.5674 - accuracy: 0.7267\n",
      "Epoch 57/100\n",
      "25434/25434 [==============================] - 1s 40us/sample - loss: 0.5678 - accuracy: 0.7273\n",
      "Epoch 58/100\n",
      "25434/25434 [==============================] - 1s 39us/sample - loss: 0.5677 - accuracy: 0.7267\n",
      "Epoch 59/100\n",
      "25434/25434 [==============================] - 1s 41us/sample - loss: 0.5677 - accuracy: 0.7265\n",
      "Epoch 60/100\n",
      "25434/25434 [==============================] - 1s 43us/sample - loss: 0.5671 - accuracy: 0.7270\n",
      "Epoch 61/100\n",
      "25434/25434 [==============================] - 1s 38us/sample - loss: 0.5673 - accuracy: 0.7263\n",
      "Epoch 62/100\n",
      "25434/25434 [==============================] - 1s 39us/sample - loss: 0.5668 - accuracy: 0.7279\n",
      "Epoch 63/100\n",
      "25434/25434 [==============================] - 1s 38us/sample - loss: 0.5670 - accuracy: 0.7273\n",
      "Epoch 64/100\n",
      "25434/25434 [==============================] - 1s 38us/sample - loss: 0.5665 - accuracy: 0.7271\n",
      "Epoch 65/100\n",
      "25434/25434 [==============================] - 1s 40us/sample - loss: 0.5665 - accuracy: 0.7274\n",
      "Epoch 66/100\n",
      "25434/25434 [==============================] - 1s 42us/sample - loss: 0.5666 - accuracy: 0.7265\n",
      "Epoch 67/100\n",
      "25434/25434 [==============================] - 1s 41us/sample - loss: 0.5667 - accuracy: 0.7267\n",
      "Epoch 68/100\n",
      "25434/25434 [==============================] - 1s 42us/sample - loss: 0.5664 - accuracy: 0.7264\n",
      "Epoch 69/100\n",
      "25434/25434 [==============================] - 1s 42us/sample - loss: 0.5664 - accuracy: 0.7277\n",
      "Epoch 70/100\n",
      "25434/25434 [==============================] - 1s 41us/sample - loss: 0.5662 - accuracy: 0.7266\n",
      "Epoch 71/100\n",
      "25434/25434 [==============================] - 1s 40us/sample - loss: 0.5662 - accuracy: 0.7273\n",
      "Epoch 72/100\n",
      "25434/25434 [==============================] - 1s 40us/sample - loss: 0.5662 - accuracy: 0.7264\n",
      "Epoch 73/100\n",
      "25434/25434 [==============================] - 1s 41us/sample - loss: 0.5661 - accuracy: 0.7259\n",
      "Epoch 74/100\n",
      "25434/25434 [==============================] - 1s 39us/sample - loss: 0.5661 - accuracy: 0.7272\n",
      "Epoch 75/100\n",
      "25434/25434 [==============================] - 1s 39us/sample - loss: 0.5661 - accuracy: 0.7259\n",
      "Epoch 76/100\n",
      "25434/25434 [==============================] - 1s 41us/sample - loss: 0.5662 - accuracy: 0.7254\n",
      "Epoch 77/100\n",
      "25434/25434 [==============================] - 1s 43us/sample - loss: 0.5659 - accuracy: 0.7267\n",
      "Epoch 78/100\n",
      "25434/25434 [==============================] - 1s 39us/sample - loss: 0.5658 - accuracy: 0.7264\n",
      "Epoch 79/100\n",
      "25434/25434 [==============================] - 1s 38us/sample - loss: 0.5659 - accuracy: 0.7274\n",
      "Epoch 80/100\n",
      "25434/25434 [==============================] - 1s 37us/sample - loss: 0.5658 - accuracy: 0.7263\n",
      "Epoch 81/100\n",
      "25434/25434 [==============================] - 1s 37us/sample - loss: 0.5659 - accuracy: 0.7269\n",
      "Epoch 82/100\n",
      "25434/25434 [==============================] - 1s 37us/sample - loss: 0.5656 - accuracy: 0.7275\n",
      "Epoch 83/100\n",
      "25434/25434 [==============================] - 1s 39us/sample - loss: 0.5656 - accuracy: 0.7275\n",
      "Epoch 84/100\n",
      "25434/25434 [==============================] - 1s 37us/sample - loss: 0.5655 - accuracy: 0.7280\n",
      "Epoch 85/100\n",
      "25434/25434 [==============================] - 1s 37us/sample - loss: 0.5657 - accuracy: 0.7274\n",
      "Epoch 86/100\n",
      "25434/25434 [==============================] - 1s 41us/sample - loss: 0.5656 - accuracy: 0.7267\n",
      "Epoch 87/100\n",
      "25434/25434 [==============================] - 1s 38us/sample - loss: 0.5655 - accuracy: 0.7274\n",
      "Epoch 88/100\n",
      "25434/25434 [==============================] - 1s 38us/sample - loss: 0.5656 - accuracy: 0.7272\n",
      "Epoch 89/100\n",
      "25434/25434 [==============================] - 1s 38us/sample - loss: 0.5653 - accuracy: 0.7258\n",
      "Epoch 90/100\n",
      "25434/25434 [==============================] - 1s 38us/sample - loss: 0.5652 - accuracy: 0.7269\n",
      "Epoch 91/100\n",
      "25434/25434 [==============================] - 1s 37us/sample - loss: 0.5651 - accuracy: 0.7271\n",
      "Epoch 92/100\n",
      "25434/25434 [==============================] - 1s 39us/sample - loss: 0.5656 - accuracy: 0.7268\n",
      "Epoch 93/100\n",
      "25434/25434 [==============================] - 1s 38us/sample - loss: 0.5652 - accuracy: 0.7273\n",
      "Epoch 94/100\n",
      "25434/25434 [==============================] - 1s 39us/sample - loss: 0.5656 - accuracy: 0.7290\n",
      "Epoch 95/100\n",
      "25434/25434 [==============================] - 1s 37us/sample - loss: 0.5652 - accuracy: 0.7280\n",
      "Epoch 96/100\n",
      "25434/25434 [==============================] - 1s 38us/sample - loss: 0.5651 - accuracy: 0.7271\n",
      "Epoch 97/100\n",
      "25434/25434 [==============================] - 1s 38us/sample - loss: 0.5654 - accuracy: 0.7284\n",
      "Epoch 98/100\n",
      "25434/25434 [==============================] - 1s 37us/sample - loss: 0.5652 - accuracy: 0.7273\n",
      "Epoch 99/100\n",
      "25434/25434 [==============================] - 1s 36us/sample - loss: 0.5650 - accuracy: 0.7266\n",
      "Epoch 100/100\n",
      "25434/25434 [==============================] - 1s 37us/sample - loss: 0.5650 - accuracy: 0.7266\n",
      "8478/8478 - 0s - loss: 0.5669 - accuracy: 0.7241\n",
      "Loss: 0.5668589877024887, Accuracy: 0.7241094708442688\n"
     ]
    }
   ],
   "source": [
    "# Train the model\n",
    "fit_model = nn.fit(X_train_scaled, y_train, epochs=100)\n",
    "# Evaluate the model using the test data\n",
    "model_loss, model_accuracy = nn.evaluate(X_test_scaled, y_test, verbose=2)\n",
    "print(f\"Loss: {model_loss}, Accuracy: {model_accuracy}\")"
   ]
  },
  {
   "cell_type": "code",
   "execution_count": 84,
   "metadata": {},
   "outputs": [
    {
     "data": {
      "text/plain": [
       "<matplotlib.axes._subplots.AxesSubplot at 0x1d1baa7df88>"
      ]
     },
     "execution_count": 84,
     "metadata": {},
     "output_type": "execute_result"
    },
    {
     "data": {
      "image/png": "[encoded data removed]",
      "text/plain": [
       "<Figure size 432x288 with 1 Axes>"
      ]
     },
     "metadata": {
      "needs_background": "light"
     },
     "output_type": "display_data"
    }
   ],
   "source": [
    "# Create a DataFrame containing training history\n",
    "history_df = pd.DataFrame(fit_model.history, index=range(1,len(fit_model.history[\"loss\"])+1))\n",
    "\n",
    "# Plot the loss\n",
    "history_df.plot(y=\"loss\")"
   ]
  },
  {
   "cell_type": "markdown",
   "metadata": {
    "jupyter": {
     "outputs_hidden": true
    }
   },
   "source": [
    "### Deep Neural Net Model 3"
   ]
  },
  {
   "cell_type": "code",
   "execution_count": 56,
   "metadata": {},
   "outputs": [],
   "source": [
    "# Assign preprocessed data to features and target arrays\n",
    "y = charity_df[['IS_SUCCESSFUL_0', 'IS_SUCCESSFUL_1']]\n",
    "X = charity_df.drop(['IS_SUCCESSFUL_0', 'IS_SUCCESSFUL_1'], axis=1)\n",
    "\n",
    "# Split train/test datasets\n",
    "X_train, X_test, y_train, y_test = train_test_split(X,y, random_state=42, stratify=y)\n",
    "\n",
    "# Initiate scaler instance\n",
    "scaler = StandardScaler()\n",
    "\n",
    "# Fit data to scaler\n",
    "X_scaler = scaler.fit(X_train)\n",
    "\n",
    "# Scale the data\n",
    "X_train_scaled = X_scaler.transform(X_train)\n",
    "X_test_scaled = X_scaler.transform(X_test)"
   ]
  },
  {
   "cell_type": "code",
   "execution_count": 66,
   "metadata": {},
   "outputs": [
    {
     "name": "stdout",
     "output_type": "stream",
     "text": [
      "25\n"
     ]
    }
   ],
   "source": [
    "print(len(X_train_scaled[0]))"
   ]
  },
  {
   "cell_type": "code",
   "execution_count": 57,
   "metadata": {},
   "outputs": [
    {
     "name": "stdout",
     "output_type": "stream",
     "text": [
      "Train on 25434 samples\n",
      "Epoch 1/50\n",
      "25434/25434 [==============================] - 1s 57us/sample - loss: 0.5810 - accuracy: 0.7196\n",
      "Epoch 2/50\n",
      "25434/25434 [==============================] - 1s 46us/sample - loss: 0.5732 - accuracy: 0.7254\n",
      "Epoch 3/50\n",
      "25434/25434 [==============================] - 1s 41us/sample - loss: 0.5712 - accuracy: 0.7265\n",
      "Epoch 4/50\n",
      "25434/25434 [==============================] - 1s 42us/sample - loss: 0.5704 - accuracy: 0.7251\n",
      "Epoch 5/50\n",
      "25434/25434 [==============================] - 1s 59us/sample - loss: 0.5697 - accuracy: 0.7258\n",
      "Epoch 6/50\n",
      "25434/25434 [==============================] - 1s 45us/sample - loss: 0.5694 - accuracy: 0.7262\n",
      "Epoch 7/50\n",
      "25434/25434 [==============================] - 1s 42us/sample - loss: 0.5692 - accuracy: 0.7262\n",
      "Epoch 8/50\n",
      "25434/25434 [==============================] - 1s 42us/sample - loss: 0.5688 - accuracy: 0.7267\n",
      "Epoch 9/50\n",
      "25434/25434 [==============================] - 1s 41us/sample - loss: 0.5679 - accuracy: 0.7265\n",
      "Epoch 10/50\n",
      "25434/25434 [==============================] - 1s 49us/sample - loss: 0.5682 - accuracy: 0.7266\n",
      "Epoch 11/50\n",
      "25434/25434 [==============================] - 1s 50us/sample - loss: 0.5678 - accuracy: 0.7270\n",
      "Epoch 12/50\n",
      "25434/25434 [==============================] - 1s 47us/sample - loss: 0.5672 - accuracy: 0.7276\n",
      "Epoch 13/50\n",
      "25434/25434 [==============================] - 1s 55us/sample - loss: 0.5667 - accuracy: 0.7272\n",
      "Epoch 14/50\n",
      "25434/25434 [==============================] - 1s 44us/sample - loss: 0.5671 - accuracy: 0.7275\n",
      "Epoch 15/50\n",
      "25434/25434 [==============================] - 1s 48us/sample - loss: 0.5665 - accuracy: 0.7276\n",
      "Epoch 16/50\n",
      "25434/25434 [==============================] - 1s 45us/sample - loss: 0.5664 - accuracy: 0.7274\n",
      "Epoch 17/50\n",
      "25434/25434 [==============================] - 1s 44us/sample - loss: 0.5663 - accuracy: 0.7274\n",
      "Epoch 18/50\n",
      "25434/25434 [==============================] - 1s 47us/sample - loss: 0.5661 - accuracy: 0.7269\n",
      "Epoch 19/50\n",
      "25434/25434 [==============================] - 1s 45us/sample - loss: 0.5658 - accuracy: 0.7269\n",
      "Epoch 20/50\n",
      "25434/25434 [==============================] - 1s 43us/sample - loss: 0.5661 - accuracy: 0.7284\n",
      "Epoch 21/50\n",
      "25434/25434 [==============================] - 1s 42us/sample - loss: 0.5655 - accuracy: 0.7273\n",
      "Epoch 22/50\n",
      "25434/25434 [==============================] - 1s 39us/sample - loss: 0.5651 - accuracy: 0.7276\n",
      "Epoch 23/50\n",
      "25434/25434 [==============================] - 1s 40us/sample - loss: 0.5654 - accuracy: 0.7278\n",
      "Epoch 24/50\n",
      "25434/25434 [==============================] - 1s 44us/sample - loss: 0.5651 - accuracy: 0.7274\n",
      "Epoch 25/50\n",
      "25434/25434 [==============================] - 1s 45us/sample - loss: 0.5650 - accuracy: 0.7283\n",
      "Epoch 26/50\n",
      "25434/25434 [==============================] - 1s 42us/sample - loss: 0.5650 - accuracy: 0.7281\n",
      "Epoch 27/50\n",
      "25434/25434 [==============================] - 1s 41us/sample - loss: 0.5651 - accuracy: 0.7274\n",
      "Epoch 28/50\n",
      "25434/25434 [==============================] - 1s 40us/sample - loss: 0.5647 - accuracy: 0.7280\n",
      "Epoch 29/50\n",
      "25434/25434 [==============================] - 1s 38us/sample - loss: 0.5642 - accuracy: 0.7280\n",
      "Epoch 30/50\n",
      "25434/25434 [==============================] - 1s 38us/sample - loss: 0.5645 - accuracy: 0.7287\n",
      "Epoch 31/50\n",
      "25434/25434 [==============================] - 1s 37us/sample - loss: 0.5646 - accuracy: 0.7282\n",
      "Epoch 32/50\n",
      "25434/25434 [==============================] - 1s 39us/sample - loss: 0.5644 - accuracy: 0.7283\n",
      "Epoch 33/50\n",
      "25434/25434 [==============================] - 1s 38us/sample - loss: 0.5642 - accuracy: 0.7282\n",
      "Epoch 34/50\n",
      "25434/25434 [==============================] - 1s 41us/sample - loss: 0.5639 - accuracy: 0.7282\n",
      "Epoch 35/50\n",
      "25434/25434 [==============================] - 1s 44us/sample - loss: 0.5641 - accuracy: 0.7280\n",
      "Epoch 36/50\n",
      "25434/25434 [==============================] - 1s 41us/sample - loss: 0.5638 - accuracy: 0.7281\n",
      "Epoch 37/50\n",
      "25434/25434 [==============================] - 1s 49us/sample - loss: 0.5639 - accuracy: 0.7287\n",
      "Epoch 38/50\n",
      "25434/25434 [==============================] - 1s 50us/sample - loss: 0.5637 - accuracy: 0.7285\n",
      "Epoch 39/50\n",
      "25434/25434 [==============================] - 1s 45us/sample - loss: 0.5639 - accuracy: 0.7287\n",
      "Epoch 40/50\n",
      "25434/25434 [==============================] - 1s 44us/sample - loss: 0.5637 - accuracy: 0.7284\n",
      "Epoch 41/50\n",
      "25434/25434 [==============================] - 1s 45us/sample - loss: 0.5636 - accuracy: 0.7286\n",
      "Epoch 42/50\n",
      "25434/25434 [==============================] - 1s 50us/sample - loss: 0.5637 - accuracy: 0.7286\n",
      "Epoch 43/50\n",
      "25434/25434 [==============================] - 1s 49us/sample - loss: 0.5634 - accuracy: 0.7283\n",
      "Epoch 44/50\n",
      "25434/25434 [==============================] - 1s 58us/sample - loss: 0.5636 - accuracy: 0.7288\n",
      "Epoch 45/50\n",
      "25434/25434 [==============================] - 1s 48us/sample - loss: 0.5634 - accuracy: 0.7286\n",
      "Epoch 46/50\n",
      "25434/25434 [==============================] - 1s 44us/sample - loss: 0.5633 - accuracy: 0.7282\n",
      "Epoch 47/50\n",
      "25434/25434 [==============================] - 1s 43us/sample - loss: 0.5636 - accuracy: 0.7280\n",
      "Epoch 48/50\n",
      "25434/25434 [==============================] - 1s 43us/sample - loss: 0.5634 - accuracy: 0.7286\n",
      "Epoch 49/50\n",
      "25434/25434 [==============================] - 1s 45us/sample - loss: 0.5632 - accuracy: 0.7288\n",
      "Epoch 50/50\n",
      "25434/25434 [==============================] - 1s 44us/sample - loss: 0.5633 - accuracy: 0.7288\n"
     ]
    }
   ],
   "source": [
    "number_input_features = len(X_train_scaled[0])\n",
    "hidden_nodes_layer1 =  50\n",
    "hidden_nodes_layer2 =  50\n",
    "hidden_nodes_layer3 =  50\n",
    "\n",
    "\n",
    "# Initialize keras sequential model object \n",
    "nn = tf.keras.models.Sequential()\n",
    "\n",
    "# First hidden layer\n",
    "nn.add(tf.keras.layers.Dense(units=hidden_nodes_layer1, input_dim=number_input_features, activation=\"tanh\"))\n",
    "\n",
    "# Second hidden layer\n",
    "nn.add(tf.keras.layers.Dense(units=hidden_nodes_layer2, activation=\"tanh\"))\n",
    "\n",
    "# Third hidden layer\n",
    "nn.add(tf.keras.layers.Dense(units=hidden_nodes_layer3, activation=\"tanh\"))\n",
    "\n",
    "# Fourth hidden layer\n",
    "#nn.add(tf.keras.layers.Dense(units=hidden_nodes_layer4, activation=\"tanh\"))\n",
    "\n",
    "# Output layer\n",
    "nn.add(tf.keras.layers.Dense(units=2, activation=\"sigmoid\"))\n",
    "\n",
    "# Compile the Sequential model together and customize metrics\n",
    "nn.compile(loss='categorical_crossentropy', optimizer=\"adam\", metrics=[\"accuracy\"])\n",
    "\n",
    "checkpoint_path = \"checkpoints/weights.{epoch:02d}.hdf5\"\n",
    "\n",
    "# Create a callback that saves the model's weights every 5 epochs\n",
    "cp_callback = ModelCheckpoint(\n",
    "    filepath=checkpoint_path,\n",
    "    verbose=1,\n",
    "    save_weights_only=True,\n",
    "    save_freq=2543400)\n",
    "\n",
    "# Train the model\n",
    "fit_model = nn.fit(X_train_scaled,y_train,epochs=50,callbacks=[cp_callback])"
   ]
  },
  {
   "cell_type": "code",
   "execution_count": 58,
   "metadata": {},
   "outputs": [
    {
     "name": "stdout",
     "output_type": "stream",
     "text": [
      "8478/8478 - 0s - loss: 0.5648 - accuracy: 0.7285\n",
      "Loss: 0.564801154285142, Accuracy: 0.7284737229347229\n"
     ]
    }
   ],
   "source": [
    "# Evaluate the model using the test data\n",
    "model_loss, model_accuracy = nn.evaluate(X_test_scaled, y_test, verbose=2)\n",
    "print(f\"Loss: {model_loss}, Accuracy: {model_accuracy}\")"
   ]
  },
  {
   "cell_type": "code",
   "execution_count": 59,
   "metadata": {},
   "outputs": [
    {
     "name": "stdout",
     "output_type": "stream",
     "text": [
      "Model: \"sequential_2\"\n",
      "_________________________________________________________________\n",
      "Layer (type)                 Output Shape              Param #   \n",
      "=================================================================\n",
      "dense_8 (Dense)              (None, 50)                1300      \n",
      "_________________________________________________________________\n",
      "dense_9 (Dense)              (None, 50)                2550      \n",
      "_________________________________________________________________\n",
      "dense_10 (Dense)             (None, 50)                2550      \n",
      "_________________________________________________________________\n",
      "dense_11 (Dense)             (None, 2)                 102       \n",
      "=================================================================\n",
      "Total params: 6,502\n",
      "Trainable params: 6,502\n",
      "Non-trainable params: 0\n",
      "_________________________________________________________________\n"
     ]
    }
   ],
   "source": [
    "nn.summary()"
   ]
  },
  {
   "cell_type": "code",
   "execution_count": 67,
   "metadata": {},
   "outputs": [
    {
     "data": {
      "text/plain": [
       "<matplotlib.axes._subplots.AxesSubplot at 0x1fc993a3a88>"
      ]
     },
     "execution_count": 67,
     "metadata": {},
     "output_type": "execute_result"
    },
    {
     "data": {
      "image/png": "[encoded data removed]",
      "text/plain": [
       "<Figure size 432x288 with 1 Axes>"
      ]
     },
     "metadata": {
      "needs_background": "light"
     },
     "output_type": "display_data"
    }
   ],
   "source": [
    "# Create a DataFrame containing training history\n",
    "history_df = pd.DataFrame(fit_model.history, index=range(1,len(fit_model.history[\"loss\"])+1))\n",
    "\n",
    "# Plot the loss\n",
    "history_df.plot(y=\"loss\")"
   ]
  },
  {
   "cell_type": "code",
   "execution_count": 90,
   "metadata": {},
   "outputs": [],
   "source": [
    "# Export our model to HDF5 file\n",
    "nn.save(\"models/trained_minus_strat.h5\")"
   ]
  },
  {
   "cell_type": "code",
   "execution_count": null,
   "metadata": {},
   "outputs": [],
   "source": []
  }
 ],
 "metadata": {
  "kernelspec": {
   "display_name": "tf-2",
   "language": "python",
   "name": "tf-2"
  },
  "language_info": {
   "codemirror_mode": {
    "name": "ipython",
    "version": 3
   },
   "file_extension": ".py",
   "mimetype": "text/x-python",
   "name": "python",
   "nbconvert_exporter": "python",
   "pygments_lexer": "ipython3",
   "version": "3.7.7"
  }
 },
 "nbformat": 4,
 "nbformat_minor": 4
}
